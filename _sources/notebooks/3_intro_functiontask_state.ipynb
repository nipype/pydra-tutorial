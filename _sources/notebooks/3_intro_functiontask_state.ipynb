{
 "cells": [
  {
   "cell_type": "markdown",
   "id": "4c244cb9",
   "metadata": {},
   "source": [
    "# 3. Tasks with States\n",
    "\n",
    "Task might be run for a single set of input values or we can generate multiple sets, that will be called \"states\". If we want to run our `Task` multiple times we have to provide an input that is an iterable and specify the way we want to map values of the inputs to the specific states. In order to do it, we set so-called `splitter`.\n",
    "\n",
    "Let's start from a simple `FunctionTask` that takes a list as an input:"
   ]
  },
  {
   "cell_type": "code",
   "execution_count": 1,
   "id": "83e82cab",
   "metadata": {
    "jupyter": {
     "outputs_hidden": false
    },
    "pycharm": {
     "name": "#%%\n"
    }
   },
   "outputs": [],
   "source": [
    "import nest_asyncio\n",
    "\n",
    "nest_asyncio.apply()"
   ]
  },
  {
   "cell_type": "code",
   "execution_count": 2,
   "id": "90cc6d62",
   "metadata": {},
   "outputs": [],
   "source": [
    "import pydra\n",
    "\n",
    "\n",
    "@pydra.mark.task\n",
    "def add_two(x):\n",
    "    return x + 2\n",
    "\n",
    "\n",
    "task1 = add_two(x=[1, 2, 3])"
   ]
  },
  {
   "cell_type": "markdown",
   "id": "8243ef6e",
   "metadata": {},
   "source": [
    "Before we set any splitter, the task's `state` should be `None`"
   ]
  },
  {
   "cell_type": "code",
   "execution_count": 3,
   "id": "0e4d3c3d",
   "metadata": {},
   "outputs": [
    {
     "data": {
      "text/plain": [
       "True"
      ]
     },
     "execution_count": 3,
     "metadata": {},
     "output_type": "execute_result"
    }
   ],
   "source": [
    "task1.state is None"
   ]
  },
  {
   "cell_type": "markdown",
   "id": "41d7406c",
   "metadata": {},
   "source": [
    "Now, we can set the `splitter` by using the `split` method. Since our task has only one input, there is only one option to create a set of inputs, i.e. `splitter=\"x\"`:"
   ]
  },
  {
   "cell_type": "code",
   "execution_count": 4,
   "id": "e741cbf1",
   "metadata": {},
   "outputs": [
    {
     "data": {
      "text/plain": [
       "<pydra.engine.task.FunctionTask at 0x7f64d8015dc0>"
      ]
     },
     "execution_count": 4,
     "metadata": {},
     "output_type": "execute_result"
    }
   ],
   "source": [
    "task1.split('x')"
   ]
  },
  {
   "cell_type": "markdown",
   "id": "0b2384d3",
   "metadata": {},
   "source": [
    "Now, we can check that our task has a `state`:"
   ]
  },
  {
   "cell_type": "code",
   "execution_count": 5,
   "id": "7141ede3",
   "metadata": {},
   "outputs": [
    {
     "data": {
      "text/plain": [
       "<pydra.engine.state.State at 0x7f64c8e94850>"
      ]
     },
     "execution_count": 5,
     "metadata": {},
     "output_type": "execute_result"
    }
   ],
   "source": [
    "task1.state"
   ]
  },
  {
   "cell_type": "markdown",
   "id": "518552d6",
   "metadata": {},
   "source": [
    "And we can print information about the state:"
   ]
  },
  {
   "cell_type": "code",
   "execution_count": 6,
   "id": "d198b913",
   "metadata": {},
   "outputs": [
    {
     "name": "stdout",
     "output_type": "stream",
     "text": [
      "State for add_two with a splitter: add_two.x and combiner: []\n"
     ]
    }
   ],
   "source": [
    "print(task1.state)"
   ]
  },
  {
   "cell_type": "markdown",
   "id": "37e37c32",
   "metadata": {},
   "source": [
    "within the `state` information about the splitter has been stored:"
   ]
  },
  {
   "cell_type": "code",
   "execution_count": 7,
   "id": "0bf4a3ca",
   "metadata": {},
   "outputs": [
    {
     "data": {
      "text/plain": [
       "'add_two.x'"
      ]
     },
     "execution_count": 7,
     "metadata": {},
     "output_type": "execute_result"
    }
   ],
   "source": [
    "task1.state.splitter"
   ]
  },
  {
   "cell_type": "markdown",
   "id": "2274634a",
   "metadata": {},
   "source": [
    "Note, that *pydra* adds name of the function to the name of the input.\n",
    "\n",
    "Now, we can run the task and check results:"
   ]
  },
  {
   "cell_type": "code",
   "execution_count": 8,
   "id": "57d0d29f",
   "metadata": {},
   "outputs": [
    {
     "data": {
      "text/plain": [
       "[Result(output=Output(out=3), runtime=None, errored=False),\n",
       " Result(output=Output(out=4), runtime=None, errored=False),\n",
       " Result(output=Output(out=5), runtime=None, errored=False)]"
      ]
     },
     "execution_count": 8,
     "metadata": {},
     "output_type": "execute_result"
    }
   ],
   "source": [
    "task1()\n",
    "task1.result()"
   ]
  },
  {
   "cell_type": "markdown",
   "id": "e487534b",
   "metadata": {},
   "source": [
    "We can also return results together with values of the input, we just have to set an additional argument `return_inputs` to `True` (or `val`)"
   ]
  },
  {
   "cell_type": "code",
   "execution_count": 9,
   "id": "766e30f5",
   "metadata": {},
   "outputs": [
    {
     "data": {
      "text/plain": [
       "[({'add_two.x': 1}, Result(output=Output(out=3), runtime=None, errored=False)),\n",
       " ({'add_two.x': 2}, Result(output=Output(out=4), runtime=None, errored=False)),\n",
       " ({'add_two.x': 3}, Result(output=Output(out=5), runtime=None, errored=False))]"
      ]
     },
     "execution_count": 9,
     "metadata": {},
     "output_type": "execute_result"
    }
   ],
   "source": [
    "task1.result(return_inputs=True)"
   ]
  },
  {
   "cell_type": "markdown",
   "id": "a48fcd57",
   "metadata": {},
   "source": [
    "If we want to return indices instead of values, we can set `return_inputs` to `ind`"
   ]
  },
  {
   "cell_type": "code",
   "execution_count": 10,
   "id": "e8f220e0",
   "metadata": {},
   "outputs": [
    {
     "data": {
      "text/plain": [
       "[({'add_two.x': 0}, Result(output=Output(out=3), runtime=None, errored=False)),\n",
       " ({'add_two.x': 1}, Result(output=Output(out=4), runtime=None, errored=False)),\n",
       " ({'add_two.x': 2}, Result(output=Output(out=5), runtime=None, errored=False))]"
      ]
     },
     "execution_count": 10,
     "metadata": {},
     "output_type": "execute_result"
    }
   ],
   "source": [
    "task1.result(return_inputs='ind')"
   ]
  },
  {
   "cell_type": "markdown",
   "id": "dd1ef579",
   "metadata": {},
   "source": [
    "For tasks with a state *pydra* prepare all sets of inputs and run the task for each of the set. We could simply represent this by the following figure:"
   ]
  },
  {
   "cell_type": "markdown",
   "id": "392bb860",
   "metadata": {},
   "source": [
    "![nd_spl_1.png](../figures/nd_spl_1.png)"
   ]
  },
  {
   "cell_type": "markdown",
   "id": "e097606e",
   "metadata": {},
   "source": [
    "## Multiple inputs and state splitting\n",
    "\n",
    "We can also use `State` for functions with multiple inputs:"
   ]
  },
  {
   "cell_type": "code",
   "execution_count": 11,
   "id": "5f971c76",
   "metadata": {},
   "outputs": [],
   "source": [
    "@pydra.mark.task\n",
    "def add_var(a, b):\n",
    "    return a + b"
   ]
  },
  {
   "cell_type": "markdown",
   "id": "63bb5bad",
   "metadata": {},
   "source": [
    "Now we have more options to define `splitter`, it depends on the type of inputs and on our application. For example, we could have `a` that is a list, `b` that is a single value, and split over `a` values:"
   ]
  },
  {
   "cell_type": "code",
   "execution_count": 12,
   "id": "f09dfa9e",
   "metadata": {},
   "outputs": [
    {
     "data": {
      "text/plain": [
       "[Result(output=Output(out=11), runtime=None, errored=False),\n",
       " Result(output=Output(out=12), runtime=None, errored=False),\n",
       " Result(output=Output(out=13), runtime=None, errored=False)]"
      ]
     },
     "execution_count": 12,
     "metadata": {},
     "output_type": "execute_result"
    }
   ],
   "source": [
    "task2 = add_var(a=[1, 2, 3], b=10).split('a')\n",
    "task2()\n",
    "task2.result()"
   ]
  },
  {
   "cell_type": "markdown",
   "id": "70878ae6",
   "metadata": {},
   "source": [
    "Now we have three results for each element from the `a` list and the value of `b` is always the same."
   ]
  },
  {
   "cell_type": "markdown",
   "id": "9f71e9b3",
   "metadata": {},
   "source": [
    "![nd_spl_2.png](../figures/nd_spl_2.png)"
   ]
  },
  {
   "cell_type": "markdown",
   "id": "e0e28323",
   "metadata": {},
   "source": [
    "But we can have lists for both inputs, and use both inputs in the splitter. Let's assume that `a` and `b` are two elements lists."
   ]
  },
  {
   "cell_type": "code",
   "execution_count": 13,
   "id": "28d2064e",
   "metadata": {},
   "outputs": [],
   "source": [
    "task3 = add_var(a=[1, 2], b=[10, 100])"
   ]
  },
  {
   "cell_type": "markdown",
   "id": "e7c63f1e",
   "metadata": {},
   "source": [
    "Now, we have two options to map the input values, we might want to run the task for two sets of values: (`a`=1, `b`=10) and (`a`=2, `b`=100), or we might want to run the task for four sets: (`a`=1, `b`=10), (`a`=1, `b`=100), (`a`=2, `b`=10) and (`a`=2, `b`=100).\n",
    "\n",
    "**The first situation will be represented by the so-called \"scalar\" splitter, the later by the so-called \"outer\" splitter.**"
   ]
  },
  {
   "cell_type": "markdown",
   "id": "2e4c2e9b",
   "metadata": {},
   "source": [
    "### Scalar splitter\n",
    "\n",
    "Let's start from the scalar splitter, that uses parentheses in the syntax:"
   ]
  },
  {
   "cell_type": "code",
   "execution_count": 14,
   "id": "a888d727",
   "metadata": {},
   "outputs": [
    {
     "data": {
      "text/plain": [
       "[Result(output=Output(out=11), runtime=None, errored=False),\n",
       " Result(output=Output(out=102), runtime=None, errored=False)]"
      ]
     },
     "execution_count": 14,
     "metadata": {},
     "output_type": "execute_result"
    }
   ],
   "source": [
    "task3.split(('a', 'b'))\n",
    "task3()\n",
    "task3.result()"
   ]
  },
  {
   "cell_type": "markdown",
   "id": "2a248500",
   "metadata": {},
   "source": [
    "As we expected, we have two outputs: `1+10=11` and `2+100=102`.\n",
    "\n",
    "We can represent the execution by the graph:"
   ]
  },
  {
   "cell_type": "markdown",
   "id": "3addd76d",
   "metadata": {},
   "source": [
    "![nd_spl_4.png](../figures/nd_spl_4.png)"
   ]
  },
  {
   "cell_type": "markdown",
   "id": "5ac40139",
   "metadata": {},
   "source": [
    "### Outer splitter\n",
    "\n",
    "For the outer splitter we will use brackets:"
   ]
  },
  {
   "cell_type": "code",
   "execution_count": 15,
   "id": "95b0790e",
   "metadata": {},
   "outputs": [
    {
     "data": {
      "text/plain": [
       "[Result(output=Output(out=11), runtime=None, errored=False),\n",
       " Result(output=Output(out=101), runtime=None, errored=False),\n",
       " Result(output=Output(out=12), runtime=None, errored=False),\n",
       " Result(output=Output(out=102), runtime=None, errored=False)]"
      ]
     },
     "execution_count": 15,
     "metadata": {},
     "output_type": "execute_result"
    }
   ],
   "source": [
    "task4 = add_var(a=[1, 2], b=[10, 100])\n",
    "task4.split(['a', 'b'])\n",
    "task4()\n",
    "task4.result()"
   ]
  },
  {
   "cell_type": "markdown",
   "id": "9073a1cf",
   "metadata": {},
   "source": [
    "Now, we have results for all of the combinations of values from `a` and `b`."
   ]
  },
  {
   "cell_type": "markdown",
   "id": "4f9e3f02",
   "metadata": {},
   "source": [
    "![nd_spl_3.png](../figures/nd_spl_3.png)"
   ]
  },
  {
   "cell_type": "markdown",
   "id": "700a2511",
   "metadata": {},
   "source": [
    "Note, that once you set the splitter, you will get error when you try to set the splitter again. However, you can always set `overwrite` to `True` if you really intend to change the splitter."
   ]
  },
  {
   "cell_type": "code",
   "execution_count": 16,
   "id": "6bbc5b52",
   "metadata": {
    "tags": [
     "raises-exception"
    ]
   },
   "outputs": [
    {
     "ename": "Exception",
     "evalue": "splitter has been already set, if you want to overwrite it - use overwrite=True",
     "output_type": "error",
     "traceback": [
      "\u001b[0;31m---------------------------------------------------------------------------\u001b[0m",
      "\u001b[0;31mException\u001b[0m                                 Traceback (most recent call last)",
      "Input \u001b[0;32mIn [16]\u001b[0m, in \u001b[0;36m<cell line: 1>\u001b[0;34m()\u001b[0m\n\u001b[0;32m----> 1\u001b[0m \u001b[43mtask4\u001b[49m\u001b[38;5;241;43m.\u001b[39;49m\u001b[43msplit\u001b[49m\u001b[43m(\u001b[49m\u001b[43m(\u001b[49m\u001b[38;5;124;43m'\u001b[39;49m\u001b[38;5;124;43ma\u001b[39;49m\u001b[38;5;124;43m'\u001b[39;49m\u001b[43m,\u001b[49m\u001b[43m \u001b[49m\u001b[38;5;124;43m'\u001b[39;49m\u001b[38;5;124;43mb\u001b[39;49m\u001b[38;5;124;43m'\u001b[39;49m\u001b[43m)\u001b[49m\u001b[43m)\u001b[49m\n",
      "File \u001b[0;32m/opt/hostedtoolcache/Python/3.9.13/x64/lib/python3.9/site-packages/pydra/engine/core.py:541\u001b[0m, in \u001b[0;36mTaskBase.split\u001b[0;34m(self, splitter, overwrite, cont_dim, **kwargs)\u001b[0m\n\u001b[1;32m    539\u001b[0m \u001b[38;5;66;03m# if user want to update the splitter, overwrite has to be True\u001b[39;00m\n\u001b[1;32m    540\u001b[0m \u001b[38;5;28;01mif\u001b[39;00m \u001b[38;5;28mself\u001b[39m\u001b[38;5;241m.\u001b[39mstate \u001b[38;5;129;01mand\u001b[39;00m \u001b[38;5;129;01mnot\u001b[39;00m overwrite \u001b[38;5;129;01mand\u001b[39;00m \u001b[38;5;28mself\u001b[39m\u001b[38;5;241m.\u001b[39mstate\u001b[38;5;241m.\u001b[39msplitter \u001b[38;5;241m!=\u001b[39m splitter:\n\u001b[0;32m--> 541\u001b[0m     \u001b[38;5;28;01mraise\u001b[39;00m \u001b[38;5;167;01mException\u001b[39;00m(\n\u001b[1;32m    542\u001b[0m         \u001b[38;5;124m\"\u001b[39m\u001b[38;5;124msplitter has been already set, \u001b[39m\u001b[38;5;124m\"\u001b[39m\n\u001b[1;32m    543\u001b[0m         \u001b[38;5;124m\"\u001b[39m\u001b[38;5;124mif you want to overwrite it - use overwrite=True\u001b[39m\u001b[38;5;124m\"\u001b[39m\n\u001b[1;32m    544\u001b[0m     )\n\u001b[1;32m    545\u001b[0m \u001b[38;5;28;01mif\u001b[39;00m cont_dim:\n\u001b[1;32m    546\u001b[0m     \u001b[38;5;28;01mfor\u001b[39;00m key, vel \u001b[38;5;129;01min\u001b[39;00m cont_dim\u001b[38;5;241m.\u001b[39mitems():\n",
      "\u001b[0;31mException\u001b[0m: splitter has been already set, if you want to overwrite it - use overwrite=True"
     ]
    }
   ],
   "source": [
    "task4.split(('a', 'b'))"
   ]
  },
  {
   "cell_type": "markdown",
   "id": "3d6bccb4",
   "metadata": {},
   "source": [
    "For more inputs we can create more complex splitter, and use scalar and outer splitters together. **Note, that the scalar splitter can only work for lists that have the same length, but the outer splitter doesn't have this limitation.**\n",
    "\n",
    "Let's run one more example that takes four inputs, `x` and `y` components of two vectors, and calculates all possible sums of vectors. `x` components should be kept together with corresponding `y` components (i.e. scalar splitters: `(\"x1\", \"y1\")` and `(\"x2\", \"y2\")`), but we should use outer splitter for two vectors to get all combinations."
   ]
  },
  {
   "cell_type": "code",
   "execution_count": 17,
   "id": "fd9b9b8e",
   "metadata": {},
   "outputs": [
    {
     "data": {
      "text/plain": [
       "[Result(output=Output(out=(20, 11)), runtime=None, errored=False),\n",
       " Result(output=Output(out=(30, 21)), runtime=None, errored=False),\n",
       " Result(output=Output(out=(40, 31)), runtime=None, errored=False),\n",
       " Result(output=Output(out=(30, 12)), runtime=None, errored=False),\n",
       " Result(output=Output(out=(40, 22)), runtime=None, errored=False),\n",
       " Result(output=Output(out=(50, 32)), runtime=None, errored=False)]"
      ]
     },
     "execution_count": 17,
     "metadata": {},
     "output_type": "execute_result"
    }
   ],
   "source": [
    "@pydra.mark.task\n",
    "def add_vector(x1, y1, x2, y2):\n",
    "    return (x1 + x2, y1 + y2)\n",
    "\n",
    "\n",
    "task5 = add_vector(\n",
    "    name='add_vect',\n",
    "    output_names=['x', 'y'],\n",
    "    x1=[10, 20],\n",
    "    y1=[1, 2],\n",
    "    x2=[10, 20, 30],\n",
    "    y2=[10, 20, 30],\n",
    ")\n",
    "task5.split(splitter=[('x1', 'y1'), ('x2', 'y2')])\n",
    "task5()\n",
    "task5.result()"
   ]
  },
  {
   "cell_type": "markdown",
   "id": "b47d2f19",
   "metadata": {},
   "source": [
    "We should get six outputs: two elements for vector1 times three elements for vector2."
   ]
  },
  {
   "cell_type": "markdown",
   "id": "01fa9690",
   "metadata": {},
   "source": [
    "## Combining the output\n",
    "\n",
    "When we use `splitter`, we can also define `combiner`, if we want to combine together the results.\n",
    "\n",
    "If we take the `task4` as an example and combine all results for each element of the input `b`, we can modify the task as follows:"
   ]
  },
  {
   "cell_type": "code",
   "execution_count": 18,
   "id": "f4b96a3c",
   "metadata": {},
   "outputs": [
    {
     "data": {
      "text/plain": [
       "[[Result(output=Output(out=11), runtime=None, errored=False),\n",
       "  Result(output=Output(out=101), runtime=None, errored=False)],\n",
       " [Result(output=Output(out=12), runtime=None, errored=False),\n",
       "  Result(output=Output(out=102), runtime=None, errored=False)]]"
      ]
     },
     "execution_count": 18,
     "metadata": {},
     "output_type": "execute_result"
    }
   ],
   "source": [
    "task5 = add_var(a=[1, 2], b=[10, 100])\n",
    "task5.split(['a', 'b'])\n",
    "# adding combiner\n",
    "task5.combine('b')\n",
    "task5()\n",
    "task5.result()"
   ]
  },
  {
   "cell_type": "markdown",
   "id": "1d25120b",
   "metadata": {},
   "source": [
    "Now our result contains two elements, each one is a list. The first one contains results for `a=1` and both values of `b`, and the second contains results for `a=2` and both values of `b`. Let's print the result again using `return_inputs`:"
   ]
  },
  {
   "cell_type": "code",
   "execution_count": 19,
   "id": "04102220",
   "metadata": {},
   "outputs": [
    {
     "name": "stdout",
     "output_type": "stream",
     "text": [
      "first list, a=1: [({'add_var.a': 1, 'add_var.b': 10}, Result(output=Output(out=11), runtime=None, errored=False)), ({'add_var.a': 1, 'add_var.b': 100}, Result(output=Output(out=101), runtime=None, errored=False))]\n",
      "\n",
      " second list, a=2: [({'add_var.a': 2, 'add_var.b': 10}, Result(output=Output(out=12), runtime=None, errored=False)), ({'add_var.a': 2, 'add_var.b': 100}, Result(output=Output(out=102), runtime=None, errored=False))]\n"
     ]
    }
   ],
   "source": [
    "all_results = task5.result(return_inputs=True)\n",
    "print(f'first list, a=1: {all_results[0]}')\n",
    "print(f'\\n second list, a=2: {all_results[1]}')"
   ]
  },
  {
   "cell_type": "markdown",
   "id": "b05aecae",
   "metadata": {},
   "source": [
    "![nd_spl_3_comb1.png](../figures/nd_spl_3_comb1.png)"
   ]
  },
  {
   "cell_type": "markdown",
   "id": "145733e5",
   "metadata": {},
   "source": [
    "But we could also group all elements from the input `a` and have a different combined output:"
   ]
  },
  {
   "cell_type": "code",
   "execution_count": 20,
   "id": "2176f91c",
   "metadata": {},
   "outputs": [
    {
     "data": {
      "text/plain": [
       "[[Result(output=Output(out=11), runtime=None, errored=False),\n",
       "  Result(output=Output(out=12), runtime=None, errored=False)],\n",
       " [Result(output=Output(out=101), runtime=None, errored=False),\n",
       "  Result(output=Output(out=102), runtime=None, errored=False)]]"
      ]
     },
     "execution_count": 20,
     "metadata": {},
     "output_type": "execute_result"
    }
   ],
   "source": [
    "task6 = add_var(a=[1, 2], b=[10, 100])\n",
    "task6.split(['a', 'b'])\n",
    "# changing the combiner\n",
    "task6.combine('a')\n",
    "task6()\n",
    "task6.result()"
   ]
  },
  {
   "cell_type": "markdown",
   "id": "14d2726d",
   "metadata": {},
   "source": [
    "We still have two elements in our results, but this time the first element contains results for `b=10` and both values of `a`, and the second contains results for `b=100` and both values of `a`."
   ]
  },
  {
   "cell_type": "code",
   "execution_count": 21,
   "id": "50871fca",
   "metadata": {},
   "outputs": [
    {
     "name": "stdout",
     "output_type": "stream",
     "text": [
      "first list, b=10: [({'add_var.a': 1, 'add_var.b': 10}, Result(output=Output(out=11), runtime=None, errored=False)), ({'add_var.a': 2, 'add_var.b': 10}, Result(output=Output(out=12), runtime=None, errored=False))]\n",
      "\n",
      " second list, b=100: [({'add_var.a': 1, 'add_var.b': 100}, Result(output=Output(out=101), runtime=None, errored=False)), ({'add_var.a': 2, 'add_var.b': 100}, Result(output=Output(out=102), runtime=None, errored=False))]\n"
     ]
    }
   ],
   "source": [
    "all_results = task6.result(return_inputs=True)\n",
    "print(f'first list, b=10: {all_results[0]}')\n",
    "print(f'\\n second list, b=100: {all_results[1]}')"
   ]
  },
  {
   "cell_type": "markdown",
   "id": "05008052",
   "metadata": {},
   "source": [
    "![nd_spl_3_comb2.png](../figures/nd_spl_3_comb2.png)"
   ]
  },
  {
   "cell_type": "markdown",
   "id": "7646fa20",
   "metadata": {},
   "source": [
    "We can also combine all elements by providing a list of all inputs to the `combiner`:"
   ]
  },
  {
   "cell_type": "code",
   "execution_count": 22,
   "id": "7f5ed7f9",
   "metadata": {},
   "outputs": [
    {
     "data": {
      "text/plain": [
       "[Result(output=Output(out=11), runtime=None, errored=False),\n",
       " Result(output=Output(out=101), runtime=None, errored=False),\n",
       " Result(output=Output(out=12), runtime=None, errored=False),\n",
       " Result(output=Output(out=102), runtime=None, errored=False)]"
      ]
     },
     "execution_count": 22,
     "metadata": {},
     "output_type": "execute_result"
    }
   ],
   "source": [
    "task7 = add_var(a=[1, 2], b=[10, 100])\n",
    "task7.split(['a', 'b'])\n",
    "# combining all inputs\n",
    "task7.combine(['a', 'b'])\n",
    "task7()\n",
    "task7.result()"
   ]
  },
  {
   "cell_type": "markdown",
   "id": "92c53724",
   "metadata": {},
   "source": [
    "This time the output contains one element that is a list of all outputs:"
   ]
  },
  {
   "cell_type": "markdown",
   "id": "7346f3ff",
   "metadata": {},
   "source": [
    "![nd_spl_3_comb3.png](../figures/nd_spl_3_comb3.png)"
   ]
  },
  {
   "cell_type": "markdown",
   "id": "9bbe0e39",
   "metadata": {},
   "source": [
    "## Lists as an input\n",
    "\n",
    "Note that list can be used as an input even without using any splitter, there are functions that take a list as a single input value:"
   ]
  },
  {
   "cell_type": "code",
   "execution_count": 23,
   "id": "013f1fd0",
   "metadata": {},
   "outputs": [
    {
     "data": {
      "text/plain": [
       "Result(output=Output(out=33.0), runtime=None, errored=False)"
      ]
     },
     "execution_count": 23,
     "metadata": {},
     "output_type": "execute_result"
    }
   ],
   "source": [
    "@pydra.mark.task\n",
    "def moment(lst, n):\n",
    "    return sum([i**n for i in lst]) / len(lst)\n",
    "\n",
    "\n",
    "task8 = moment(n=3, lst=[2, 3, 4])\n",
    "\n",
    "task8()\n",
    "task8.result()"
   ]
  },
  {
   "cell_type": "markdown",
   "id": "6b0eee63",
   "metadata": {},
   "source": [
    "## Exercise 1\n",
    "\n",
    "Let's say we want to calculate squares and cubes of integers from 2 to 5, and combine separately all squares and all cubes:"
   ]
  },
  {
   "cell_type": "markdown",
   "id": "c6719d25",
   "metadata": {},
   "source": [
    "First we will define a function that returns powers:"
   ]
  },
  {
   "cell_type": "code",
   "execution_count": 24,
   "id": "217f35a8",
   "metadata": {
    "tags": [
     "hide-cell"
    ]
   },
   "outputs": [],
   "source": [
    "@pydra.mark.task\n",
    "def power(x, n):\n",
    "    return x**n"
   ]
  },
  {
   "cell_type": "markdown",
   "id": "393cc9f2",
   "metadata": {},
   "source": [
    "Now we can create a task that takes two lists as its input, outer splitter for `x` and `n`, and combine all `x`:"
   ]
  },
  {
   "cell_type": "code",
   "execution_count": 25,
   "id": "7c48ae74",
   "metadata": {
    "tags": [
     "hide-cell"
    ]
   },
   "outputs": [
    {
     "data": {
      "text/plain": [
       "[[Result(output=Output(out=4), runtime=None, errored=False),\n",
       "  Result(output=Output(out=9), runtime=None, errored=False),\n",
       "  Result(output=Output(out=16), runtime=None, errored=False),\n",
       "  Result(output=Output(out=25), runtime=None, errored=False)],\n",
       " [Result(output=Output(out=8), runtime=None, errored=False),\n",
       "  Result(output=Output(out=27), runtime=None, errored=False),\n",
       "  Result(output=Output(out=64), runtime=None, errored=False),\n",
       "  Result(output=Output(out=125), runtime=None, errored=False)]]"
      ]
     },
     "execution_count": 25,
     "metadata": {},
     "output_type": "execute_result"
    }
   ],
   "source": [
    "task_ex1 = power(x=[2, 3, 4, 5], n=[2, 3]).split(['x', 'n']).combine('x')\n",
    "task_ex1()\n",
    "task_ex1.result()"
   ]
  },
  {
   "cell_type": "markdown",
   "id": "704d00b0",
   "metadata": {},
   "source": [
    "The result should contain two list, the first one is for squares, the second for cubes."
   ]
  },
  {
   "cell_type": "code",
   "execution_count": 26,
   "id": "d1cf1662",
   "metadata": {
    "tags": [
     "hide-cell"
    ]
   },
   "outputs": [
    {
     "name": "stdout",
     "output_type": "stream",
     "text": [
      "squares: [4, 9, 16, 25]\n",
      "cubes: [8, 27, 64, 125]\n"
     ]
    }
   ],
   "source": [
    "squares_list = [el.output.out for el in task_ex1.result()[0]]\n",
    "cubes_list = [el.output.out for el in task_ex1.result()[1]]\n",
    "print(f'squares: {squares_list}')\n",
    "print(f'cubes: {cubes_list}')"
   ]
  },
  {
   "cell_type": "markdown",
   "id": "3c1780ef",
   "metadata": {},
   "source": [
    "## Parallel execution\n",
    "\n",
    "We run task multiple times for multiple sets of input, but we didn't talk about the execution time. Let's create a function that sleeps for a second and run for four values:"
   ]
  },
  {
   "cell_type": "code",
   "execution_count": 27,
   "id": "8957172d",
   "metadata": {},
   "outputs": [
    {
     "name": "stdout",
     "output_type": "stream",
     "text": [
      "total time: 2.274793863296509\n"
     ]
    },
    {
     "data": {
      "text/plain": [
       "[Result(output=Output(out=3), runtime=None, errored=False),\n",
       " Result(output=Output(out=4), runtime=None, errored=False),\n",
       " Result(output=Output(out=5), runtime=None, errored=False),\n",
       " Result(output=Output(out=6), runtime=None, errored=False)]"
      ]
     },
     "execution_count": 27,
     "metadata": {},
     "output_type": "execute_result"
    }
   ],
   "source": [
    "import time\n",
    "\n",
    "\n",
    "@pydra.mark.task\n",
    "def add_two_sleep(x):\n",
    "    time.sleep(1)\n",
    "    return x + 2\n",
    "\n",
    "\n",
    "task9 = add_two_sleep(x=[1, 2, 3, 4]).split('x')\n",
    "t0 = time.time()\n",
    "task9()\n",
    "print(f'total time: {time.time() - t0}')\n",
    "task9.result()"
   ]
  },
  {
   "cell_type": "markdown",
   "id": "c422515d",
   "metadata": {},
   "source": [
    "The total time will depend on the machine you are using, but it could be below `1.1s`, so clearly the tasks are running in parallel!\n",
    "\n",
    "If we run `Task` that has a `State`, pydra will automatically create a `Submitter` with a default `Worker` that is `cf`, i.e. `concurrent.futures.ProcessPoolExecutor`.\n",
    "\n",
    "We could also create a `Submitter` first, and than use it to run the task:"
   ]
  },
  {
   "cell_type": "code",
   "execution_count": 28,
   "id": "1ae1165b",
   "metadata": {},
   "outputs": [
    {
     "name": "stdout",
     "output_type": "stream",
     "text": [
      "total time: 2.2868812084198\n",
      "results: [Result(output=Output(out=3), runtime=None, errored=False), Result(output=Output(out=4), runtime=None, errored=False), Result(output=Output(out=5), runtime=None, errored=False), Result(output=Output(out=6), runtime=None, errored=False)]\n"
     ]
    }
   ],
   "source": [
    "task10 = add_two_sleep(x=[1, 2, 3, 4]).split('x')\n",
    "\n",
    "t0 = time.time()\n",
    "with pydra.Submitter(plugin='cf') as sub:\n",
    "    task10(submitter=sub)\n",
    "print(f'total time: {time.time() - t0}')\n",
    "print(f'results: {task10.result()}')"
   ]
  },
  {
   "cell_type": "markdown",
   "id": "40f5e6f0",
   "metadata": {},
   "source": [
    "or we can provide the name of the plugin:"
   ]
  },
  {
   "cell_type": "code",
   "execution_count": 29,
   "id": "ab7e970d",
   "metadata": {},
   "outputs": [
    {
     "name": "stdout",
     "output_type": "stream",
     "text": [
      "total time: 2.2714407444000244\n",
      "results: [Result(output=Output(out=3), runtime=None, errored=False), Result(output=Output(out=4), runtime=None, errored=False), Result(output=Output(out=5), runtime=None, errored=False), Result(output=Output(out=6), runtime=None, errored=False)]\n"
     ]
    }
   ],
   "source": [
    "task11 = add_two_sleep(x=[1, 2, 3, 4]).split('x')\n",
    "\n",
    "t0 = time.time()\n",
    "task11(plugin='cf')\n",
    "print(f'total time: {time.time() - t0}')\n",
    "print(f'results: {task11.result()}')"
   ]
  },
  {
   "cell_type": "markdown",
   "id": "8d35018c",
   "metadata": {},
   "source": [
    "The last option for running the task is to create a `Submitter` first and run the submitter (`Submitter` is also a callable object) with the task as  a `runnable`:"
   ]
  },
  {
   "cell_type": "code",
   "execution_count": 30,
   "id": "3268ffe5",
   "metadata": {},
   "outputs": [
    {
     "name": "stdout",
     "output_type": "stream",
     "text": [
      "total time: 2.333310127258301\n",
      "results: [Result(output=Output(out=3), runtime=None, errored=False), Result(output=Output(out=4), runtime=None, errored=False), Result(output=Output(out=5), runtime=None, errored=False), Result(output=Output(out=6), runtime=None, errored=False)]\n"
     ]
    }
   ],
   "source": [
    "task12 = add_two_sleep(x=[1, 2, 3, 4]).split('x')\n",
    "\n",
    "t0 = time.time()\n",
    "with pydra.Submitter(plugin='cf') as sub:\n",
    "    sub(runnable=task12)\n",
    "print(f'total time: {time.time() - t0}')\n",
    "print(f'results: {task12.result()}')"
   ]
  },
  {
   "cell_type": "markdown",
   "id": "197507ff",
   "metadata": {},
   "source": [
    "All of the execution time should be similar, since all tasks are run by *pydra* in the same way, i.e. *pydra* creates a submitter with `ConcurrentFutures` worker, if a number of processors is not provided, `ConcurrentFutures` takes all available processors as `max_workers`. However, if we want to set a specific number of processors, we can set it using `n_procs` when creating a `Submitter`. Let's see how the execution time changes when we use `n_procs=2`."
   ]
  },
  {
   "cell_type": "code",
   "execution_count": 31,
   "id": "4c997686",
   "metadata": {},
   "outputs": [
    {
     "name": "stdout",
     "output_type": "stream",
     "text": [
      "total time: 2.310961961746216\n",
      "results: [Result(output=Output(out=3), runtime=None, errored=False), Result(output=Output(out=4), runtime=None, errored=False), Result(output=Output(out=5), runtime=None, errored=False), Result(output=Output(out=6), runtime=None, errored=False)]\n"
     ]
    }
   ],
   "source": [
    "task13 = add_two_sleep(x=[1, 2, 3, 4]).split('x')\n",
    "\n",
    "t0 = time.time()\n",
    "with pydra.Submitter(plugin='cf', n_procs=2) as sub:\n",
    "    sub(runnable=task13)\n",
    "print(f'total time: {time.time() - t0}')\n",
    "print(f'results: {task13.result()}')"
   ]
  },
  {
   "cell_type": "markdown",
   "id": "1756db6b",
   "metadata": {},
   "source": [
    "Now, the total time could be significantly different. For example, if your machine has at least 4 processors, the previous `tasks9` - `task12` took around 1s to run, but the task13 took around 2s.\n",
    "If you have 2 processors or less, you should not see any difference in the execution time."
   ]
  }
 ],
 "metadata": {
  "jupytext": {
   "text_representation": {
    "extension": ".md",
    "format_name": "myst",
    "format_version": 0.13,
    "jupytext_version": "1.14.0"
   }
  },
  "kernelspec": {
   "display_name": "Python 3",
   "language": "python",
   "name": "python3"
  },
  "language_info": {
   "codemirror_mode": {
    "name": "ipython",
    "version": 3
   },
   "file_extension": ".py",
   "mimetype": "text/x-python",
   "name": "python",
   "nbconvert_exporter": "python",
   "pygments_lexer": "ipython3",
   "version": "3.9.13"
  },
  "source_map": [
   12,
   20,
   34,
   44,
   48,
   50,
   54,
   56,
   60,
   62,
   66,
   68,
   72,
   74,
   80,
   83,
   87,
   89,
   93,
   95,
   99,
   103,
   109,
   113,
   117,
   121,
   125,
   129,
   133,
   135,
   141,
   147,
   151,
   157,
   161,
   167,
   172,
   176,
   180,
   184,
   188,
   194,
   211,
   215,
   223,
   230,
   234,
   238,
   242,
   246,
   253,
   257,
   261,
   265,
   269,
   276,
   280,
   284,
   290,
   300,
   306,
   310,
   316,
   320,
   326,
   330,
   337,
   343,
   358,
   366,
   374,
   378,
   385,
   389,
   397,
   401,
   409
  ]
 },
 "nbformat": 4,
 "nbformat_minor": 5
}
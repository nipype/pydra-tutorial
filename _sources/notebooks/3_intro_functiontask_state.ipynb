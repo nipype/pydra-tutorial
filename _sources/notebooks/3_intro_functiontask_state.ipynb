{
 "cells": [
  {
   "cell_type": "markdown",
   "id": "d34366f7",
   "metadata": {},
   "source": [
    "# 3. Tasks with States\n",
    "\n",
    "Task might be run for a single set of input values or we can generate multiple sets, that will be called \"states\". If we want to run our `Task` multiple times we have to provide an input that is an iterable and specify the way we want to map values of the inputs to the specific states. In order to do it, we set so-called `splitter`. \n",
    "\n",
    "Let's start from a simple `FunctionTask` that takes a list as an input:"
   ]
  },
  {
   "cell_type": "code",
   "execution_count": 1,
   "id": "8e17e52c",
   "metadata": {
    "jupyter": {
     "outputs_hidden": false
    },
    "pycharm": {
     "name": "#%%\n"
    }
   },
   "outputs": [],
   "source": [
    "import nest_asyncio\n",
    "nest_asyncio.apply()"
   ]
  },
  {
   "cell_type": "code",
   "execution_count": 2,
   "id": "8746711c",
   "metadata": {},
   "outputs": [],
   "source": [
    "import pydra\n",
    "\n",
    "@pydra.mark.task\n",
    "def add_two(x):\n",
    "    return x + 2\n",
    "\n",
    "task1 = add_two(x=[1, 2, 3])"
   ]
  },
  {
   "cell_type": "markdown",
   "id": "82ee26f3",
   "metadata": {},
   "source": [
    "Before we set any splitter, the task's `state` should be `None`"
   ]
  },
  {
   "cell_type": "code",
   "execution_count": 3,
   "id": "5d8c9c4f",
   "metadata": {},
   "outputs": [
    {
     "data": {
      "text/plain": [
       "True"
      ]
     },
     "execution_count": 3,
     "metadata": {},
     "output_type": "execute_result"
    }
   ],
   "source": [
    "task1.state is None"
   ]
  },
  {
   "cell_type": "markdown",
   "id": "0d350ee6",
   "metadata": {},
   "source": [
    "Now, we can set the `splitter` by using the `split` method. Since our task has only one input, there is only one option to create a set of inputs, i.e. `splitter=\"x\"`:"
   ]
  },
  {
   "cell_type": "code",
   "execution_count": 4,
   "id": "2fc9883b",
   "metadata": {},
   "outputs": [
    {
     "data": {
      "text/plain": [
       "<pydra.engine.task.FunctionTask at 0x7fd784c49d30>"
      ]
     },
     "execution_count": 4,
     "metadata": {},
     "output_type": "execute_result"
    }
   ],
   "source": [
    "task1.split(\"x\")"
   ]
  },
  {
   "cell_type": "markdown",
   "id": "84397e4c",
   "metadata": {},
   "source": [
    "Now, we can check that our task has a `state`:"
   ]
  },
  {
   "cell_type": "code",
   "execution_count": 5,
   "id": "51a387d2",
   "metadata": {},
   "outputs": [
    {
     "data": {
      "text/plain": [
       "<pydra.engine.state.State at 0x7fd784ae4d60>"
      ]
     },
     "execution_count": 5,
     "metadata": {},
     "output_type": "execute_result"
    }
   ],
   "source": [
    "task1.state"
   ]
  },
  {
   "cell_type": "markdown",
   "id": "31cadeae",
   "metadata": {},
   "source": [
    "And we can print information about the state:"
   ]
  },
  {
   "cell_type": "code",
   "execution_count": 6,
   "id": "05f0325d",
   "metadata": {},
   "outputs": [
    {
     "name": "stdout",
     "output_type": "stream",
     "text": [
      "State for add_two with a splitter: add_two.x and combiner: []\n"
     ]
    }
   ],
   "source": [
    "print(task1.state)"
   ]
  },
  {
   "cell_type": "markdown",
   "id": "e8950d97",
   "metadata": {},
   "source": [
    "within the `state` information about the splitter has been stored:"
   ]
  },
  {
   "cell_type": "code",
   "execution_count": 7,
   "id": "f8f58713",
   "metadata": {},
   "outputs": [
    {
     "data": {
      "text/plain": [
       "'add_two.x'"
      ]
     },
     "execution_count": 7,
     "metadata": {},
     "output_type": "execute_result"
    }
   ],
   "source": [
    "task1.state.splitter"
   ]
  },
  {
   "cell_type": "markdown",
   "id": "b2028d13",
   "metadata": {},
   "source": [
    "Note, that *pydra* adds name of the function to the name of the input.\n",
    "\n",
    "Now, we can run the task and check results:"
   ]
  },
  {
   "cell_type": "code",
   "execution_count": 8,
   "id": "0bb4a090",
   "metadata": {},
   "outputs": [
    {
     "data": {
      "text/plain": [
       "[Result(output=Output(out=3), runtime=None, errored=False),\n",
       " Result(output=Output(out=4), runtime=None, errored=False),\n",
       " Result(output=Output(out=5), runtime=None, errored=False)]"
      ]
     },
     "execution_count": 8,
     "metadata": {},
     "output_type": "execute_result"
    }
   ],
   "source": [
    "task1()\n",
    "task1.result()"
   ]
  },
  {
   "cell_type": "markdown",
   "id": "0ea4ef71",
   "metadata": {},
   "source": [
    "We can also return results together with values of the input, we just have to set an additional argument `return_inputs` to `True` (or `val`)"
   ]
  },
  {
   "cell_type": "code",
   "execution_count": 9,
   "id": "87e9a1ec",
   "metadata": {},
   "outputs": [
    {
     "data": {
      "text/plain": [
       "[({'add_two.x': 1}, Result(output=Output(out=3), runtime=None, errored=False)),\n",
       " ({'add_two.x': 2}, Result(output=Output(out=4), runtime=None, errored=False)),\n",
       " ({'add_two.x': 3}, Result(output=Output(out=5), runtime=None, errored=False))]"
      ]
     },
     "execution_count": 9,
     "metadata": {},
     "output_type": "execute_result"
    }
   ],
   "source": [
    "task1.result(return_inputs=True)"
   ]
  },
  {
   "cell_type": "markdown",
   "id": "afafc72c",
   "metadata": {},
   "source": [
    "If we want to return indices instead of values, we can set `return_inputs` to `ind`"
   ]
  },
  {
   "cell_type": "code",
   "execution_count": 10,
   "id": "c03214b8",
   "metadata": {},
   "outputs": [
    {
     "data": {
      "text/plain": [
       "[({'add_two.x': 0}, Result(output=Output(out=3), runtime=None, errored=False)),\n",
       " ({'add_two.x': 1}, Result(output=Output(out=4), runtime=None, errored=False)),\n",
       " ({'add_two.x': 2}, Result(output=Output(out=5), runtime=None, errored=False))]"
      ]
     },
     "execution_count": 10,
     "metadata": {},
     "output_type": "execute_result"
    }
   ],
   "source": [
    "task1.result(return_inputs=\"ind\")"
   ]
  },
  {
   "cell_type": "markdown",
   "id": "a7f88d83",
   "metadata": {},
   "source": [
    "For tasks with a state *pydra* prepare all sets of inputs and run the task for each of the set. We could simply represent this by the following figure:"
   ]
  },
  {
   "cell_type": "markdown",
   "id": "d18814fe",
   "metadata": {},
   "source": [
    "![nd_spl_1.png](../figures/nd_spl_1.png)"
   ]
  },
  {
   "cell_type": "markdown",
   "id": "7cd1adb0",
   "metadata": {},
   "source": [
    "## Multiple inputs and state splitting\n",
    "\n",
    "We can also use `State` for functions with multiple inputs:"
   ]
  },
  {
   "cell_type": "code",
   "execution_count": 11,
   "id": "67bcb427",
   "metadata": {},
   "outputs": [],
   "source": [
    "@pydra.mark.task\n",
    "def add_var(a, b):\n",
    "    return a + b"
   ]
  },
  {
   "cell_type": "markdown",
   "id": "aeb996f7",
   "metadata": {},
   "source": [
    "Now we have more options to define `splitter`, it depends on the type of inputs and on our application. For example, we could have `a` that is a list, `b` that is a single value, and split over `a` values:"
   ]
  },
  {
   "cell_type": "code",
   "execution_count": 12,
   "id": "449ea003",
   "metadata": {},
   "outputs": [
    {
     "data": {
      "text/plain": [
       "[Result(output=Output(out=11), runtime=None, errored=False),\n",
       " Result(output=Output(out=12), runtime=None, errored=False),\n",
       " Result(output=Output(out=13), runtime=None, errored=False)]"
      ]
     },
     "execution_count": 12,
     "metadata": {},
     "output_type": "execute_result"
    }
   ],
   "source": [
    "task2 = add_var(a=[1, 2, 3], b=10).split(\"a\")\n",
    "task2()\n",
    "task2.result()"
   ]
  },
  {
   "cell_type": "markdown",
   "id": "cfbcb6d4",
   "metadata": {},
   "source": [
    "Now we have three results for each element from the `a` list and the value of `b` is always the same."
   ]
  },
  {
   "cell_type": "markdown",
   "id": "9abc5375",
   "metadata": {},
   "source": [
    "![nd_spl_2.png](../figures/nd_spl_2.png)"
   ]
  },
  {
   "cell_type": "markdown",
   "id": "97679455",
   "metadata": {},
   "source": [
    "But we can have lists for both inputs, and use both inputs in the splitter. Let's assume that `a` and `b` are two elements lists."
   ]
  },
  {
   "cell_type": "code",
   "execution_count": 13,
   "id": "0bcaaf27",
   "metadata": {},
   "outputs": [],
   "source": [
    "task3 = add_var(a=[1, 2], b=[10, 100])"
   ]
  },
  {
   "cell_type": "markdown",
   "id": "e29eb987",
   "metadata": {},
   "source": [
    "Now, we have two options to map the input values, we might want to run the task for two sets of values: (`a`=1, `b`=10) and (`a`=2, `b`=100), or we might want to run the task for four sets: (`a`=1, `b`=10), (`a`=1, `b`=100), (`a`=2, `b`=10) and (`a`=2, `b`=100). \n",
    "\n",
    "**The first situation will be represented by the so-called \"scalar\" splitter, the later by the so-called \"outer\" splitter.**"
   ]
  },
  {
   "cell_type": "markdown",
   "id": "697963ee",
   "metadata": {},
   "source": [
    "### Scalar splitter\n",
    "\n",
    "Let's start from the scalar splitter, that uses parentheses in the syntax:"
   ]
  },
  {
   "cell_type": "code",
   "execution_count": 14,
   "id": "fb8c2940",
   "metadata": {},
   "outputs": [
    {
     "data": {
      "text/plain": [
       "[Result(output=Output(out=11), runtime=None, errored=False),\n",
       " Result(output=Output(out=102), runtime=None, errored=False)]"
      ]
     },
     "execution_count": 14,
     "metadata": {},
     "output_type": "execute_result"
    }
   ],
   "source": [
    "task3.split((\"a\", \"b\"))\n",
    "task3()\n",
    "task3.result()"
   ]
  },
  {
   "cell_type": "markdown",
   "id": "3234a26c",
   "metadata": {},
   "source": [
    "As we expected, we have two outputs: `1+10=11` and `2+100=102`. \n",
    "\n",
    "We can represent the execution by the graph:"
   ]
  },
  {
   "cell_type": "markdown",
   "id": "170613ac",
   "metadata": {},
   "source": [
    "![nd_spl_4.png](../figures/nd_spl_4.png)"
   ]
  },
  {
   "cell_type": "markdown",
   "id": "2ba189d2",
   "metadata": {},
   "source": [
    "### Outer splitter\n",
    "\n",
    "For the outer splitter we will use brackets:"
   ]
  },
  {
   "cell_type": "code",
   "execution_count": 15,
   "id": "0d5b967a",
   "metadata": {},
   "outputs": [
    {
     "data": {
      "text/plain": [
       "[Result(output=Output(out=11), runtime=None, errored=False),\n",
       " Result(output=Output(out=101), runtime=None, errored=False),\n",
       " Result(output=Output(out=12), runtime=None, errored=False),\n",
       " Result(output=Output(out=102), runtime=None, errored=False)]"
      ]
     },
     "execution_count": 15,
     "metadata": {},
     "output_type": "execute_result"
    }
   ],
   "source": [
    "task4 = add_var(a=[1, 2], b=[10, 100])\n",
    "task4.split([\"a\", \"b\"])\n",
    "task4()\n",
    "task4.result()"
   ]
  },
  {
   "cell_type": "markdown",
   "id": "43296e97",
   "metadata": {},
   "source": [
    "Now, we have results for all of the combinations of values from `a` and `b`."
   ]
  },
  {
   "cell_type": "markdown",
   "id": "3f41e3ec",
   "metadata": {},
   "source": [
    "![nd_spl_3.png](../figures/nd_spl_3.png)"
   ]
  },
  {
   "cell_type": "markdown",
   "id": "1317a90a",
   "metadata": {},
   "source": [
    "Note, that once you set the splitter, you will get error when you try to set the splitter again. However, you can always set `overwrite` to `True` if you really intend to change the splitter."
   ]
  },
  {
   "cell_type": "code",
   "execution_count": 16,
   "id": "07aa583f",
   "metadata": {
    "tags": [
     "raises-exception"
    ]
   },
   "outputs": [
    {
     "ename": "Exception",
     "evalue": "splitter has been already set, if you want to overwrite it - use overwrite=True",
     "output_type": "error",
     "traceback": [
      "\u001b[0;31m---------------------------------------------------------------------------\u001b[0m",
      "\u001b[0;31mException\u001b[0m                                 Traceback (most recent call last)",
      "Input \u001b[0;32mIn [16]\u001b[0m, in \u001b[0;36m<cell line: 1>\u001b[0;34m()\u001b[0m\n\u001b[0;32m----> 1\u001b[0m \u001b[43mtask4\u001b[49m\u001b[38;5;241;43m.\u001b[39;49m\u001b[43msplit\u001b[49m\u001b[43m(\u001b[49m\u001b[43m(\u001b[49m\u001b[38;5;124;43m\"\u001b[39;49m\u001b[38;5;124;43ma\u001b[39;49m\u001b[38;5;124;43m\"\u001b[39;49m\u001b[43m,\u001b[49m\u001b[43m \u001b[49m\u001b[38;5;124;43m\"\u001b[39;49m\u001b[38;5;124;43mb\u001b[39;49m\u001b[38;5;124;43m\"\u001b[39;49m\u001b[43m)\u001b[49m\u001b[43m)\u001b[49m\n",
      "File \u001b[0;32m/opt/hostedtoolcache/Python/3.9.13/x64/lib/python3.9/site-packages/pydra/engine/core.py:541\u001b[0m, in \u001b[0;36mTaskBase.split\u001b[0;34m(self, splitter, overwrite, cont_dim, **kwargs)\u001b[0m\n\u001b[1;32m    539\u001b[0m \u001b[38;5;66;03m# if user want to update the splitter, overwrite has to be True\u001b[39;00m\n\u001b[1;32m    540\u001b[0m \u001b[38;5;28;01mif\u001b[39;00m \u001b[38;5;28mself\u001b[39m\u001b[38;5;241m.\u001b[39mstate \u001b[38;5;129;01mand\u001b[39;00m \u001b[38;5;129;01mnot\u001b[39;00m overwrite \u001b[38;5;129;01mand\u001b[39;00m \u001b[38;5;28mself\u001b[39m\u001b[38;5;241m.\u001b[39mstate\u001b[38;5;241m.\u001b[39msplitter \u001b[38;5;241m!=\u001b[39m splitter:\n\u001b[0;32m--> 541\u001b[0m     \u001b[38;5;28;01mraise\u001b[39;00m \u001b[38;5;167;01mException\u001b[39;00m(\n\u001b[1;32m    542\u001b[0m         \u001b[38;5;124m\"\u001b[39m\u001b[38;5;124msplitter has been already set, \u001b[39m\u001b[38;5;124m\"\u001b[39m\n\u001b[1;32m    543\u001b[0m         \u001b[38;5;124m\"\u001b[39m\u001b[38;5;124mif you want to overwrite it - use overwrite=True\u001b[39m\u001b[38;5;124m\"\u001b[39m\n\u001b[1;32m    544\u001b[0m     )\n\u001b[1;32m    545\u001b[0m \u001b[38;5;28;01mif\u001b[39;00m cont_dim:\n\u001b[1;32m    546\u001b[0m     \u001b[38;5;28;01mfor\u001b[39;00m key, vel \u001b[38;5;129;01min\u001b[39;00m cont_dim\u001b[38;5;241m.\u001b[39mitems():\n",
      "\u001b[0;31mException\u001b[0m: splitter has been already set, if you want to overwrite it - use overwrite=True"
     ]
    }
   ],
   "source": [
    "task4.split((\"a\", \"b\"))"
   ]
  },
  {
   "cell_type": "markdown",
   "id": "ca3416be",
   "metadata": {},
   "source": [
    "For more inputs we can create more complex splitter, and use scalar and outer splitters together. **Note, that the scalar splitter can only work for lists that have the same length, but the outer splitter doesn't have this limitation.** \n",
    "\n",
    "Let's run one more example that takes four inputs, `x` and `y` components of two vectors, and calculates all possible sums of vectors. `x` components should be kept together with corresponding `y` components (i.e. scalar splitters: `(\"x1\", \"y1\")` and `(\"x2\", \"y2\")`), but we should use outer splitter for two vectors to get all combinations."
   ]
  },
  {
   "cell_type": "code",
   "execution_count": 17,
   "id": "2cdaaca4",
   "metadata": {},
   "outputs": [
    {
     "data": {
      "text/plain": [
       "[Result(output=Output(out=(20, 11)), runtime=None, errored=False),\n",
       " Result(output=Output(out=(30, 21)), runtime=None, errored=False),\n",
       " Result(output=Output(out=(40, 31)), runtime=None, errored=False),\n",
       " Result(output=Output(out=(30, 12)), runtime=None, errored=False),\n",
       " Result(output=Output(out=(40, 22)), runtime=None, errored=False),\n",
       " Result(output=Output(out=(50, 32)), runtime=None, errored=False)]"
      ]
     },
     "execution_count": 17,
     "metadata": {},
     "output_type": "execute_result"
    }
   ],
   "source": [
    "@pydra.mark.task\n",
    "def add_vector(x1, y1, x2, y2):\n",
    "    return (x1 + x2, y1 + y2)\n",
    "\n",
    "task5 = add_vector(name=\"add_vect\", output_names=[\"x\", \"y\"], \n",
    "                   x1=[10, 20], y1=[1, 2], x2=[10, 20, 30], y2=[10, 20, 30])\n",
    "task5.split(splitter=[(\"x1\", \"y1\"), (\"x2\", \"y2\")])\n",
    "task5()\n",
    "task5.result()"
   ]
  },
  {
   "cell_type": "markdown",
   "id": "6995f87b",
   "metadata": {},
   "source": [
    "We should get six outputs: two elements for vector1 times three elements for vector2."
   ]
  },
  {
   "cell_type": "markdown",
   "id": "7647d0c5",
   "metadata": {},
   "source": [
    "## Combining the output\n",
    "\n",
    "When we use `splitter`, we can also define `combiner`, if we want to combine together the results.\n",
    "\n",
    "If we take the `task4` as an example and combine all results for each element of the input `b`, we can modify the task as follows:"
   ]
  },
  {
   "cell_type": "code",
   "execution_count": 18,
   "id": "f69fb1e3",
   "metadata": {},
   "outputs": [
    {
     "data": {
      "text/plain": [
       "[[Result(output=Output(out=11), runtime=None, errored=False),\n",
       "  Result(output=Output(out=101), runtime=None, errored=False)],\n",
       " [Result(output=Output(out=12), runtime=None, errored=False),\n",
       "  Result(output=Output(out=102), runtime=None, errored=False)]]"
      ]
     },
     "execution_count": 18,
     "metadata": {},
     "output_type": "execute_result"
    }
   ],
   "source": [
    "task5 = add_var(a=[1, 2], b=[10, 100])\n",
    "task5.split([\"a\", \"b\"])\n",
    "# adding combiner\n",
    "task5.combine(\"b\")\n",
    "task5()\n",
    "task5.result()"
   ]
  },
  {
   "cell_type": "markdown",
   "id": "1c314753",
   "metadata": {},
   "source": [
    "Now our result contains two elements, each one is a list. The first one contains results for `a=1` and both values of `b`, and the second contains results for `a=2` and both values of `b`. Let's print the result again using `return_inputs`:"
   ]
  },
  {
   "cell_type": "code",
   "execution_count": 19,
   "id": "e8803cf3",
   "metadata": {},
   "outputs": [
    {
     "name": "stdout",
     "output_type": "stream",
     "text": [
      "first list, a=1: [({'add_var.a': 1, 'add_var.b': 10}, Result(output=Output(out=11), runtime=None, errored=False)), ({'add_var.a': 1, 'add_var.b': 100}, Result(output=Output(out=101), runtime=None, errored=False))]\n",
      "\n",
      " second list, a=2: [({'add_var.a': 2, 'add_var.b': 10}, Result(output=Output(out=12), runtime=None, errored=False)), ({'add_var.a': 2, 'add_var.b': 100}, Result(output=Output(out=102), runtime=None, errored=False))]\n"
     ]
    }
   ],
   "source": [
    "all_results = task5.result(return_inputs=True)\n",
    "print(f\"first list, a=1: {all_results[0]}\")\n",
    "print(f\"\\n second list, a=2: {all_results[1]}\")"
   ]
  },
  {
   "cell_type": "markdown",
   "id": "a1c70a7c",
   "metadata": {},
   "source": [
    "![nd_spl_3_comb1.png](../figures/nd_spl_3_comb1.png)"
   ]
  },
  {
   "cell_type": "markdown",
   "id": "968e28aa",
   "metadata": {},
   "source": [
    "But we could also group all elements from the input `a` and have a different combined output:"
   ]
  },
  {
   "cell_type": "code",
   "execution_count": 20,
   "id": "9ecd4df9",
   "metadata": {},
   "outputs": [
    {
     "data": {
      "text/plain": [
       "[[Result(output=Output(out=11), runtime=None, errored=False),\n",
       "  Result(output=Output(out=12), runtime=None, errored=False)],\n",
       " [Result(output=Output(out=101), runtime=None, errored=False),\n",
       "  Result(output=Output(out=102), runtime=None, errored=False)]]"
      ]
     },
     "execution_count": 20,
     "metadata": {},
     "output_type": "execute_result"
    }
   ],
   "source": [
    "task6 = add_var(a=[1, 2], b=[10, 100])\n",
    "task6.split([\"a\", \"b\"])\n",
    "# changing the combiner\n",
    "task6.combine(\"a\")\n",
    "task6()\n",
    "task6.result()"
   ]
  },
  {
   "cell_type": "markdown",
   "id": "369d8c16",
   "metadata": {},
   "source": [
    "We still have two elements in our results, but this time the first element contains results for `b=10` and both values of `a`, and the second contains results for `b=100` and both values of `a`."
   ]
  },
  {
   "cell_type": "code",
   "execution_count": 21,
   "id": "c0ad5183",
   "metadata": {},
   "outputs": [
    {
     "name": "stdout",
     "output_type": "stream",
     "text": [
      "first list, b=10: [({'add_var.a': 1, 'add_var.b': 10}, Result(output=Output(out=11), runtime=None, errored=False)), ({'add_var.a': 2, 'add_var.b': 10}, Result(output=Output(out=12), runtime=None, errored=False))]\n",
      "\n",
      " second list, b=100: [({'add_var.a': 1, 'add_var.b': 100}, Result(output=Output(out=101), runtime=None, errored=False)), ({'add_var.a': 2, 'add_var.b': 100}, Result(output=Output(out=102), runtime=None, errored=False))]\n"
     ]
    }
   ],
   "source": [
    "all_results = task6.result(return_inputs=True)\n",
    "print(f\"first list, b=10: {all_results[0]}\")\n",
    "print(f\"\\n second list, b=100: {all_results[1]}\")"
   ]
  },
  {
   "cell_type": "markdown",
   "id": "dd0384e9",
   "metadata": {},
   "source": [
    "![nd_spl_3_comb2.png](../figures/nd_spl_3_comb2.png)"
   ]
  },
  {
   "cell_type": "markdown",
   "id": "7ec0c0b5",
   "metadata": {},
   "source": [
    "We can also combine all elements by providing a list of all inputs to the `combiner`:"
   ]
  },
  {
   "cell_type": "code",
   "execution_count": 22,
   "id": "7f5aba16",
   "metadata": {},
   "outputs": [
    {
     "data": {
      "text/plain": [
       "[Result(output=Output(out=11), runtime=None, errored=False),\n",
       " Result(output=Output(out=101), runtime=None, errored=False),\n",
       " Result(output=Output(out=12), runtime=None, errored=False),\n",
       " Result(output=Output(out=102), runtime=None, errored=False)]"
      ]
     },
     "execution_count": 22,
     "metadata": {},
     "output_type": "execute_result"
    }
   ],
   "source": [
    "task7 = add_var(a=[1, 2], b=[10, 100])\n",
    "task7.split([\"a\", \"b\"])\n",
    "# combining all inputs\n",
    "task7.combine([\"a\", \"b\"])\n",
    "task7()\n",
    "task7.result()"
   ]
  },
  {
   "cell_type": "markdown",
   "id": "9666a3ad",
   "metadata": {},
   "source": [
    "This time the output contains one element that is a list of all outputs:"
   ]
  },
  {
   "cell_type": "markdown",
   "id": "67030fcb",
   "metadata": {},
   "source": [
    "![nd_spl_3_comb3.png](../figures/nd_spl_3_comb3.png)"
   ]
  },
  {
   "cell_type": "markdown",
   "id": "36304a32",
   "metadata": {},
   "source": [
    "## Lists as an input\n",
    "\n",
    "Note that list can be used as an input even without using any splitter, there are functions that take a list as a single input value:"
   ]
  },
  {
   "cell_type": "code",
   "execution_count": 23,
   "id": "d363290d",
   "metadata": {},
   "outputs": [
    {
     "data": {
      "text/plain": [
       "Result(output=Output(out=33.0), runtime=None, errored=False)"
      ]
     },
     "execution_count": 23,
     "metadata": {},
     "output_type": "execute_result"
    }
   ],
   "source": [
    "@pydra.mark.task\n",
    "def moment(lst, n):\n",
    "    return sum([i ** n for i in lst]) / len(lst)\n",
    "\n",
    "task8 = moment(n=3, lst=[2, 3, 4])\n",
    "\n",
    "task8()\n",
    "task8.result()"
   ]
  },
  {
   "cell_type": "markdown",
   "id": "8ee93e97",
   "metadata": {},
   "source": [
    "## Exercise 1\n",
    "\n",
    "Let's say we want to calculate squares and cubes of integers from 2 to 5, and combine separately all squares and all cubes:"
   ]
  },
  {
   "cell_type": "markdown",
   "id": "c9540d47",
   "metadata": {},
   "source": [
    "First we will define a function that returns powers:"
   ]
  },
  {
   "cell_type": "code",
   "execution_count": 24,
   "id": "61265221",
   "metadata": {
    "tags": [
     "hide-cell"
    ]
   },
   "outputs": [],
   "source": [
    "@pydra.mark.task\n",
    "def power(x, n):\n",
    "    return x**n"
   ]
  },
  {
   "cell_type": "markdown",
   "id": "6bcd2dbd",
   "metadata": {},
   "source": [
    "Now we can create a task that takes two lists as its input, outer splitter for `x` and `n`, and combine all `x`:"
   ]
  },
  {
   "cell_type": "code",
   "execution_count": 25,
   "id": "80c96ec3",
   "metadata": {
    "tags": [
     "hide-cell"
    ]
   },
   "outputs": [
    {
     "data": {
      "text/plain": [
       "[[Result(output=Output(out=4), runtime=None, errored=False),\n",
       "  Result(output=Output(out=9), runtime=None, errored=False),\n",
       "  Result(output=Output(out=16), runtime=None, errored=False),\n",
       "  Result(output=Output(out=25), runtime=None, errored=False)],\n",
       " [Result(output=Output(out=8), runtime=None, errored=False),\n",
       "  Result(output=Output(out=27), runtime=None, errored=False),\n",
       "  Result(output=Output(out=64), runtime=None, errored=False),\n",
       "  Result(output=Output(out=125), runtime=None, errored=False)]]"
      ]
     },
     "execution_count": 25,
     "metadata": {},
     "output_type": "execute_result"
    }
   ],
   "source": [
    "task_ex1 = power(x=[2, 3, 4, 5], n=[2, 3]).split([\"x\", \"n\"]).combine(\"x\")\n",
    "task_ex1()\n",
    "task_ex1.result()"
   ]
  },
  {
   "cell_type": "markdown",
   "id": "ea60d9b4",
   "metadata": {},
   "source": [
    "The result should contain two list, the first one is for squares, the second for cubes."
   ]
  },
  {
   "cell_type": "code",
   "execution_count": 26,
   "id": "022b3cfe",
   "metadata": {
    "tags": [
     "hide-cell"
    ]
   },
   "outputs": [
    {
     "name": "stdout",
     "output_type": "stream",
     "text": [
      "squares: [4, 9, 16, 25]\n",
      "cubes: [8, 27, 64, 125]\n"
     ]
    }
   ],
   "source": [
    "squares_list = [el.output.out for el in task_ex1.result()[0]]\n",
    "cubes_list = [el.output.out for el in task_ex1.result()[1]]\n",
    "print(f\"squares: {squares_list}\")\n",
    "print(f\"cubes: {cubes_list}\")"
   ]
  },
  {
   "cell_type": "markdown",
   "id": "34f66d7f",
   "metadata": {},
   "source": [
    "## Parallel execution\n",
    "\n",
    "We run task multiple times for multiple sets of input, but we didn't talk about the execution time. Let's create a function that sleeps for a second and run for four values:"
   ]
  },
  {
   "cell_type": "code",
   "execution_count": 27,
   "id": "c09b3e7f",
   "metadata": {},
   "outputs": [
    {
     "name": "stdout",
     "output_type": "stream",
     "text": [
      "total time: 2.297515392303467\n"
     ]
    },
    {
     "data": {
      "text/plain": [
       "[Result(output=Output(out=3), runtime=None, errored=False),\n",
       " Result(output=Output(out=4), runtime=None, errored=False),\n",
       " Result(output=Output(out=5), runtime=None, errored=False),\n",
       " Result(output=Output(out=6), runtime=None, errored=False)]"
      ]
     },
     "execution_count": 27,
     "metadata": {},
     "output_type": "execute_result"
    }
   ],
   "source": [
    "import time\n",
    "\n",
    "@pydra.mark.task\n",
    "def add_two_sleep(x):\n",
    "    time.sleep(1)\n",
    "    return x + 2\n",
    "\n",
    "task9 = add_two_sleep(x=[1, 2, 3, 4]).split(\"x\")\n",
    "t0 = time.time()\n",
    "task9()\n",
    "print(f'total time: {time.time() - t0}')\n",
    "task9.result()"
   ]
  },
  {
   "cell_type": "markdown",
   "id": "fbe37b8c",
   "metadata": {},
   "source": [
    "The total time will depend on the machine you are using, but it could be below `1.1s`, so clearly the tasks are running in parallel!\n",
    "\n",
    "If we run `Task` that has a `State`, pydra will automatically create a `Submitter` with a default `Worker` that is `cf`, i.e. `concurrent.futures.ProcessPoolExecutor`.\n",
    "\n",
    "We could also create a `Submitter` first, and than use it to run the task:"
   ]
  },
  {
   "cell_type": "code",
   "execution_count": 28,
   "id": "b1f3d96c",
   "metadata": {},
   "outputs": [
    {
     "name": "stdout",
     "output_type": "stream",
     "text": [
      "total time: 2.3637006282806396\n",
      "results: [Result(output=Output(out=3), runtime=None, errored=False), Result(output=Output(out=4), runtime=None, errored=False), Result(output=Output(out=5), runtime=None, errored=False), Result(output=Output(out=6), runtime=None, errored=False)]\n"
     ]
    }
   ],
   "source": [
    "task10 = add_two_sleep(x=[1, 2, 3, 4]).split(\"x\")\n",
    "\n",
    "t0 = time.time()\n",
    "with pydra.Submitter(plugin=\"cf\") as sub:\n",
    "    task10(submitter=sub)\n",
    "print(f'total time: {time.time() - t0}')\n",
    "print(f\"results: {task10.result()}\")"
   ]
  },
  {
   "cell_type": "markdown",
   "id": "aee4bf0f",
   "metadata": {},
   "source": [
    "or we can provide the name of the plugin:"
   ]
  },
  {
   "cell_type": "code",
   "execution_count": 29,
   "id": "8db5c695",
   "metadata": {},
   "outputs": [
    {
     "name": "stdout",
     "output_type": "stream",
     "text": [
      "total time: 2.343538999557495\n",
      "results: [Result(output=Output(out=3), runtime=None, errored=False), Result(output=Output(out=4), runtime=None, errored=False), Result(output=Output(out=5), runtime=None, errored=False), Result(output=Output(out=6), runtime=None, errored=False)]\n"
     ]
    }
   ],
   "source": [
    "task11 = add_two_sleep(x=[1, 2, 3, 4]).split(\"x\")\n",
    "\n",
    "t0 = time.time()\n",
    "task11(plugin=\"cf\")\n",
    "print(f'total time: {time.time() - t0}')\n",
    "print(f\"results: {task11.result()}\")"
   ]
  },
  {
   "cell_type": "markdown",
   "id": "49419e54",
   "metadata": {},
   "source": [
    "The last option for running the task is to create a `Submitter` first and run the submitter (`Submitter` is also a callable object) with the task as  a `runnable`:"
   ]
  },
  {
   "cell_type": "code",
   "execution_count": 30,
   "id": "89ef32f5",
   "metadata": {},
   "outputs": [
    {
     "name": "stdout",
     "output_type": "stream",
     "text": [
      "total time: 2.2788236141204834\n",
      "results: [Result(output=Output(out=3), runtime=None, errored=False), Result(output=Output(out=4), runtime=None, errored=False), Result(output=Output(out=5), runtime=None, errored=False), Result(output=Output(out=6), runtime=None, errored=False)]\n"
     ]
    }
   ],
   "source": [
    "task12 = add_two_sleep(x=[1, 2, 3, 4]).split(\"x\")\n",
    "\n",
    "t0 = time.time()\n",
    "with pydra.Submitter(plugin=\"cf\") as sub:\n",
    "    sub(runnable=task12)\n",
    "print(f'total time: {time.time() - t0}')\n",
    "print(f\"results: {task12.result()}\")"
   ]
  },
  {
   "cell_type": "markdown",
   "id": "61463fa3",
   "metadata": {},
   "source": [
    "All of the execution time should be similar, since all tasks are run by *pydra* in the same way, i.e. *pydra* creates a submitter with `ConcurrentFutures` worker, if a number of processors is not provided, `ConcurrentFutures` takes all available processors as `max_workers`. However, if we want to set a specific number of processors, we can set it using `n_procs` when creating a `Submitter`. Let's see how the execution time changes when we use `n_procs=2`."
   ]
  },
  {
   "cell_type": "code",
   "execution_count": 31,
   "id": "807d3a58",
   "metadata": {},
   "outputs": [
    {
     "name": "stdout",
     "output_type": "stream",
     "text": [
      "total time: 2.302553653717041\n",
      "results: [Result(output=Output(out=3), runtime=None, errored=False), Result(output=Output(out=4), runtime=None, errored=False), Result(output=Output(out=5), runtime=None, errored=False), Result(output=Output(out=6), runtime=None, errored=False)]\n"
     ]
    }
   ],
   "source": [
    "task13 = add_two_sleep(x=[1, 2, 3, 4]).split(\"x\")\n",
    "\n",
    "t0 = time.time()\n",
    "with pydra.Submitter(plugin=\"cf\", n_procs=2) as sub:\n",
    "    sub(runnable=task13)\n",
    "print(f'total time: {time.time() - t0}')\n",
    "print(f\"results: {task13.result()}\")"
   ]
  },
  {
   "cell_type": "markdown",
   "id": "d4969b38",
   "metadata": {},
   "source": [
    "Now, the total time could be significantly different. For example, if your machine has at least 4 processors, the previous `tasks9` - `task12` took around 1s to run, but the task13 took around 2s.\n",
    "If you have 2 processors or less, you should not see any difference in the execution time."
   ]
  }
 ],
 "metadata": {
  "jupytext": {
   "formats": "ipynb,md:myst",
   "text_representation": {
    "extension": ".md",
    "format_name": "myst",
    "format_version": 0.13,
    "jupytext_version": "1.13.8"
   }
  },
  "kernelspec": {
   "display_name": "Python 3",
   "language": "python",
   "name": "python3"
  },
  "language_info": {
   "codemirror_mode": {
    "name": "ipython",
    "version": 3
   },
   "file_extension": ".py",
   "mimetype": "text/x-python",
   "name": "python",
   "nbconvert_exporter": "python",
   "pygments_lexer": "ipython3",
   "version": "3.9.13"
  },
  "source_map": [
   13,
   21,
   34,
   42,
   46,
   48,
   52,
   54,
   58,
   60,
   64,
   66,
   70,
   72,
   78,
   81,
   85,
   87,
   91,
   93,
   97,
   101,
   107,
   111,
   115,
   119,
   123,
   127,
   131,
   133,
   139,
   145,
   149,
   155,
   159,
   165,
   170,
   174,
   178,
   182,
   186,
   192,
   202,
   206,
   214,
   221,
   225,
   229,
   233,
   237,
   244,
   248,
   252,
   256,
   260,
   267,
   271,
   275,
   281,
   292,
   298,
   302,
   310,
   314,
   322,
   326,
   333,
   339,
   352,
   360,
   368,
   372,
   379,
   383,
   391,
   395,
   403
  ]
 },
 "nbformat": 4,
 "nbformat_minor": 5
}
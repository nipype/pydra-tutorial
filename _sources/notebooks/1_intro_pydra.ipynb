{
 "cells": [
  {
   "cell_type": "markdown",
   "id": "03a61e58",
   "metadata": {},
   "source": [
    "# Intro to Pydra"
   ]
  },
  {
   "cell_type": "markdown",
   "id": "9446796f",
   "metadata": {},
   "source": [
    "Pydra is a lightweight, Python 3.7+ dataflow engine for computational graph construction, manipulation, and distributed execution.\n",
    "Designed as a general-purpose engine to support analytics in any scientific domain; created for [Nipype](https://github.com/nipy/nipype), and helps build reproducible, scalable, reusable, and fully automated, provenance tracked scientific workflows.\n",
    "The power of Pydra lies in ease of workflow creation\n",
    "and execution for complex multiparameter map-reduce operations, and the use of global cache.\n",
    "\n",
    "Pydra's key features are:\n",
    "- Consistent API for Task and Workflow\n",
    "- Splitting & combining semantics on Task/Workflow level\n",
    "- Global cache support to reduce recomputation\n",
    "- Support for execution of Tasks in containerized environments"
   ]
  },
  {
   "cell_type": "markdown",
   "id": "bf2c13e6",
   "metadata": {},
   "source": [
    "## Pydra computational objects - Tasks\n",
    "There are two main types of objects in *pydra*: `Task` and `Workflow`, that is also a type of `Task`, and can be used in a nested workflow.\n",
    "![nested_workflow.png](../figures/nested_workflow.png)\n",
    "\n",
    "\n",
    "\n",
    "**These are the current `Task` implemented in Pydra:**\n",
    "- `Workflow`: connects multiple `Task`s withing a graph\n",
    "- `FunctionTask`: wrapper for Python functions\n",
    "- `ShellCommandTask`: wrapper for shell commands\n",
    "    - `ContainerTask`: wrapper for shell commands run within containers\n",
    "      - `DockerTask`: `ContainerTask` that uses Docker\n",
    "      - `SingularityTask`: `ContainerTask` that uses Singularity"
   ]
  },
  {
   "cell_type": "markdown",
   "id": "70bce1cc",
   "metadata": {},
   "source": [
    "## Pydra Workers\n",
    "Pydra supports multiple workers to execute `Tasks` and `Workflows`:\n",
    "- `ConcurrentFutures`\n",
    "- `SLURM`\n",
    "- `Dask` (experimental)"
   ]
  },
  {
   "cell_type": "markdown",
   "id": "84111361",
   "metadata": {},
   "source": [
    "**Before going to next notebooks, let's check if pydra is properly installed**"
   ]
  },
  {
   "cell_type": "code",
   "execution_count": 1,
   "id": "245aa47c",
   "metadata": {},
   "outputs": [],
   "source": [
    "import pydra"
   ]
  }
 ],
 "metadata": {
  "jupytext": {
   "text_representation": {
    "extension": ".md",
    "format_name": "myst",
    "format_version": 0.13,
    "jupytext_version": "1.14.0"
   }
  },
  "kernelspec": {
   "display_name": "Python 3",
   "language": "python",
   "name": "python3"
  },
  "language_info": {
   "codemirror_mode": {
    "name": "ipython",
    "version": 3
   },
   "file_extension": ".py",
   "mimetype": "text/x-python",
   "name": "python",
   "nbconvert_exporter": "python",
   "pygments_lexer": "ipython3",
   "version": "3.11.0"
  },
  "source_map": [
   12,
   16,
   29,
   45,
   53,
   57
  ]
 },
 "nbformat": 4,
 "nbformat_minor": 5
}
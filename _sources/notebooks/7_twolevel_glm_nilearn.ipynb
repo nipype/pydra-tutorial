{
 "cells": [
  {
   "cell_type": "markdown",
   "id": "4a81e2c2",
   "metadata": {},
   "source": [
    "# Two-Level GLM (from Nilearn)"
   ]
  },
  {
   "cell_type": "markdown",
   "id": "751f7ccf",
   "metadata": {},
   "source": [
    "In this tutorial, we demonstrate how to write pydra tasks for the first level (subject-level) GLM and the second level (group-level) GLM in Nilearn. We use the data from [Balloon Analog Risk-taking Task](https://openneuro.org/datasets/ds000001/versions/1.0.0). \n",
    "Basic information about this dataset:\n",
    "- 16 subjects\n",
    "- 3 runs\n",
    "- functional scan TR: 2.3 \n",
    "- num of functional scan: 300"
   ]
  },
  {
   "cell_type": "code",
   "execution_count": 1,
   "id": "9def209f",
   "metadata": {},
   "outputs": [],
   "source": [
    "import nest_asyncio\n",
    "nest_asyncio.apply()"
   ]
  },
  {
   "cell_type": "markdown",
   "id": "a87f9730",
   "metadata": {},
   "source": [
    "## Preparation\n",
    "\n",
    "Import packages that will be used globally and set up output directory"
   ]
  },
  {
   "cell_type": "code",
   "execution_count": 2,
   "id": "cb4e1b1d",
   "metadata": {},
   "outputs": [],
   "source": [
    "import warnings\n",
    "import sys \n",
    "if not sys.warnoptions:\n",
    "    warnings.simplefilter(\"ignore\")\n",
    "\n",
    "import os, glob\n",
    "import datetime\n",
    "import random\n",
    "import pydra\n",
    "from pydra import Workflow\n",
    "from pydra.engine.specs import File, MultiInputFile, MultiOutputFile\n",
    "import typing as ty\n",
    "from pathlib import Path\n",
    "import datalad.api as dl\n",
    "\n",
    "import numpy as np\n",
    "import pandas as pd\n",
    "import nibabel as nib\n",
    "from scipy.stats import norm\n",
    "from nilearn.interfaces.fmriprep import load_confounds_strategy\n",
    "from nilearn.image import load_img, get_data, math_img, threshold_img\n",
    "from nilearn.glm.first_level import make_first_level_design_matrix, FirstLevelModel\n",
    "from nilearn.glm.second_level import SecondLevelModel, non_parametric_inference\n",
    "from nilearn.glm.contrasts import compute_fixed_effects\n",
    "from nilearn.plotting import plot_stat_map, plot_glass_brain"
   ]
  },
  {
   "cell_type": "code",
   "execution_count": 3,
   "id": "9677ad1a",
   "metadata": {},
   "outputs": [],
   "source": [
    "# get current directory\n",
    "pydra_tutorial_dir = os.path.dirname(os.getcwd())\n",
    "\n",
    "# set up output directory\n",
    "workflow_dir = Path(pydra_tutorial_dir) / 'outputs'\n",
    "workflow_out_dir = workflow_dir / '7_glm' /'results'\n",
    "\n",
    "# create folders if not exit\n",
    "os.makedirs(workflow_out_dir, exist_ok=True)"
   ]
  },
  {
   "cell_type": "markdown",
   "id": "24967b35",
   "metadata": {},
   "source": [
    "### Download the data\n",
    "\n",
    "[DataLad](http://handbook.datalad.org/en/latest/index.htmlhttp://handbook.datalad.org/en/latest/index.html) is often used in those cases to download data. Here we use its [Python API](http://docs.datalad.org/en/latest/modref.htmlhttp://docs.datalad.org/en/latest/modref.html).\n",
    "\n",
    "We need the following data: \n",
    "\n",
    "1. event information (raw data)\n",
    "2. preprocessed image data (fmriprep)\n",
    "3. masks (fmriprep)\n",
    "4. confounds (fmriprep)"
   ]
  },
  {
   "cell_type": "code",
   "execution_count": 4,
   "id": "1f8d0182",
   "metadata": {
    "tags": [
     "remove-output"
    ]
   },
   "outputs": [
    {
     "name": "stderr",
     "output_type": "stream",
     "text": [
      "[INFO] Attempting a clone into /tmp/outputs/7_glm/raw_data \n"
     ]
    },
    {
     "name": "stderr",
     "output_type": "stream",
     "text": [
      "[INFO] Attempting to clone from https://github.com/OpenNeuroDatasets/ds000001.git to /tmp/outputs/7_glm/raw_data \n"
     ]
    },
    {
     "name": "stderr",
     "output_type": "stream",
     "text": [
      "[INFO] Start enumerating objects \n"
     ]
    },
    {
     "name": "stderr",
     "output_type": "stream",
     "text": [
      "[INFO] Start counting objects \n"
     ]
    },
    {
     "name": "stderr",
     "output_type": "stream",
     "text": [
      "[INFO] Start compressing objects \n"
     ]
    },
    {
     "name": "stderr",
     "output_type": "stream",
     "text": [
      "[INFO] Start receiving objects \n"
     ]
    },
    {
     "name": "stderr",
     "output_type": "stream",
     "text": [
      "[INFO] Start resolving deltas \n"
     ]
    },
    {
     "name": "stderr",
     "output_type": "stream",
     "text": [
      "[INFO] Completed clone attempts for Dataset(/tmp/outputs/7_glm/raw_data) \n"
     ]
    },
    {
     "name": "stderr",
     "output_type": "stream",
     "text": [
      "[INFO] Remote origin not usable by git-annex; setting annex-ignore \n"
     ]
    },
    {
     "name": "stderr",
     "output_type": "stream",
     "text": [
      "[INFO] https://github.com/OpenNeuroDatasets/ds000001.git/config download failed: Not Found \n"
     ]
    },
    {
     "name": "stderr",
     "output_type": "stream",
     "text": [
      "[INFO] access to 1 dataset sibling s3-PRIVATE not auto-enabled, enable with:\n",
      "| \t\tdatalad siblings -d \"/tmp/outputs/7_glm/raw_data\" enable -s s3-PRIVATE \n"
     ]
    },
    {
     "name": "stdout",
     "output_type": "stream",
     "text": [
      "install"
     ]
    },
    {
     "name": "stdout",
     "output_type": "stream",
     "text": [
      "("
     ]
    },
    {
     "name": "stdout",
     "output_type": "stream",
     "text": [
      "ok"
     ]
    },
    {
     "name": "stdout",
     "output_type": "stream",
     "text": [
      "): /tmp/outputs/7_glm/raw_data ("
     ]
    },
    {
     "name": "stdout",
     "output_type": "stream",
     "text": [
      "dataset"
     ]
    },
    {
     "name": "stdout",
     "output_type": "stream",
     "text": [
      ")"
     ]
    },
    {
     "name": "stdout",
     "output_type": "stream",
     "text": [
      "\n"
     ]
    },
    {
     "name": "stderr",
     "output_type": "stream",
     "text": [
      "[INFO] Attempting a clone into /tmp/outputs/7_glm/data \n"
     ]
    },
    {
     "name": "stderr",
     "output_type": "stream",
     "text": [
      "[INFO] Attempting to clone from https://github.com/OpenNeuroDerivatives/ds000001-fmriprep.git to /tmp/outputs/7_glm/data \n"
     ]
    },
    {
     "name": "stderr",
     "output_type": "stream",
     "text": [
      "[INFO] Start enumerating objects \n"
     ]
    },
    {
     "name": "stderr",
     "output_type": "stream",
     "text": [
      "[INFO] Start counting objects \n"
     ]
    },
    {
     "name": "stderr",
     "output_type": "stream",
     "text": [
      "[INFO] Start compressing objects \n"
     ]
    },
    {
     "name": "stderr",
     "output_type": "stream",
     "text": [
      "[INFO] Start receiving objects \n"
     ]
    },
    {
     "name": "stderr",
     "output_type": "stream",
     "text": [
      "[INFO] Start resolving deltas \n"
     ]
    },
    {
     "name": "stderr",
     "output_type": "stream",
     "text": [
      "[INFO] Completed clone attempts for Dataset(/tmp/outputs/7_glm/data) \n"
     ]
    },
    {
     "name": "stderr",
     "output_type": "stream",
     "text": [
      "[INFO] Remote origin not usable by git-annex; setting annex-ignore \n"
     ]
    },
    {
     "name": "stderr",
     "output_type": "stream",
     "text": [
      "[INFO] https://github.com/OpenNeuroDerivatives/ds000001-fmriprep.git/config download failed: Not Found \n"
     ]
    },
    {
     "name": "stdout",
     "output_type": "stream",
     "text": [
      "install"
     ]
    },
    {
     "name": "stdout",
     "output_type": "stream",
     "text": [
      "("
     ]
    },
    {
     "name": "stdout",
     "output_type": "stream",
     "text": [
      "ok"
     ]
    },
    {
     "name": "stdout",
     "output_type": "stream",
     "text": [
      "): /tmp/outputs/7_glm/data ("
     ]
    },
    {
     "name": "stdout",
     "output_type": "stream",
     "text": [
      "dataset"
     ]
    },
    {
     "name": "stdout",
     "output_type": "stream",
     "text": [
      ")"
     ]
    },
    {
     "name": "stdout",
     "output_type": "stream",
     "text": [
      "\n"
     ]
    },
    {
     "data": {
      "text/plain": [
       "Dataset('/tmp/outputs/7_glm/data')"
      ]
     },
     "execution_count": 4,
     "metadata": {},
     "output_type": "execute_result"
    }
   ],
   "source": [
    "fmriprep_path = workflow_dir / '7_glm'/ 'data'\n",
    "rawdata_path = workflow_dir / '7_glm' / 'raw_data'\n",
    "os.makedirs(fmriprep_path, exist_ok=True)\n",
    "os.makedirs(rawdata_path, exist_ok=True)\n",
    "# Install datasets to specific datapaths\n",
    "fmriprep_url = 'https://github.com/OpenNeuroDerivatives/ds000001-fmriprep.git'\n",
    "rawdata_url = 'https://github.com/OpenNeuroDatasets/ds000001.git'\n",
    "dl.install(source=rawdata_url, path=rawdata_path)\n",
    "dl.install(source=fmriprep_url, path=fmriprep_path)"
   ]
  },
  {
   "cell_type": "markdown",
   "id": "1092612b",
   "metadata": {},
   "source": [
    "### Get data for each subject\n",
    "\n",
    "By `datalad.api.install`, datalad downloads all symlinks without storing the actual data locally. We can then use `datalad.api.get` to get the data we need for our analysis. \n",
    "We need to get four types of data from two folders:\n",
    "\n",
    "1. event_info: `*events.tsv` from `rawdata_path`\n",
    "2. bold: `*space-MNI152NLin2009cAsym_res-2_desc-preproc_bold.nii.gz` from `fmriprep_path`\n",
    "3. mask: `*space-MNI152NLin2009cAsym_res-2_desc-brain_mask.nii.gz` from `fmriprep_path`\n",
    "4. confounds: `*desc-confounds_timeseries.tsv` from `fmriprep_path` (this is implicitly needed by `load_confounds_strategy`)"
   ]
  },
  {
   "cell_type": "code",
   "execution_count": 5,
   "id": "5ef88f13",
   "metadata": {
    "tags": []
   },
   "outputs": [],
   "source": [
    "@pydra.mark.task\n",
    "@pydra.mark.annotate(\n",
    "    {\n",
    "        'subj_id': int,\n",
    "        'return': {'subj_id': int, 'subj_events': list, 'subj_imgs':list, 'subj_masks':list},\n",
    "    }\n",
    ")\n",
    "def get_subjdata(subj_id):\n",
    "    print(f\"\\nDownload data for subject-{subj_id}\")\n",
    "    # get events.tsv \n",
    "    subj_events = glob.glob(os.path.join(rawdata_path, 'sub-%02d' % subj_id, 'func', '*events.tsv'))\n",
    "    subj_events.sort()\n",
    "    for i in subj_events:\n",
    "        dl.get(i, dataset=rawdata_path)\n",
    "    # get bold\n",
    "    subj_imgs = glob.glob(os.path.join(fmriprep_path, 'sub-%02d' % subj_id, 'func', '*space-MNI152NLin2009cAsym_res-2_desc-preproc_bold.nii.gz'))\n",
    "    subj_imgs.sort()\n",
    "    for i in subj_imgs:\n",
    "        dl.get(i, dataset=fmriprep_path)\n",
    "    # get mask\n",
    "    subj_masks = glob.glob(os.path.join(fmriprep_path, 'sub-%02d' % subj_id, 'func', '*space-MNI152NLin2009cAsym_res-2_desc-brain_mask.nii.gz'))\n",
    "    subj_masks.sort()\n",
    "    for i in subj_masks:\n",
    "        dl.get(i, dataset=fmriprep_path)\n",
    "    # get confounds list\n",
    "    subj_confounds = glob.glob(os.path.join(fmriprep_path, 'sub-%02d' % subj_id, 'func', '*desc-confounds_timeseries.tsv'))\n",
    "    subj_confounds.sort()\n",
    "    for i in subj_confounds:\n",
    "        dl.get(i, dataset=fmriprep_path)\n",
    "    return subj_id, subj_events, subj_imgs, subj_masks"
   ]
  },
  {
   "cell_type": "markdown",
   "id": "ce37d934",
   "metadata": {},
   "source": [
    "## First-Level GLM\n",
    "\n",
    "The first level GLM has two parts:\n",
    "- conduct GLM for each run on every subject\n",
    "- average across runs for each subject with a fixed-effect model"
   ]
  },
  {
   "cell_type": "markdown",
   "id": "1c161160",
   "metadata": {},
   "source": [
    "### Get the first-level design matrix\n",
    "\n",
    "The design matrix is a _M(row)_ x _N(columns)_ matrix. _M_ corresponds to the number of _tr_, while _N_ corresponds to event conditions + confounds."
   ]
  },
  {
   "cell_type": "code",
   "execution_count": 6,
   "id": "56d13b41",
   "metadata": {},
   "outputs": [],
   "source": [
    "@pydra.mark.task\n",
    "@pydra.mark.annotate(\n",
    "    {\n",
    "        'tr': float,\n",
    "        'n_scans': int,\n",
    "        'hrf_model': str,\n",
    "        'subj_id': int,\n",
    "        'run_id': int,\n",
    "        'subj_imgs': list,\n",
    "        'subj_events':list,\n",
    "        'return': {'dm_path': str, 'run_id': int},\n",
    "    }\n",
    ")\n",
    "def get_firstlevel_dm(tr, n_scans, hrf_model, subj_id, run_id, subj_imgs, subj_events):\n",
    "    print(f\"\\nGet subject-{subj_id}, run-{run_id} firstlevel GLM design matrix...\\n\")\n",
    "    # read event file\n",
    "    run_img = subj_imgs[run_id-1]\n",
    "    run_event = subj_events[run_id-1]\n",
    "    event = pd.read_csv(run_event, sep='\\t').fillna(0)\n",
    "    event = event[['onset', 'duration', 'trial_type']]\n",
    "    # get list of confounds directly from fmriprepped bold\n",
    "    confounds = load_confounds_strategy(run_img, denoise_strategy='simple')[0]\n",
    "    frame_times = np.arange(n_scans) * tr\n",
    "    design_matrix = make_first_level_design_matrix(frame_times, event, \n",
    "                                                   hrf_model=hrf_model,\n",
    "                                                   add_regs=confounds)          \n",
    "\n",
    "    # make sure all design matrices have the same length of column\n",
    "    # if you have a block design, this is not needed.\n",
    "    # 39 = 4(events) + 34(confounds) + 13(drift) + 1(constant)\n",
    "    assert design_matrix.shape[1] == 52, \"This design matrix has the wrong column number\"\n",
    "    # sort the column order alphabetical for contrasts\n",
    "    design_matrix = design_matrix.reindex(sorted(design_matrix.columns), axis=1)\n",
    "    dm_path = os.path.join(workflow_out_dir, 'sub-%s_run-%s_designmatrix.csv' % (subj_id, run_id))\n",
    "    design_matrix.to_csv(dm_path, index=None)\n",
    "    return dm_path, run_id"
   ]
  },
  {
   "cell_type": "markdown",
   "id": "ce539295",
   "metadata": {},
   "source": [
    "### Set up the first level contrasts"
   ]
  },
  {
   "cell_type": "code",
   "execution_count": 7,
   "id": "f34c1d7d",
   "metadata": {},
   "outputs": [],
   "source": [
    "@pydra.mark.task\n",
    "@pydra.mark.annotate(\n",
    "    {\n",
    "        'subj_id': int,\n",
    "        'run_id': int,\n",
    "        'dm_path': str,\n",
    "        'return': {'contrasts': dict},\n",
    "    }\n",
    ")\n",
    "def set_contrast(subj_id, run_id, dm_path):\n",
    "    print(f\"\\nSet firstlevel contrast for subject-{subj_id}, run-{run_id} ...\\n\") \n",
    "    design_matrix = pd.read_csv(dm_path)\n",
    "    contrast_matrix = np.eye(design_matrix.shape[1])\n",
    "    basic_contrasts = dict([(column, contrast_matrix[i])\n",
    "                      for i, column in enumerate(design_matrix.columns)])\n",
    "    contrasts = {\n",
    "        'pumps-control': basic_contrasts['pumps_demean'] - basic_contrasts['control_pumps_demean'],\n",
    "        'control-pumps': -basic_contrasts['control_pumps_demean'] + basic_contrasts['pumps_demean'],\n",
    "        'pumps-baseline': basic_contrasts['pumps_demean'],\n",
    "        'cash-baseline': basic_contrasts['cash_demean'],\n",
    "        'explode-baseline': basic_contrasts['explode_demean']\n",
    "        }\n",
    "    return contrasts"
   ]
  },
  {
   "cell_type": "markdown",
   "id": "b392cae0",
   "metadata": {},
   "source": [
    "### Fit the first level GLM"
   ]
  },
  {
   "cell_type": "code",
   "execution_count": 8,
   "id": "cab4e9dc",
   "metadata": {},
   "outputs": [],
   "source": [
    "@pydra.mark.task\n",
    "@pydra.mark.annotate(\n",
    "    {\n",
    "        'subj_id': int,\n",
    "        'run_id': int,\n",
    "        'subj_imgs': list,\n",
    "        'subj_masks': list,\n",
    "        'smoothing_fwhm': float,\n",
    "        'dm_path': str,\n",
    "        'contrasts':dict,\n",
    "        'return': {'effect_size_path_dict': dict, 'effect_variance_path_dict': dict},\n",
    "    }\n",
    ")\n",
    "def firstlevel_estimation(subj_id, run_id, subj_imgs, subj_masks, smoothing_fwhm, dm_path, contrasts):\n",
    "    print(f\"\\nStart firstlevel estimation for subject-{subj_id}, run-{run_id} ...\\n\")\n",
    "    \n",
    "    # subsample img to reduce memory\n",
    "    run_img = subj_imgs[run_id-1]\n",
    "    img = load_img(run_img)\n",
    "    img_data = get_data(run_img)[::2,::2,::2]\n",
    "    new_img = nib.Nifti1Image(img_data, img.affine)\n",
    "    run_mask = subj_masks[run_id-1]\n",
    "    print('Fit the firstlevel model...')\n",
    "    first_level_model = FirstLevelModel(mask_img=run_mask, smoothing_fwhm=smoothing_fwhm)\n",
    "    dm= pd.read_csv(dm_path)\n",
    "    first_level_model = first_level_model.fit(new_img, design_matrices=dm)\n",
    "    print('Computing contrasts...')\n",
    "    effect_size_path_dict = dict.fromkeys(contrasts.keys())\n",
    "    effect_variance_path_dict = dict.fromkeys(contrasts.keys())\n",
    "    for index, (contrast_id, contrast_val) in enumerate(contrasts.items()):\n",
    "        print('  Contrast % 2i out of %i: %s' % (\n",
    "            index + 1, len(contrasts), contrast_id))\n",
    "        # Estimate the contasts. Note that the model implicitly computes a fixed\n",
    "        # effect across the two sessions\n",
    "        res = first_level_model.compute_contrast(contrast_val, output_type='all')\n",
    "        # write the resulting stat images to file\n",
    "        effect_size_path = os.path.join(workflow_out_dir, 'sub-%s_run-%s_contrast-%s_effect_size.nii.gz' % (subj_id, run_id, contrast_id))\n",
    "        effect_variance_path = os.path.join(workflow_out_dir, 'sub-%s_run-%s_contrast-%s_effect_varaince.nii.gz' % (subj_id, run_id, contrast_id))\n",
    "        effect_size_path_dict[contrast_id] = effect_size_path\n",
    "        effect_variance_path_dict[contrast_id] = effect_variance_path\n",
    "        res['effect_size'].to_filename(effect_size_path)\n",
    "        res['effect_variance'].to_filename(effect_variance_path)\n",
    "        \n",
    "    return effect_size_path_dict, effect_variance_path_dict"
   ]
  },
  {
   "cell_type": "markdown",
   "id": "d20db05f",
   "metadata": {},
   "source": [
    "### Create the first level GLM workflow\n",
    "\n",
    "This workflow include GLM for each run."
   ]
  },
  {
   "cell_type": "code",
   "execution_count": 9,
   "id": "e42b66d7",
   "metadata": {
    "tags": []
   },
   "outputs": [],
   "source": [
    "# initiate the first-level GLM workflow\n",
    "wf_firstlevel = Workflow(\n",
    "    name='wf_firstlevel',\n",
    "    input_spec=[\n",
    "        'subj_id',\n",
    "        'run_id',\n",
    "        'subj_imgs',\n",
    "        'subj_events',\n",
    "        'subj_masks',\n",
    "        'tr',\n",
    "        'n_scans',\n",
    "        'hrf_model',\n",
    "        'smoothing_fwhm'\n",
    "    ],\n",
    ")\n",
    "\n",
    "wf_firstlevel.split('run_id')\n",
    "# add task - get_firstlevel_dm\n",
    "wf_firstlevel.add(\n",
    "    get_firstlevel_dm(\n",
    "        name = \"get_firstlevel_dm\",\n",
    "        tr = wf_firstlevel.lzin.tr, \n",
    "        n_scans = wf_firstlevel.lzin.n_scans, \n",
    "        hrf_model = wf_firstlevel.lzin.hrf_model, \n",
    "        subj_id = wf_firstlevel.lzin.subj_id, \n",
    "        run_id = wf_firstlevel.lzin.run_id, \n",
    "        subj_imgs = wf_firstlevel.lzin.subj_imgs, \n",
    "        subj_events = wf_firstlevel.lzin.subj_events,\n",
    "    )\n",
    ")\n",
    "\n",
    "# add task - set_contrast\n",
    "wf_firstlevel.add(\n",
    "    set_contrast(\n",
    "        name = \"set_contrast\",\n",
    "        subj_id = wf_firstlevel.lzin.subj_id,\n",
    "        run_id = wf_firstlevel.get_firstlevel_dm.lzout.run_id,\n",
    "        dm_path = wf_firstlevel.get_firstlevel_dm.lzout.dm_path\n",
    "    )\n",
    ")\n",
    "\n",
    "# add task - firstlevel_estimation\n",
    "wf_firstlevel.add(\n",
    "    firstlevel_estimation(\n",
    "        name = \"firstlevel_estimation\",\n",
    "        subj_id = wf_firstlevel.lzin.subj_id, \n",
    "        run_id = wf_firstlevel.get_firstlevel_dm.lzout.run_id, \n",
    "        subj_imgs = wf_firstlevel.lzin.subj_imgs, \n",
    "        subj_masks = wf_firstlevel.lzin.subj_masks,\n",
    "        smoothing_fwhm = wf_firstlevel.lzin.smoothing_fwhm, \n",
    "        dm_path = wf_firstlevel.get_firstlevel_dm.lzout.dm_path, \n",
    "        contrasts = wf_firstlevel.set_contrast.lzout.contrasts\n",
    "    )\n",
    ")\n",
    "\n",
    "\n",
    "wf_firstlevel.combine('run_id')\n",
    "# specify output\n",
    "wf_firstlevel.set_output(\n",
    "    [\n",
    "        ('first_level_contrast', wf_firstlevel.set_contrast.lzout.contrasts),\n",
    "        ('first_level_effect_size_list', wf_firstlevel.firstlevel_estimation.lzout.effect_size_path_dict),\n",
    "        ('first_level_effect_variance_list', wf_firstlevel.firstlevel_estimation.lzout.effect_variance_path_dict),\n",
    "    ]\n",
    ")"
   ]
  },
  {
   "cell_type": "markdown",
   "id": "518850dc",
   "metadata": {},
   "source": [
    "### Compute fixed effects\n",
    "\n",
    "Before we move to the second(group) level, we need to average results from all three runs from a fixed effect model"
   ]
  },
  {
   "cell_type": "code",
   "execution_count": 10,
   "id": "179e179b",
   "metadata": {},
   "outputs": [],
   "source": [
    "@pydra.mark.task\n",
    "@pydra.mark.annotate(\n",
    "    {'subj_id': int, \n",
    "     'subj_masks': list,\n",
    "     'contrasts': list,\n",
    "     'effect_size_path_dict_list': list,\n",
    "     'effect_variance_path_dict_list': list,\n",
    "     'return': {'fixed_fx_contrast_path_dict': dict, 'fixed_fx_variance_path_dict': dict, 'fixed_fx_ttest_path_dict': dict},\n",
    "    }\n",
    ")\n",
    "def get_fixed_effcts(subj_id, subj_masks, contrasts, effect_size_path_dict_list, effect_variance_path_dict_list):\n",
    "    \n",
    "    print(f'Compute fixed effects for subject-{subj_id}...')\n",
    "    # average mask across three runs\n",
    "    mean_mask = math_img('np.mean(img, axis=-1)', img=subj_masks)\n",
    "    # binarize the mean mask\n",
    "    mask = math_img('img > 0', img=mean_mask)\n",
    "    fixed_fx_contrast_path_dict =dict.fromkeys(contrasts[0].keys())\n",
    "    fixed_fx_variance_path_dict = dict.fromkeys(contrasts[0].keys())\n",
    "    fixed_fx_ttest_path_dict = dict.fromkeys(contrasts[0].keys())\n",
    "    for index, (contrast_id, contrast_val) in enumerate(contrasts[0].items()):\n",
    "        print(' Contrast % 2i out of %i: %s' % (index + 1, len(contrasts[0]), contrast_id))\n",
    "        contrast_imgs = [nib.load(img_dict[contrast_id]) for img_dict in effect_size_path_dict_list]\n",
    "        variance_imgs = [nib.load(img_dict[contrast_id]) for img_dict in effect_variance_path_dict_list]\n",
    "        fixed_fx_contrast, fixed_fx_variance, fixed_fx_ttest = compute_fixed_effects(contrast_imgs, variance_imgs, mask)\n",
    "        \n",
    "        effect_size_path = os.path.join(workflow_out_dir, 'sub-%s_contrast-%s_fx_effect_size.nii.gz' % (subj_id, contrast_id))\n",
    "        variance_path = os.path.join(workflow_out_dir, 'sub-%s_contrast-%s_fx_effect_varaince.nii.gz' % (subj_id, contrast_id))\n",
    "        ttest_path = os.path.join(workflow_out_dir, 'sub-%s_contrast-%s_ttest_map.nii.gz' % (subj_id, contrast_id))\n",
    "        fixed_fx_contrast_path_dict[contrast_id] = effect_size_path\n",
    "        fixed_fx_variance_path_dict[contrast_id] = variance_path\n",
    "        fixed_fx_ttest_path_dict[contrast_id]  = ttest_path\n",
    "        \n",
    "        fixed_fx_contrast.to_filename(effect_size_path)\n",
    "        fixed_fx_variance.to_filename(variance_path)\n",
    "        fixed_fx_ttest.to_filename(ttest_path)\n",
    "    return fixed_fx_contrast_path_dict, fixed_fx_variance_path_dict, fixed_fx_ttest_path_dict"
   ]
  },
  {
   "cell_type": "markdown",
   "id": "e2e13740",
   "metadata": {},
   "source": [
    "### Create the fixed effect workflow"
   ]
  },
  {
   "cell_type": "code",
   "execution_count": 11,
   "id": "918d284f",
   "metadata": {},
   "outputs": [],
   "source": [
    "# initiate the fixed effect GLM workflow\n",
    "wf_fixed_effect = Workflow(\n",
    "    name='wf_fixed_effect',\n",
    "    input_spec=[\n",
    "        'subj_id',\n",
    "        'run_id',\n",
    "        'tr',\n",
    "        'n_scans',\n",
    "        'hrf_model',\n",
    "        'smoothing_fwhm'\n",
    "    ],\n",
    ")\n",
    "\n",
    "wf_fixed_effect.split('subj_id')\n",
    "# add task - get_subj_file\n",
    "wf_fixed_effect.add(\n",
    "    get_subjdata(\n",
    "        name = \"get_subjdata\",\n",
    "        subj_id = wf_fixed_effect.lzin.subj_id, \n",
    "    )\n",
    ")\n",
    "wf_firstlevel.inputs.subj_id = wf_fixed_effect.get_subjdata.lzout.subj_id\n",
    "wf_firstlevel.inputs.run_id = wf_fixed_effect.lzin.run_id\n",
    "wf_firstlevel.inputs.tr = wf_fixed_effect.lzin.tr\n",
    "wf_firstlevel.inputs.n_scans = wf_fixed_effect.lzin.n_scans\n",
    "wf_firstlevel.inputs.hrf_model = wf_fixed_effect.lzin.hrf_model\n",
    "wf_firstlevel.inputs.smoothing_fwhm = wf_fixed_effect.lzin.smoothing_fwhm\n",
    "wf_firstlevel.inputs.subj_imgs = wf_fixed_effect.get_subjdata.lzout.subj_imgs\n",
    "wf_firstlevel.inputs.subj_events = wf_fixed_effect.get_subjdata.lzout.subj_events\n",
    "wf_firstlevel.inputs.subj_masks = wf_fixed_effect.get_subjdata.lzout.subj_masks\n",
    "wf_fixed_effect.add(wf_firstlevel)\n",
    "\n",
    "wf_fixed_effect.add(\n",
    "    get_fixed_effcts(\n",
    "        name = \"get_fixed_effcts\",\n",
    "        subj_id = wf_fixed_effect.get_subjdata.lzout.subj_id, \n",
    "        subj_masks = wf_fixed_effect.get_subjdata.lzout.subj_masks,\n",
    "        contrasts = wf_fixed_effect.wf_firstlevel.lzout.first_level_contrast, \n",
    "        effect_size_path_dict_list = wf_fixed_effect.wf_firstlevel.lzout.first_level_effect_size_list, \n",
    "        effect_variance_path_dict_list = wf_fixed_effect.wf_firstlevel.lzout.first_level_effect_variance_list\n",
    "    )\n",
    ")\n",
    "\n",
    "wf_fixed_effect.combine('subj_id')\n",
    "# specify output\n",
    "wf_fixed_effect.set_output(\n",
    "    [\n",
    "        ('first_level_contrast', wf_fixed_effect.wf_firstlevel.lzout.first_level_contrast),\n",
    "        ('fx_effect_size_list', wf_fixed_effect.get_fixed_effcts.lzout.fixed_fx_contrast_path_dict),\n",
    "        ('fx_effect_variance_list', wf_fixed_effect.get_fixed_effcts.lzout.fixed_fx_variance_path_dict),\n",
    "        ('fx_t_test_list', wf_fixed_effect.get_fixed_effcts.lzout.fixed_fx_ttest_path_dict),\n",
    "    ]\n",
    ")"
   ]
  },
  {
   "cell_type": "markdown",
   "id": "efcc90c6",
   "metadata": {},
   "source": [
    "## Second-Level GLM\n",
    "\n",
    "The second level GLM, as known as the group level, averages results across subjects, containing the following steps:\n",
    "- construct design matrix\n",
    "- fit the second-level GLM\n",
    "- statistical testing"
   ]
  },
  {
   "cell_type": "markdown",
   "id": "a4257475",
   "metadata": {
    "tags": []
   },
   "source": [
    "### Get the second level design matrix\n",
    "\n",
    "This is a one-group design. So we need a design matrix for a one-sample test.\n",
    "\n",
    "The design matrix is a single column of ones, corresponding to the model intercept."
   ]
  },
  {
   "cell_type": "code",
   "execution_count": 12,
   "id": "b47a2703",
   "metadata": {},
   "outputs": [],
   "source": [
    "@pydra.mark.task\n",
    "@pydra.mark.annotate(\n",
    "    {'n_subj': int, 'return': {'design_matrix': ty.Any}}\n",
    ")\n",
    "def get_secondlevel_dm(n_subj):\n",
    "    t1 = datetime.datetime.now()\n",
    "    print(f\"\\nGet secondlevel design matrix ...\\n\")\n",
    "    design_matrix = pd.DataFrame([1] * n_subj,columns=['intercept'])\n",
    "    return design_matrix"
   ]
  },
  {
   "cell_type": "markdown",
   "id": "f797d325",
   "metadata": {},
   "source": [
    "### Fit the second level GLM\n",
    "\n",
    "Here, we use the list of FirstLevel z-maps as the input for the SecondLevelModel."
   ]
  },
  {
   "cell_type": "code",
   "execution_count": 13,
   "id": "2d58d758",
   "metadata": {},
   "outputs": [],
   "source": [
    "@pydra.mark.task\n",
    "@pydra.mark.annotate(\n",
    "    {'firstlevel_stats_list': list, 'design_matrix': ty.Any, 'firstlevel_contrast':list, \n",
    "     'return': {'secondlevel_mask': ty.Any, 'stat_maps_dict': dict}}\n",
    ")\n",
    "def secondlevel_estimation(firstlevel_stats_list, design_matrix, firstlevel_contrast):   \n",
    "    print(f\"\\nStart secondlevel estimation ...\\n\")\n",
    "    stat_maps_dict = dict.fromkeys(firstlevel_contrast[0][0].keys())\n",
    "    for index, (contrast_id, contrast_val) in enumerate(firstlevel_contrast[0][0].items()):\n",
    "        print(' Contrast % 2i out of %i: %s' % (\n",
    "            index + 1, len(firstlevel_contrast[0][0]), contrast_id))\n",
    "        second_level_input = [nib.load(stats_dict[contrast_id]) for stats_dict in firstlevel_stats_list]\n",
    "        second_level_model = SecondLevelModel()\n",
    "        second_level_model = second_level_model.fit(second_level_input, design_matrix=design_matrix)\n",
    "        secondlevel_mask = second_level_model.masker_.mask_img_\n",
    "    \n",
    "        stats = second_level_model.compute_contrast(output_type='all')\n",
    "        # write the resulting stat images to file\n",
    "        z_image_path = os.path.join(workflow_out_dir, 'secondlevel_contrast-%s_z_map.nii.gz' % contrast_id)\n",
    "        stat_maps_dict[contrast_id] = stats\n",
    "        stats['z_score'].to_filename(z_image_path)\n",
    "        plot_path = os.path.join(workflow_out_dir, 'secondlevel_unthresholded_contrast-%s_zmap.jpg' % contrast_id)\n",
    "        plot_glass_brain(stats['z_score'],\n",
    "                         colorbar=True,\n",
    "                         threshold=norm.isf(0.001),\n",
    "                         title='Unthresholded z map',\n",
    "                         output_file=plot_path)\n",
    "    return secondlevel_mask, stat_maps_dict"
   ]
  },
  {
   "cell_type": "markdown",
   "id": "066e662c",
   "metadata": {},
   "source": [
    "### Create the second level GLM workflow"
   ]
  },
  {
   "cell_type": "code",
   "execution_count": 14,
   "id": "95015750",
   "metadata": {},
   "outputs": [],
   "source": [
    "# initiate the first-level GLM workflow\n",
    "wf_secondlevel = Workflow(\n",
    "    name='wf_secondlevel',\n",
    "    input_spec=[\n",
    "        'n_subj',\n",
    "        'firstlevel_stats_list', \n",
    "        'firstlevel_contrast',\n",
    "        'n_perm',\n",
    "    ],\n",
    ")\n",
    "\n",
    "# add task - get_secondlevel_dm\n",
    "wf_secondlevel.add(\n",
    "    get_secondlevel_dm(\n",
    "        name = \"get_secondlevel_dm\",\n",
    "        n_subj = wf_secondlevel.lzin.n_subj, \n",
    "    )\n",
    ")\n",
    "\n",
    "# add task - secondlevel_estimation\n",
    "wf_secondlevel.add(\n",
    "    secondlevel_estimation(\n",
    "        name = \"secondlevel_estimation\",\n",
    "        firstlevel_stats_list = wf_secondlevel.lzin.firstlevel_stats_list,  \n",
    "        design_matrix = wf_secondlevel.get_secondlevel_dm.lzout.design_matrix, \n",
    "        firstlevel_contrast = wf_secondlevel.lzin.firstlevel_contrast\n",
    "    )\n",
    ")\n",
    "\n",
    "# specify output\n",
    "wf_secondlevel.set_output(\n",
    "    [\n",
    "        ('second_level_designmatrix', wf_secondlevel.get_secondlevel_dm.lzout.design_matrix),\n",
    "        ('second_level_mask', wf_secondlevel.secondlevel_estimation.lzout.secondlevel_mask),\n",
    "        ('second_level_stats_map', wf_secondlevel.secondlevel_estimation.lzout.stat_maps_dict)\n",
    "    ]\n",
    ")"
   ]
  },
  {
   "cell_type": "markdown",
   "id": "8329396d",
   "metadata": {},
   "source": [
    "## Statistical Testing\n",
    "\n",
    "In this section, we present different ways of doing statistical testing\n",
    "\n",
    "1. Cluster-thresholding without multiple comparison\n",
    "2. Multiple comparison using FDR\n",
    "3. Paramatric testing\n",
    "4. Nonparamatric testing"
   ]
  },
  {
   "cell_type": "markdown",
   "id": "70a47b19",
   "metadata": {},
   "source": [
    "### Cluster-thresholding and Plot without multiple comparison\n",
    "\n",
    "Threshold the resulting map without multiple comparisons correction, abs(z) > 3.29 (equivalent to p < 0.001), cluster size > 10 voxels."
   ]
  },
  {
   "cell_type": "code",
   "execution_count": 15,
   "id": "3d4b3af0",
   "metadata": {},
   "outputs": [],
   "source": [
    "@pydra.mark.task\n",
    "@pydra.mark.annotate(\n",
    "    {'stat_maps_dict': dict, 'threshold': float, 'cluster_threshold': int, \n",
    "     'return': {'thresholded_map_dict': dict, 'plot_contrast_dict': dict}}\n",
    ")\n",
    "def cluster_thresholding(stat_maps_dict, threshold, cluster_threshold):\n",
    "    t1 = datetime.datetime.now()\n",
    "    print(\"\\nStart cluster thresholding ...\\n\")\n",
    "    thresholded_map_dict = dict.fromkeys(stat_maps_dict.keys())\n",
    "    plot_contrast_dict = dict.fromkeys(stat_maps_dict.keys())\n",
    "    for index, (stats_id, stats_val) in enumerate(stat_maps_dict.items()):\n",
    "        print('Contrast % 2i out of %i: %s' % (\n",
    "            index + 1, len(stat_maps_dict), stats_id))\n",
    "        thresholded_map = threshold_img(\n",
    "            img = stats_val['z_score'],\n",
    "            threshold=threshold,\n",
    "            cluster_threshold=cluster_threshold,\n",
    "            two_sided=True,\n",
    "        )\n",
    "        thresholded_map_path = os.path.join(workflow_out_dir, 'secondlevel_cluster_thresholded_contrast-%s_z_map.nii.gz' % stats_id)\n",
    "        thresholded_map_dict[stats_id] = thresholded_map_path\n",
    "        thresholded_map.to_filename(thresholded_map_path)\n",
    "        plot_path = os.path.join(workflow_out_dir, \n",
    "                                   'secondlevel_cluster_thresholded_contrast-%s_zmap.jpg' % stats_id)\n",
    "        plot_contrast_dict[stats_id] = plot_path\n",
    "        plot_stat_map(thresholded_map,\n",
    "                               title='Cluster Thresholded z map',\n",
    "                               output_file=plot_path)\n",
    "    print(\"\\nCluster thresholding is done\")\n",
    "    return thresholded_map_dict, plot_contrast_dict"
   ]
  },
  {
   "cell_type": "markdown",
   "id": "e6bd99d7",
   "metadata": {},
   "source": [
    "### Multiple comparison and Plot\n",
    "\n",
    "We have the following choices:\n",
    "- `fdr`: False Discovery Rate (FDR <.05) and no cluster-level threshold\n",
    "- `fpr`: False Positive Rate\n",
    "- `bonferroni`\n",
    "\n",
    "More details see [here](https://nilearn.github.io/stable/modules/generated/nilearn.glm.threshold_stats_img.html#nilearn.glm.threshold_stats_img)"
   ]
  },
  {
   "cell_type": "code",
   "execution_count": 16,
   "id": "90830dc8",
   "metadata": {},
   "outputs": [],
   "source": [
    "@pydra.mark.task\n",
    "@pydra.mark.annotate(\n",
    "    {'stat_maps_dict': dict, 'alpha': float, 'height_control': str, \n",
    "     'return': {'thresholded_map_dict': dict, 'plot_contrast_dict': dict}}\n",
    ")\n",
    "def multiple_comparison(stat_maps_dict, alpha, height_control):\n",
    "    print(\"\\nStart multiple comparison ...\\n\")\n",
    "    from nilearn.glm import threshold_stats_img\n",
    "    from nilearn.plotting import plot_stat_map\n",
    "    thresholded_map_dict = dict.fromkeys(stat_maps_dict.keys())\n",
    "    plot_contrast_dict = dict.fromkeys(stat_maps_dict.keys())\n",
    "    for index, (stats_id, stats_val) in enumerate(stat_maps_dict.items()):\n",
    "        print('Contrast % 2i out of %i: %s' % (\n",
    "            index + 1, len(stat_maps_dict), stats_id))\n",
    "        thresholded_map, threshold = threshold_stats_img(\n",
    "            stat_img=stats_val['z_score'], \n",
    "            alpha=alpha, \n",
    "            height_control=height_control)\n",
    "        thresholded_map_path = os.path.join(workflow_out_dir, \n",
    "                                         'secondlevel_multiple_comp_corrected_contrast-%s_z_map.nii.gz' % stats_id)\n",
    "        thresholded_map_dict[stats_id] = thresholded_map_path\n",
    "        thresholded_map.to_filename(thresholded_map_path)\n",
    "        plot_path = os.path.join(workflow_out_dir, \n",
    "                                   'secondlevel_multiple_comp_corrected_contrast-%s_zmap.jpg' % stats_id)\n",
    "        plot_contrast_dict[stats_id] = plot_path\n",
    "        plot_stat_map(thresholded_map,\n",
    "                      title='Thresholded z map, expected fdr = .05',\n",
    "                      threshold=threshold, \n",
    "                      output_file=plot_path)\n",
    "    print(\"\\nMultiple comparison is done\")\n",
    "    return thresholded_map_dict, plot_contrast_dict"
   ]
  },
  {
   "cell_type": "markdown",
   "id": "88356bce",
   "metadata": {},
   "source": [
    "### Paramatric test & Plot\n",
    "\n",
    "We threshold the second level contrast at uncorrected p < 0.001.\n",
    "\n",
    "A nilearn example see [here](https://nilearn.github.io/dev/auto_examples/05_glm_second_level/plot_second_level_one_sample_test.html)"
   ]
  },
  {
   "cell_type": "code",
   "execution_count": 17,
   "id": "67c38fa8",
   "metadata": {},
   "outputs": [],
   "source": [
    "@pydra.mark.task\n",
    "@pydra.mark.annotate(\n",
    "    {'stat_maps_dict': dict, \n",
    "     'secondlevel_mask': ty.Any,\n",
    "     'return': {'thresholded_map_dict': dict, 'plot_contrast_dict': dict}}\n",
    ")\n",
    "def parametric_test(stat_maps_dict, secondlevel_mask):\n",
    "    print(\"\\nStart parametric test ...\\n\")\n",
    "    thresholded_map_dict = dict.fromkeys(stat_maps_dict.keys())\n",
    "    plot_contrast_dict = dict.fromkeys(stat_maps_dict.keys())\n",
    "    for index, (stats_id, stats_val) in enumerate(stat_maps_dict.items()):\n",
    "        print('Contrast % 2i out of %i: %s' % (\n",
    "            index + 1, len(stat_maps_dict), stats_id))\n",
    "        p_val = stats_val['p_value']\n",
    "        n_voxels = np.sum(get_data(img=secondlevel_mask))\n",
    "        # Correcting the p-values for multiple testing and taking negative logarithm\n",
    "        neg_log_pval = math_img(\"-np.log10(np.minimum(1, img * {}))\"\n",
    "                                .format(str(n_voxels)),\n",
    "                                img=p_val)\n",
    "        \n",
    "        thresholded_map_path = os.path.join(workflow_out_dir, 'secondlevel_paramatric_thresholded_contrast-%s_z_map.nii.gz' % stats_id)\n",
    "        thresholded_map_dict[stats_id] = thresholded_map_path\n",
    "        neg_log_pval.to_filename(thresholded_map_path)\n",
    "    \n",
    "        # Since we are plotting negative log p-values and using a threshold equal to 1,\n",
    "        # it corresponds to corrected p-values lower than 10%, meaning that there is\n",
    "        # less than 10% probability to make a single false discovery (90% chance that\n",
    "        # we make no false discovery at all).  This threshold is much more conservative\n",
    "        # than the previous one.\n",
    "        title = ('parametric test (FWER < 10%)')\n",
    "        plot_path = os.path.join(workflow_out_dir, \n",
    "                                   'secondlevel_paramatric_thresholded_contrast-%s_zmap.jpg' % stats_id)\n",
    "        plot_contrast_dict[stats_id] = plot_path\n",
    "        plot_stat_map(\n",
    "            neg_log_pval, colorbar=True,\n",
    "            title=title, output_file=plot_path)\n",
    "    print(\"\\nParametric test is done\")\n",
    "    return thresholded_map_dict, plot_contrast_dict"
   ]
  },
  {
   "cell_type": "markdown",
   "id": "0b3f1c30",
   "metadata": {},
   "source": [
    "### Non-paramatric test & Plot\n",
    "\n",
    "Here we compute the (corrected) negative log p-values with permutation test."
   ]
  },
  {
   "cell_type": "code",
   "execution_count": 18,
   "id": "9e4d43c3",
   "metadata": {},
   "outputs": [],
   "source": [
    "@pydra.mark.task\n",
    "@pydra.mark.annotate(\n",
    "    {'firstlevel_stats_list': list, 'smoothing_fwhm':float,'design_matrix': ty.Any, 'firstlevel_contrast': list, 'n_perm': int, \n",
    "     'return': {'thresholded_map_dict': dict, 'plot_contrast_dict': dict}}\n",
    ")\n",
    "def nonparametric_test(firstlevel_stats_list, smoothing_fwhm, design_matrix, firstlevel_contrast, n_perm):\n",
    "    print(f\"\\nStart nonparametric test ...\\n\")\n",
    "    thresholded_map_dict = dict.fromkeys(firstlevel_contrast[0][0].keys())\n",
    "    plot_contrast_dict = dict.fromkeys(firstlevel_contrast[0][0].keys())\n",
    "    for index, (contrast_id, contrast_val) in enumerate(firstlevel_contrast[0][0].items()):\n",
    "        print('  Contrast % 2i out of %i: %s' % (\n",
    "            index + 1, len(firstlevel_contrast[0][0]), contrast_id))\n",
    "        # here we set threshold as none to do voxel-level FWER-correction.\n",
    "        second_level_input = [nib.load(stats_dict[contrast_id]) for stats_dict in firstlevel_stats_list]\n",
    "        neg_log_pvals_permuted_ols_unmasked = \\\n",
    "            non_parametric_inference(second_level_input=second_level_input, design_matrix=design_matrix,\n",
    "                                     model_intercept=True, n_perm=n_perm,\n",
    "                                     two_sided_test=False, smoothing_fwhm=smoothing_fwhm, n_jobs=1)\n",
    "        thresholded_map_path = os.path.join(workflow_out_dir, 'secondlevel_permutation_contrast-%s_z_map.nii.gz' % contrast_id)\n",
    "        thresholded_map_dict[contrast_id] = thresholded_map_path\n",
    "        neg_log_pvals_permuted_ols_unmasked.to_filename(thresholded_map_path)\n",
    "        # here I actually have more than one contrast\n",
    "        title = ('permutation test (FWER < 10%)')\n",
    "        plot_path = os.path.join(workflow_out_dir, 'secondlevel_permutation_contrast-%s_zmap.jpg' % contrast_id)\n",
    "        plot_contrast_dict[contrast_id] = plot_path\n",
    "        plot_stat_map(\n",
    "            neg_log_pvals_permuted_ols_unmasked, colorbar=True, \n",
    "            title=title, output_file=plot_path)\n",
    "    print(\"\\nPermutation is done\")\n",
    "    return thresholded_map_dict, plot_contrast_dict"
   ]
  },
  {
   "cell_type": "markdown",
   "id": "ea51d541",
   "metadata": {},
   "source": [
    "## The Ultimate Workflow\n",
    "\n",
    "Now, let's connect all tasks and workflows together.\n",
    "\n",
    "Here we randomly choose **5** subjects to perform the analysis. \n",
    "\n",
    "For computational time, we set `n_perm=100`."
   ]
  },
  {
   "cell_type": "code",
   "execution_count": 19,
   "id": "64ebb5ab",
   "metadata": {},
   "outputs": [],
   "source": [
    "wf = Workflow(\n",
    "    name='twolevel_glm',\n",
    "    input_spec=['n_subj'],\n",
    ")\n",
    "\n",
    "wf.inputs.n_subj = 5\n",
    "\n",
    "# randomly choose subjects\n",
    "wf_fixed_effect.inputs.subj_id = random.sample(range(1,17), wf.inputs.n_subj)\n",
    "wf_fixed_effect.inputs.run_id =[1,2,3]\n",
    "wf_fixed_effect.inputs.tr = 2.3\n",
    "wf_fixed_effect.inputs.n_scans = 300\n",
    "wf_fixed_effect.inputs.hrf_model = 'glover'\n",
    "wf_fixed_effect.inputs.smoothing_fwhm = 5.0\n",
    "wf.add(wf_fixed_effect)\n",
    "\n",
    "wf_secondlevel.inputs.n_subj = wf.inputs.n_subj\n",
    "wf_secondlevel.inputs.firstlevel_stats_list = wf.wf_fixed_effect.lzout.fx_t_test_list \n",
    "wf_secondlevel.inputs.firstlevel_contrast = wf.wf_fixed_effect.lzout.first_level_contrast\n",
    "wf.add(wf_secondlevel)\n",
    "\n",
    "# add task - cluster_thresholding\n",
    "wf.add(\n",
    "    cluster_thresholding(\n",
    "        name = \"cluster_thresholding\",\n",
    "        stat_maps_dict = wf.wf_secondlevel.lzout.second_level_stats_map, \n",
    "        threshold = 3.29, \n",
    "        cluster_threshold = 10\n",
    "    )\n",
    ")\n",
    "\n",
    "\n",
    "# add task - multiple_comparison\n",
    "wf.add(\n",
    "    multiple_comparison(\n",
    "        name = \"multiple_comparison\",\n",
    "        stat_maps_dict = wf.wf_secondlevel.lzout.second_level_stats_map, \n",
    "        alpha = 0.05,\n",
    "        height_control = 'fdr'\n",
    "    )\n",
    ")\n",
    "\n",
    "# add task - parametric_test\n",
    "wf.add(\n",
    "    parametric_test(\n",
    "        name = \"parametric_test\",\n",
    "        stat_maps_dict =  wf.wf_secondlevel.lzout.second_level_stats_map, \n",
    "        secondlevel_mask = wf.wf_secondlevel.lzout.second_level_mask\n",
    "    )\n",
    "    \n",
    ")\n",
    "\n",
    "# add task - nonparametric_test\n",
    "wf.add(\n",
    "    nonparametric_test(\n",
    "        name = \"nonparametric_test\",\n",
    "        firstlevel_stats_list = wf.wf_fixed_effect.lzout.fx_t_test_list,\n",
    "        smoothing_fwhm = 5.0,\n",
    "        design_matrix = wf.wf_secondlevel.lzout.second_level_designmatrix,\n",
    "        firstlevel_contrast = wf.wf_fixed_effect.lzout.first_level_contrast,\n",
    "        n_perm = 100,\n",
    "    )\n",
    ")\n",
    "\n",
    "wf.set_output(\n",
    "    [\n",
    "        ('second_level_stats_map', wf.wf_secondlevel.lzout.second_level_stats_map)   \n",
    "    ]\n",
    ")"
   ]
  },
  {
   "cell_type": "markdown",
   "id": "4e1dca50",
   "metadata": {},
   "source": [
    "### Run Workflow Run"
   ]
  },
  {
   "cell_type": "code",
   "execution_count": 20,
   "id": "f00bc6c6",
   "metadata": {
    "tags": [
     "hide-output"
    ]
   },
   "outputs": [
    {
     "name": "stdout",
     "output_type": "stream",
     "text": [
      "\n",
      "Download data for subject-10"
     ]
    },
    {
     "name": "stdout",
     "output_type": "stream",
     "text": [
      "\n"
     ]
    },
    {
     "name": "stdout",
     "output_type": "stream",
     "text": [
      "get"
     ]
    },
    {
     "name": "stdout",
     "output_type": "stream",
     "text": [
      "("
     ]
    },
    {
     "name": "stdout",
     "output_type": "stream",
     "text": [
      "ok"
     ]
    },
    {
     "name": "stdout",
     "output_type": "stream",
     "text": [
      "): sub-10/func/sub-10_task-balloonanalogrisktask_run-1_space-MNI152NLin2009cAsym_res-2_desc-preproc_bold.nii.gz ("
     ]
    },
    {
     "name": "stdout",
     "output_type": "stream",
     "text": [
      "file"
     ]
    },
    {
     "name": "stdout",
     "output_type": "stream",
     "text": [
      ") [from openneuro-derivatives...]"
     ]
    },
    {
     "name": "stdout",
     "output_type": "stream",
     "text": [
      "\n"
     ]
    },
    {
     "name": "stdout",
     "output_type": "stream",
     "text": [
      "get"
     ]
    },
    {
     "name": "stdout",
     "output_type": "stream",
     "text": [
      "("
     ]
    },
    {
     "name": "stdout",
     "output_type": "stream",
     "text": [
      "ok"
     ]
    },
    {
     "name": "stdout",
     "output_type": "stream",
     "text": [
      "): sub-10/func/sub-10_task-balloonanalogrisktask_run-2_space-MNI152NLin2009cAsym_res-2_desc-preproc_bold.nii.gz ("
     ]
    },
    {
     "name": "stdout",
     "output_type": "stream",
     "text": [
      "file"
     ]
    },
    {
     "name": "stdout",
     "output_type": "stream",
     "text": [
      ") [from openneuro-derivatives...]"
     ]
    },
    {
     "name": "stdout",
     "output_type": "stream",
     "text": [
      "\n"
     ]
    },
    {
     "name": "stdout",
     "output_type": "stream",
     "text": [
      "get"
     ]
    },
    {
     "name": "stdout",
     "output_type": "stream",
     "text": [
      "("
     ]
    },
    {
     "name": "stdout",
     "output_type": "stream",
     "text": [
      "ok"
     ]
    },
    {
     "name": "stdout",
     "output_type": "stream",
     "text": [
      "): sub-10/func/sub-10_task-balloonanalogrisktask_run-3_space-MNI152NLin2009cAsym_res-2_desc-preproc_bold.nii.gz ("
     ]
    },
    {
     "name": "stdout",
     "output_type": "stream",
     "text": [
      "file"
     ]
    },
    {
     "name": "stdout",
     "output_type": "stream",
     "text": [
      ") [from openneuro-derivatives...]"
     ]
    },
    {
     "name": "stdout",
     "output_type": "stream",
     "text": [
      "\n"
     ]
    },
    {
     "name": "stdout",
     "output_type": "stream",
     "text": [
      "get"
     ]
    },
    {
     "name": "stdout",
     "output_type": "stream",
     "text": [
      "("
     ]
    },
    {
     "name": "stdout",
     "output_type": "stream",
     "text": [
      "ok"
     ]
    },
    {
     "name": "stdout",
     "output_type": "stream",
     "text": [
      "): sub-10/func/sub-10_task-balloonanalogrisktask_run-1_space-MNI152NLin2009cAsym_res-2_desc-brain_mask.nii.gz ("
     ]
    },
    {
     "name": "stdout",
     "output_type": "stream",
     "text": [
      "file"
     ]
    },
    {
     "name": "stdout",
     "output_type": "stream",
     "text": [
      ") [from openneuro-derivatives...]"
     ]
    },
    {
     "name": "stdout",
     "output_type": "stream",
     "text": [
      "\n"
     ]
    },
    {
     "name": "stdout",
     "output_type": "stream",
     "text": [
      "get"
     ]
    },
    {
     "name": "stdout",
     "output_type": "stream",
     "text": [
      "("
     ]
    },
    {
     "name": "stdout",
     "output_type": "stream",
     "text": [
      "ok"
     ]
    },
    {
     "name": "stdout",
     "output_type": "stream",
     "text": [
      "): sub-10/func/sub-10_task-balloonanalogrisktask_run-2_space-MNI152NLin2009cAsym_res-2_desc-brain_mask.nii.gz ("
     ]
    },
    {
     "name": "stdout",
     "output_type": "stream",
     "text": [
      "file"
     ]
    },
    {
     "name": "stdout",
     "output_type": "stream",
     "text": [
      ") [from openneuro-derivatives...]"
     ]
    },
    {
     "name": "stdout",
     "output_type": "stream",
     "text": [
      "\n"
     ]
    },
    {
     "name": "stdout",
     "output_type": "stream",
     "text": [
      "get"
     ]
    },
    {
     "name": "stdout",
     "output_type": "stream",
     "text": [
      "("
     ]
    },
    {
     "name": "stdout",
     "output_type": "stream",
     "text": [
      "ok"
     ]
    },
    {
     "name": "stdout",
     "output_type": "stream",
     "text": [
      "): sub-10/func/sub-10_task-balloonanalogrisktask_run-3_space-MNI152NLin2009cAsym_res-2_desc-brain_mask.nii.gz ("
     ]
    },
    {
     "name": "stdout",
     "output_type": "stream",
     "text": [
      "file"
     ]
    },
    {
     "name": "stdout",
     "output_type": "stream",
     "text": [
      ") [from openneuro-derivatives...]"
     ]
    },
    {
     "name": "stdout",
     "output_type": "stream",
     "text": [
      "\n"
     ]
    },
    {
     "name": "stdout",
     "output_type": "stream",
     "text": [
      "get"
     ]
    },
    {
     "name": "stdout",
     "output_type": "stream",
     "text": [
      "("
     ]
    },
    {
     "name": "stdout",
     "output_type": "stream",
     "text": [
      "ok"
     ]
    },
    {
     "name": "stdout",
     "output_type": "stream",
     "text": [
      "): sub-10/func/sub-10_task-balloonanalogrisktask_run-1_desc-confounds_timeseries.tsv ("
     ]
    },
    {
     "name": "stdout",
     "output_type": "stream",
     "text": [
      "file"
     ]
    },
    {
     "name": "stdout",
     "output_type": "stream",
     "text": [
      ") [from openneuro-derivatives...]"
     ]
    },
    {
     "name": "stdout",
     "output_type": "stream",
     "text": [
      "\n"
     ]
    },
    {
     "name": "stdout",
     "output_type": "stream",
     "text": [
      "get"
     ]
    },
    {
     "name": "stdout",
     "output_type": "stream",
     "text": [
      "("
     ]
    },
    {
     "name": "stdout",
     "output_type": "stream",
     "text": [
      "ok"
     ]
    },
    {
     "name": "stdout",
     "output_type": "stream",
     "text": [
      "): sub-10/func/sub-10_task-balloonanalogrisktask_run-2_desc-confounds_timeseries.tsv ("
     ]
    },
    {
     "name": "stdout",
     "output_type": "stream",
     "text": [
      "file"
     ]
    },
    {
     "name": "stdout",
     "output_type": "stream",
     "text": [
      ") [from openneuro-derivatives...]"
     ]
    },
    {
     "name": "stdout",
     "output_type": "stream",
     "text": [
      "\n"
     ]
    },
    {
     "name": "stdout",
     "output_type": "stream",
     "text": [
      "get"
     ]
    },
    {
     "name": "stdout",
     "output_type": "stream",
     "text": [
      "("
     ]
    },
    {
     "name": "stdout",
     "output_type": "stream",
     "text": [
      "ok"
     ]
    },
    {
     "name": "stdout",
     "output_type": "stream",
     "text": [
      "): sub-10/func/sub-10_task-balloonanalogrisktask_run-3_desc-confounds_timeseries.tsv ("
     ]
    },
    {
     "name": "stdout",
     "output_type": "stream",
     "text": [
      "file"
     ]
    },
    {
     "name": "stdout",
     "output_type": "stream",
     "text": [
      ") [from openneuro-derivatives...]"
     ]
    },
    {
     "name": "stdout",
     "output_type": "stream",
     "text": [
      "\n"
     ]
    },
    {
     "name": "stdout",
     "output_type": "stream",
     "text": [
      "\n",
      "Download data for subject-15"
     ]
    },
    {
     "name": "stdout",
     "output_type": "stream",
     "text": [
      "\n"
     ]
    },
    {
     "name": "stdout",
     "output_type": "stream",
     "text": [
      "get"
     ]
    },
    {
     "name": "stdout",
     "output_type": "stream",
     "text": [
      "("
     ]
    },
    {
     "name": "stdout",
     "output_type": "stream",
     "text": [
      "ok"
     ]
    },
    {
     "name": "stdout",
     "output_type": "stream",
     "text": [
      "): sub-15/func/sub-15_task-balloonanalogrisktask_run-1_space-MNI152NLin2009cAsym_res-2_desc-preproc_bold.nii.gz ("
     ]
    },
    {
     "name": "stdout",
     "output_type": "stream",
     "text": [
      "file"
     ]
    },
    {
     "name": "stdout",
     "output_type": "stream",
     "text": [
      ") [from openneuro-derivatives...]"
     ]
    },
    {
     "name": "stdout",
     "output_type": "stream",
     "text": [
      "\n"
     ]
    },
    {
     "name": "stdout",
     "output_type": "stream",
     "text": [
      "get"
     ]
    },
    {
     "name": "stdout",
     "output_type": "stream",
     "text": [
      "("
     ]
    },
    {
     "name": "stdout",
     "output_type": "stream",
     "text": [
      "ok"
     ]
    },
    {
     "name": "stdout",
     "output_type": "stream",
     "text": [
      "): sub-15/func/sub-15_task-balloonanalogrisktask_run-2_space-MNI152NLin2009cAsym_res-2_desc-preproc_bold.nii.gz ("
     ]
    },
    {
     "name": "stdout",
     "output_type": "stream",
     "text": [
      "file"
     ]
    },
    {
     "name": "stdout",
     "output_type": "stream",
     "text": [
      ") [from openneuro-derivatives...]"
     ]
    },
    {
     "name": "stdout",
     "output_type": "stream",
     "text": [
      "\n"
     ]
    },
    {
     "name": "stdout",
     "output_type": "stream",
     "text": [
      "get"
     ]
    },
    {
     "name": "stdout",
     "output_type": "stream",
     "text": [
      "("
     ]
    },
    {
     "name": "stdout",
     "output_type": "stream",
     "text": [
      "ok"
     ]
    },
    {
     "name": "stdout",
     "output_type": "stream",
     "text": [
      "): sub-15/func/sub-15_task-balloonanalogrisktask_run-3_space-MNI152NLin2009cAsym_res-2_desc-preproc_bold.nii.gz ("
     ]
    },
    {
     "name": "stdout",
     "output_type": "stream",
     "text": [
      "file"
     ]
    },
    {
     "name": "stdout",
     "output_type": "stream",
     "text": [
      ") [from openneuro-derivatives...]"
     ]
    },
    {
     "name": "stdout",
     "output_type": "stream",
     "text": [
      "\n"
     ]
    },
    {
     "name": "stdout",
     "output_type": "stream",
     "text": [
      "get"
     ]
    },
    {
     "name": "stdout",
     "output_type": "stream",
     "text": [
      "("
     ]
    },
    {
     "name": "stdout",
     "output_type": "stream",
     "text": [
      "ok"
     ]
    },
    {
     "name": "stdout",
     "output_type": "stream",
     "text": [
      "): sub-15/func/sub-15_task-balloonanalogrisktask_run-1_space-MNI152NLin2009cAsym_res-2_desc-brain_mask.nii.gz ("
     ]
    },
    {
     "name": "stdout",
     "output_type": "stream",
     "text": [
      "file"
     ]
    },
    {
     "name": "stdout",
     "output_type": "stream",
     "text": [
      ") [from openneuro-derivatives...]"
     ]
    },
    {
     "name": "stdout",
     "output_type": "stream",
     "text": [
      "\n"
     ]
    },
    {
     "name": "stdout",
     "output_type": "stream",
     "text": [
      "get"
     ]
    },
    {
     "name": "stdout",
     "output_type": "stream",
     "text": [
      "("
     ]
    },
    {
     "name": "stdout",
     "output_type": "stream",
     "text": [
      "ok"
     ]
    },
    {
     "name": "stdout",
     "output_type": "stream",
     "text": [
      "): sub-15/func/sub-15_task-balloonanalogrisktask_run-2_space-MNI152NLin2009cAsym_res-2_desc-brain_mask.nii.gz ("
     ]
    },
    {
     "name": "stdout",
     "output_type": "stream",
     "text": [
      "file"
     ]
    },
    {
     "name": "stdout",
     "output_type": "stream",
     "text": [
      ") [from openneuro-derivatives...]"
     ]
    },
    {
     "name": "stdout",
     "output_type": "stream",
     "text": [
      "\n"
     ]
    },
    {
     "name": "stdout",
     "output_type": "stream",
     "text": [
      "get"
     ]
    },
    {
     "name": "stdout",
     "output_type": "stream",
     "text": [
      "("
     ]
    },
    {
     "name": "stdout",
     "output_type": "stream",
     "text": [
      "ok"
     ]
    },
    {
     "name": "stdout",
     "output_type": "stream",
     "text": [
      "): sub-15/func/sub-15_task-balloonanalogrisktask_run-3_space-MNI152NLin2009cAsym_res-2_desc-brain_mask.nii.gz ("
     ]
    },
    {
     "name": "stdout",
     "output_type": "stream",
     "text": [
      "file"
     ]
    },
    {
     "name": "stdout",
     "output_type": "stream",
     "text": [
      ") [from openneuro-derivatives...]"
     ]
    },
    {
     "name": "stdout",
     "output_type": "stream",
     "text": [
      "\n"
     ]
    },
    {
     "name": "stdout",
     "output_type": "stream",
     "text": [
      "get"
     ]
    },
    {
     "name": "stdout",
     "output_type": "stream",
     "text": [
      "("
     ]
    },
    {
     "name": "stdout",
     "output_type": "stream",
     "text": [
      "ok"
     ]
    },
    {
     "name": "stdout",
     "output_type": "stream",
     "text": [
      "): sub-15/func/sub-15_task-balloonanalogrisktask_run-1_desc-confounds_timeseries.tsv ("
     ]
    },
    {
     "name": "stdout",
     "output_type": "stream",
     "text": [
      "file"
     ]
    },
    {
     "name": "stdout",
     "output_type": "stream",
     "text": [
      ") [from openneuro-derivatives...]"
     ]
    },
    {
     "name": "stdout",
     "output_type": "stream",
     "text": [
      "\n"
     ]
    },
    {
     "name": "stdout",
     "output_type": "stream",
     "text": [
      "get"
     ]
    },
    {
     "name": "stdout",
     "output_type": "stream",
     "text": [
      "("
     ]
    },
    {
     "name": "stdout",
     "output_type": "stream",
     "text": [
      "ok"
     ]
    },
    {
     "name": "stdout",
     "output_type": "stream",
     "text": [
      "): sub-15/func/sub-15_task-balloonanalogrisktask_run-2_desc-confounds_timeseries.tsv ("
     ]
    },
    {
     "name": "stdout",
     "output_type": "stream",
     "text": [
      "file"
     ]
    },
    {
     "name": "stdout",
     "output_type": "stream",
     "text": [
      ") [from openneuro-derivatives...]"
     ]
    },
    {
     "name": "stdout",
     "output_type": "stream",
     "text": [
      "\n"
     ]
    },
    {
     "name": "stdout",
     "output_type": "stream",
     "text": [
      "get"
     ]
    },
    {
     "name": "stdout",
     "output_type": "stream",
     "text": [
      "("
     ]
    },
    {
     "name": "stdout",
     "output_type": "stream",
     "text": [
      "ok"
     ]
    },
    {
     "name": "stdout",
     "output_type": "stream",
     "text": [
      "): sub-15/func/sub-15_task-balloonanalogrisktask_run-3_desc-confounds_timeseries.tsv ("
     ]
    },
    {
     "name": "stdout",
     "output_type": "stream",
     "text": [
      "file"
     ]
    },
    {
     "name": "stdout",
     "output_type": "stream",
     "text": [
      ") [from openneuro-derivatives...]"
     ]
    },
    {
     "name": "stdout",
     "output_type": "stream",
     "text": [
      "\n"
     ]
    },
    {
     "name": "stdout",
     "output_type": "stream",
     "text": [
      "\n",
      "Download data for subject-16"
     ]
    },
    {
     "name": "stdout",
     "output_type": "stream",
     "text": [
      "\n"
     ]
    },
    {
     "name": "stdout",
     "output_type": "stream",
     "text": [
      "get"
     ]
    },
    {
     "name": "stdout",
     "output_type": "stream",
     "text": [
      "("
     ]
    },
    {
     "name": "stdout",
     "output_type": "stream",
     "text": [
      "ok"
     ]
    },
    {
     "name": "stdout",
     "output_type": "stream",
     "text": [
      "): sub-16/func/sub-16_task-balloonanalogrisktask_run-1_space-MNI152NLin2009cAsym_res-2_desc-preproc_bold.nii.gz ("
     ]
    },
    {
     "name": "stdout",
     "output_type": "stream",
     "text": [
      "file"
     ]
    },
    {
     "name": "stdout",
     "output_type": "stream",
     "text": [
      ") [from openneuro-derivatives...]"
     ]
    },
    {
     "name": "stdout",
     "output_type": "stream",
     "text": [
      "\n"
     ]
    },
    {
     "name": "stdout",
     "output_type": "stream",
     "text": [
      "get"
     ]
    },
    {
     "name": "stdout",
     "output_type": "stream",
     "text": [
      "("
     ]
    },
    {
     "name": "stdout",
     "output_type": "stream",
     "text": [
      "ok"
     ]
    },
    {
     "name": "stdout",
     "output_type": "stream",
     "text": [
      "): sub-16/func/sub-16_task-balloonanalogrisktask_run-2_space-MNI152NLin2009cAsym_res-2_desc-preproc_bold.nii.gz ("
     ]
    },
    {
     "name": "stdout",
     "output_type": "stream",
     "text": [
      "file"
     ]
    },
    {
     "name": "stdout",
     "output_type": "stream",
     "text": [
      ") [from openneuro-derivatives...]"
     ]
    },
    {
     "name": "stdout",
     "output_type": "stream",
     "text": [
      "\n"
     ]
    },
    {
     "name": "stdout",
     "output_type": "stream",
     "text": [
      "get"
     ]
    },
    {
     "name": "stdout",
     "output_type": "stream",
     "text": [
      "("
     ]
    },
    {
     "name": "stdout",
     "output_type": "stream",
     "text": [
      "ok"
     ]
    },
    {
     "name": "stdout",
     "output_type": "stream",
     "text": [
      "): sub-16/func/sub-16_task-balloonanalogrisktask_run-3_space-MNI152NLin2009cAsym_res-2_desc-preproc_bold.nii.gz ("
     ]
    },
    {
     "name": "stdout",
     "output_type": "stream",
     "text": [
      "file"
     ]
    },
    {
     "name": "stdout",
     "output_type": "stream",
     "text": [
      ") [from openneuro-derivatives...]"
     ]
    },
    {
     "name": "stdout",
     "output_type": "stream",
     "text": [
      "\n"
     ]
    },
    {
     "name": "stdout",
     "output_type": "stream",
     "text": [
      "get"
     ]
    },
    {
     "name": "stdout",
     "output_type": "stream",
     "text": [
      "("
     ]
    },
    {
     "name": "stdout",
     "output_type": "stream",
     "text": [
      "ok"
     ]
    },
    {
     "name": "stdout",
     "output_type": "stream",
     "text": [
      "): sub-16/func/sub-16_task-balloonanalogrisktask_run-1_space-MNI152NLin2009cAsym_res-2_desc-brain_mask.nii.gz ("
     ]
    },
    {
     "name": "stdout",
     "output_type": "stream",
     "text": [
      "file"
     ]
    },
    {
     "name": "stdout",
     "output_type": "stream",
     "text": [
      ") [from openneuro-derivatives...]"
     ]
    },
    {
     "name": "stdout",
     "output_type": "stream",
     "text": [
      "\n"
     ]
    },
    {
     "name": "stdout",
     "output_type": "stream",
     "text": [
      "get"
     ]
    },
    {
     "name": "stdout",
     "output_type": "stream",
     "text": [
      "("
     ]
    },
    {
     "name": "stdout",
     "output_type": "stream",
     "text": [
      "ok"
     ]
    },
    {
     "name": "stdout",
     "output_type": "stream",
     "text": [
      "): sub-16/func/sub-16_task-balloonanalogrisktask_run-2_space-MNI152NLin2009cAsym_res-2_desc-brain_mask.nii.gz ("
     ]
    },
    {
     "name": "stdout",
     "output_type": "stream",
     "text": [
      "file"
     ]
    },
    {
     "name": "stdout",
     "output_type": "stream",
     "text": [
      ") [from openneuro-derivatives...]"
     ]
    },
    {
     "name": "stdout",
     "output_type": "stream",
     "text": [
      "\n"
     ]
    },
    {
     "name": "stdout",
     "output_type": "stream",
     "text": [
      "get"
     ]
    },
    {
     "name": "stdout",
     "output_type": "stream",
     "text": [
      "("
     ]
    },
    {
     "name": "stdout",
     "output_type": "stream",
     "text": [
      "ok"
     ]
    },
    {
     "name": "stdout",
     "output_type": "stream",
     "text": [
      "): sub-16/func/sub-16_task-balloonanalogrisktask_run-3_space-MNI152NLin2009cAsym_res-2_desc-brain_mask.nii.gz ("
     ]
    },
    {
     "name": "stdout",
     "output_type": "stream",
     "text": [
      "file"
     ]
    },
    {
     "name": "stdout",
     "output_type": "stream",
     "text": [
      ") [from openneuro-derivatives...]"
     ]
    },
    {
     "name": "stdout",
     "output_type": "stream",
     "text": [
      "\n"
     ]
    },
    {
     "name": "stdout",
     "output_type": "stream",
     "text": [
      "get"
     ]
    },
    {
     "name": "stdout",
     "output_type": "stream",
     "text": [
      "("
     ]
    },
    {
     "name": "stdout",
     "output_type": "stream",
     "text": [
      "ok"
     ]
    },
    {
     "name": "stdout",
     "output_type": "stream",
     "text": [
      "): sub-16/func/sub-16_task-balloonanalogrisktask_run-1_desc-confounds_timeseries.tsv ("
     ]
    },
    {
     "name": "stdout",
     "output_type": "stream",
     "text": [
      "file"
     ]
    },
    {
     "name": "stdout",
     "output_type": "stream",
     "text": [
      ") [from openneuro-derivatives...]"
     ]
    },
    {
     "name": "stdout",
     "output_type": "stream",
     "text": [
      "\n"
     ]
    },
    {
     "name": "stdout",
     "output_type": "stream",
     "text": [
      "get"
     ]
    },
    {
     "name": "stdout",
     "output_type": "stream",
     "text": [
      "("
     ]
    },
    {
     "name": "stdout",
     "output_type": "stream",
     "text": [
      "ok"
     ]
    },
    {
     "name": "stdout",
     "output_type": "stream",
     "text": [
      "): sub-16/func/sub-16_task-balloonanalogrisktask_run-2_desc-confounds_timeseries.tsv ("
     ]
    },
    {
     "name": "stdout",
     "output_type": "stream",
     "text": [
      "file"
     ]
    },
    {
     "name": "stdout",
     "output_type": "stream",
     "text": [
      ") [from openneuro-derivatives...]"
     ]
    },
    {
     "name": "stdout",
     "output_type": "stream",
     "text": [
      "\n"
     ]
    },
    {
     "name": "stdout",
     "output_type": "stream",
     "text": [
      "get"
     ]
    },
    {
     "name": "stdout",
     "output_type": "stream",
     "text": [
      "("
     ]
    },
    {
     "name": "stdout",
     "output_type": "stream",
     "text": [
      "ok"
     ]
    },
    {
     "name": "stdout",
     "output_type": "stream",
     "text": [
      "): sub-16/func/sub-16_task-balloonanalogrisktask_run-3_desc-confounds_timeseries.tsv ("
     ]
    },
    {
     "name": "stdout",
     "output_type": "stream",
     "text": [
      "file"
     ]
    },
    {
     "name": "stdout",
     "output_type": "stream",
     "text": [
      ") [from openneuro-derivatives...]"
     ]
    },
    {
     "name": "stdout",
     "output_type": "stream",
     "text": [
      "\n"
     ]
    },
    {
     "name": "stdout",
     "output_type": "stream",
     "text": [
      "\n",
      "Download data for subject-5"
     ]
    },
    {
     "name": "stdout",
     "output_type": "stream",
     "text": [
      "\n"
     ]
    },
    {
     "name": "stdout",
     "output_type": "stream",
     "text": [
      "get"
     ]
    },
    {
     "name": "stdout",
     "output_type": "stream",
     "text": [
      "("
     ]
    },
    {
     "name": "stdout",
     "output_type": "stream",
     "text": [
      "ok"
     ]
    },
    {
     "name": "stdout",
     "output_type": "stream",
     "text": [
      "): sub-05/func/sub-05_task-balloonanalogrisktask_run-1_space-MNI152NLin2009cAsym_res-2_desc-preproc_bold.nii.gz ("
     ]
    },
    {
     "name": "stdout",
     "output_type": "stream",
     "text": [
      "file"
     ]
    },
    {
     "name": "stdout",
     "output_type": "stream",
     "text": [
      ") [from openneuro-derivatives...]"
     ]
    },
    {
     "name": "stdout",
     "output_type": "stream",
     "text": [
      "\n"
     ]
    },
    {
     "name": "stdout",
     "output_type": "stream",
     "text": [
      "get"
     ]
    },
    {
     "name": "stdout",
     "output_type": "stream",
     "text": [
      "("
     ]
    },
    {
     "name": "stdout",
     "output_type": "stream",
     "text": [
      "ok"
     ]
    },
    {
     "name": "stdout",
     "output_type": "stream",
     "text": [
      "): sub-05/func/sub-05_task-balloonanalogrisktask_run-2_space-MNI152NLin2009cAsym_res-2_desc-preproc_bold.nii.gz ("
     ]
    },
    {
     "name": "stdout",
     "output_type": "stream",
     "text": [
      "file"
     ]
    },
    {
     "name": "stdout",
     "output_type": "stream",
     "text": [
      ") [from openneuro-derivatives...]"
     ]
    },
    {
     "name": "stdout",
     "output_type": "stream",
     "text": [
      "\n"
     ]
    },
    {
     "name": "stdout",
     "output_type": "stream",
     "text": [
      "get"
     ]
    },
    {
     "name": "stdout",
     "output_type": "stream",
     "text": [
      "("
     ]
    },
    {
     "name": "stdout",
     "output_type": "stream",
     "text": [
      "ok"
     ]
    },
    {
     "name": "stdout",
     "output_type": "stream",
     "text": [
      "): sub-05/func/sub-05_task-balloonanalogrisktask_run-3_space-MNI152NLin2009cAsym_res-2_desc-preproc_bold.nii.gz ("
     ]
    },
    {
     "name": "stdout",
     "output_type": "stream",
     "text": [
      "file"
     ]
    },
    {
     "name": "stdout",
     "output_type": "stream",
     "text": [
      ") [from openneuro-derivatives...]"
     ]
    },
    {
     "name": "stdout",
     "output_type": "stream",
     "text": [
      "\n"
     ]
    },
    {
     "name": "stdout",
     "output_type": "stream",
     "text": [
      "get"
     ]
    },
    {
     "name": "stdout",
     "output_type": "stream",
     "text": [
      "("
     ]
    },
    {
     "name": "stdout",
     "output_type": "stream",
     "text": [
      "ok"
     ]
    },
    {
     "name": "stdout",
     "output_type": "stream",
     "text": [
      "): sub-05/func/sub-05_task-balloonanalogrisktask_run-1_space-MNI152NLin2009cAsym_res-2_desc-brain_mask.nii.gz ("
     ]
    },
    {
     "name": "stdout",
     "output_type": "stream",
     "text": [
      "file"
     ]
    },
    {
     "name": "stdout",
     "output_type": "stream",
     "text": [
      ") [from openneuro-derivatives...]"
     ]
    },
    {
     "name": "stdout",
     "output_type": "stream",
     "text": [
      "\n"
     ]
    },
    {
     "name": "stdout",
     "output_type": "stream",
     "text": [
      "get"
     ]
    },
    {
     "name": "stdout",
     "output_type": "stream",
     "text": [
      "("
     ]
    },
    {
     "name": "stdout",
     "output_type": "stream",
     "text": [
      "ok"
     ]
    },
    {
     "name": "stdout",
     "output_type": "stream",
     "text": [
      "): sub-05/func/sub-05_task-balloonanalogrisktask_run-2_space-MNI152NLin2009cAsym_res-2_desc-brain_mask.nii.gz ("
     ]
    },
    {
     "name": "stdout",
     "output_type": "stream",
     "text": [
      "file"
     ]
    },
    {
     "name": "stdout",
     "output_type": "stream",
     "text": [
      ") [from openneuro-derivatives...]"
     ]
    },
    {
     "name": "stdout",
     "output_type": "stream",
     "text": [
      "\n"
     ]
    },
    {
     "name": "stdout",
     "output_type": "stream",
     "text": [
      "get"
     ]
    },
    {
     "name": "stdout",
     "output_type": "stream",
     "text": [
      "("
     ]
    },
    {
     "name": "stdout",
     "output_type": "stream",
     "text": [
      "ok"
     ]
    },
    {
     "name": "stdout",
     "output_type": "stream",
     "text": [
      "): sub-05/func/sub-05_task-balloonanalogrisktask_run-3_space-MNI152NLin2009cAsym_res-2_desc-brain_mask.nii.gz ("
     ]
    },
    {
     "name": "stdout",
     "output_type": "stream",
     "text": [
      "file"
     ]
    },
    {
     "name": "stdout",
     "output_type": "stream",
     "text": [
      ") [from openneuro-derivatives...]"
     ]
    },
    {
     "name": "stdout",
     "output_type": "stream",
     "text": [
      "\n"
     ]
    },
    {
     "name": "stdout",
     "output_type": "stream",
     "text": [
      "get"
     ]
    },
    {
     "name": "stdout",
     "output_type": "stream",
     "text": [
      "("
     ]
    },
    {
     "name": "stdout",
     "output_type": "stream",
     "text": [
      "ok"
     ]
    },
    {
     "name": "stdout",
     "output_type": "stream",
     "text": [
      "): sub-05/func/sub-05_task-balloonanalogrisktask_run-1_desc-confounds_timeseries.tsv ("
     ]
    },
    {
     "name": "stdout",
     "output_type": "stream",
     "text": [
      "file"
     ]
    },
    {
     "name": "stdout",
     "output_type": "stream",
     "text": [
      ") [from openneuro-derivatives...]"
     ]
    },
    {
     "name": "stdout",
     "output_type": "stream",
     "text": [
      "\n"
     ]
    },
    {
     "name": "stdout",
     "output_type": "stream",
     "text": [
      "get"
     ]
    },
    {
     "name": "stdout",
     "output_type": "stream",
     "text": [
      "("
     ]
    },
    {
     "name": "stdout",
     "output_type": "stream",
     "text": [
      "ok"
     ]
    },
    {
     "name": "stdout",
     "output_type": "stream",
     "text": [
      "): sub-05/func/sub-05_task-balloonanalogrisktask_run-2_desc-confounds_timeseries.tsv ("
     ]
    },
    {
     "name": "stdout",
     "output_type": "stream",
     "text": [
      "file"
     ]
    },
    {
     "name": "stdout",
     "output_type": "stream",
     "text": [
      ") [from openneuro-derivatives...]"
     ]
    },
    {
     "name": "stdout",
     "output_type": "stream",
     "text": [
      "\n"
     ]
    },
    {
     "name": "stdout",
     "output_type": "stream",
     "text": [
      "get"
     ]
    },
    {
     "name": "stdout",
     "output_type": "stream",
     "text": [
      "("
     ]
    },
    {
     "name": "stdout",
     "output_type": "stream",
     "text": [
      "ok"
     ]
    },
    {
     "name": "stdout",
     "output_type": "stream",
     "text": [
      "): sub-05/func/sub-05_task-balloonanalogrisktask_run-3_desc-confounds_timeseries.tsv ("
     ]
    },
    {
     "name": "stdout",
     "output_type": "stream",
     "text": [
      "file"
     ]
    },
    {
     "name": "stdout",
     "output_type": "stream",
     "text": [
      ") [from openneuro-derivatives...]"
     ]
    },
    {
     "name": "stdout",
     "output_type": "stream",
     "text": [
      "\n"
     ]
    },
    {
     "name": "stdout",
     "output_type": "stream",
     "text": [
      "\n",
      "Download data for subject-14"
     ]
    },
    {
     "name": "stdout",
     "output_type": "stream",
     "text": [
      "\n"
     ]
    },
    {
     "name": "stdout",
     "output_type": "stream",
     "text": [
      "get"
     ]
    },
    {
     "name": "stdout",
     "output_type": "stream",
     "text": [
      "("
     ]
    },
    {
     "name": "stdout",
     "output_type": "stream",
     "text": [
      "ok"
     ]
    },
    {
     "name": "stdout",
     "output_type": "stream",
     "text": [
      "): sub-14/func/sub-14_task-balloonanalogrisktask_run-1_space-MNI152NLin2009cAsym_res-2_desc-preproc_bold.nii.gz ("
     ]
    },
    {
     "name": "stdout",
     "output_type": "stream",
     "text": [
      "file"
     ]
    },
    {
     "name": "stdout",
     "output_type": "stream",
     "text": [
      ") [from openneuro-derivatives...]"
     ]
    },
    {
     "name": "stdout",
     "output_type": "stream",
     "text": [
      "\n"
     ]
    },
    {
     "name": "stdout",
     "output_type": "stream",
     "text": [
      "get"
     ]
    },
    {
     "name": "stdout",
     "output_type": "stream",
     "text": [
      "("
     ]
    },
    {
     "name": "stdout",
     "output_type": "stream",
     "text": [
      "ok"
     ]
    },
    {
     "name": "stdout",
     "output_type": "stream",
     "text": [
      "): sub-14/func/sub-14_task-balloonanalogrisktask_run-2_space-MNI152NLin2009cAsym_res-2_desc-preproc_bold.nii.gz ("
     ]
    },
    {
     "name": "stdout",
     "output_type": "stream",
     "text": [
      "file"
     ]
    },
    {
     "name": "stdout",
     "output_type": "stream",
     "text": [
      ") [from openneuro-derivatives...]"
     ]
    },
    {
     "name": "stdout",
     "output_type": "stream",
     "text": [
      "\n"
     ]
    },
    {
     "name": "stdout",
     "output_type": "stream",
     "text": [
      "get"
     ]
    },
    {
     "name": "stdout",
     "output_type": "stream",
     "text": [
      "("
     ]
    },
    {
     "name": "stdout",
     "output_type": "stream",
     "text": [
      "ok"
     ]
    },
    {
     "name": "stdout",
     "output_type": "stream",
     "text": [
      "): sub-14/func/sub-14_task-balloonanalogrisktask_run-3_space-MNI152NLin2009cAsym_res-2_desc-preproc_bold.nii.gz ("
     ]
    },
    {
     "name": "stdout",
     "output_type": "stream",
     "text": [
      "file"
     ]
    },
    {
     "name": "stdout",
     "output_type": "stream",
     "text": [
      ") [from openneuro-derivatives...]"
     ]
    },
    {
     "name": "stdout",
     "output_type": "stream",
     "text": [
      "\n"
     ]
    },
    {
     "name": "stdout",
     "output_type": "stream",
     "text": [
      "get"
     ]
    },
    {
     "name": "stdout",
     "output_type": "stream",
     "text": [
      "("
     ]
    },
    {
     "name": "stdout",
     "output_type": "stream",
     "text": [
      "ok"
     ]
    },
    {
     "name": "stdout",
     "output_type": "stream",
     "text": [
      "): sub-14/func/sub-14_task-balloonanalogrisktask_run-1_space-MNI152NLin2009cAsym_res-2_desc-brain_mask.nii.gz ("
     ]
    },
    {
     "name": "stdout",
     "output_type": "stream",
     "text": [
      "file"
     ]
    },
    {
     "name": "stdout",
     "output_type": "stream",
     "text": [
      ") [from openneuro-derivatives...]"
     ]
    },
    {
     "name": "stdout",
     "output_type": "stream",
     "text": [
      "\n"
     ]
    },
    {
     "name": "stdout",
     "output_type": "stream",
     "text": [
      "get"
     ]
    },
    {
     "name": "stdout",
     "output_type": "stream",
     "text": [
      "("
     ]
    },
    {
     "name": "stdout",
     "output_type": "stream",
     "text": [
      "ok"
     ]
    },
    {
     "name": "stdout",
     "output_type": "stream",
     "text": [
      "): sub-14/func/sub-14_task-balloonanalogrisktask_run-2_space-MNI152NLin2009cAsym_res-2_desc-brain_mask.nii.gz ("
     ]
    },
    {
     "name": "stdout",
     "output_type": "stream",
     "text": [
      "file"
     ]
    },
    {
     "name": "stdout",
     "output_type": "stream",
     "text": [
      ") [from openneuro-derivatives...]"
     ]
    },
    {
     "name": "stdout",
     "output_type": "stream",
     "text": [
      "\n"
     ]
    },
    {
     "name": "stdout",
     "output_type": "stream",
     "text": [
      "get"
     ]
    },
    {
     "name": "stdout",
     "output_type": "stream",
     "text": [
      "("
     ]
    },
    {
     "name": "stdout",
     "output_type": "stream",
     "text": [
      "ok"
     ]
    },
    {
     "name": "stdout",
     "output_type": "stream",
     "text": [
      "): sub-14/func/sub-14_task-balloonanalogrisktask_run-3_space-MNI152NLin2009cAsym_res-2_desc-brain_mask.nii.gz ("
     ]
    },
    {
     "name": "stdout",
     "output_type": "stream",
     "text": [
      "file"
     ]
    },
    {
     "name": "stdout",
     "output_type": "stream",
     "text": [
      ") [from openneuro-derivatives...]"
     ]
    },
    {
     "name": "stdout",
     "output_type": "stream",
     "text": [
      "\n"
     ]
    },
    {
     "name": "stdout",
     "output_type": "stream",
     "text": [
      "get"
     ]
    },
    {
     "name": "stdout",
     "output_type": "stream",
     "text": [
      "("
     ]
    },
    {
     "name": "stdout",
     "output_type": "stream",
     "text": [
      "ok"
     ]
    },
    {
     "name": "stdout",
     "output_type": "stream",
     "text": [
      "): sub-14/func/sub-14_task-balloonanalogrisktask_run-1_desc-confounds_timeseries.tsv ("
     ]
    },
    {
     "name": "stdout",
     "output_type": "stream",
     "text": [
      "file"
     ]
    },
    {
     "name": "stdout",
     "output_type": "stream",
     "text": [
      ") [from openneuro-derivatives...]"
     ]
    },
    {
     "name": "stdout",
     "output_type": "stream",
     "text": [
      "\n"
     ]
    },
    {
     "name": "stdout",
     "output_type": "stream",
     "text": [
      "get"
     ]
    },
    {
     "name": "stdout",
     "output_type": "stream",
     "text": [
      "("
     ]
    },
    {
     "name": "stdout",
     "output_type": "stream",
     "text": [
      "ok"
     ]
    },
    {
     "name": "stdout",
     "output_type": "stream",
     "text": [
      "): sub-14/func/sub-14_task-balloonanalogrisktask_run-2_desc-confounds_timeseries.tsv ("
     ]
    },
    {
     "name": "stdout",
     "output_type": "stream",
     "text": [
      "file"
     ]
    },
    {
     "name": "stdout",
     "output_type": "stream",
     "text": [
      ") [from openneuro-derivatives...]"
     ]
    },
    {
     "name": "stdout",
     "output_type": "stream",
     "text": [
      "\n"
     ]
    },
    {
     "name": "stdout",
     "output_type": "stream",
     "text": [
      "get"
     ]
    },
    {
     "name": "stdout",
     "output_type": "stream",
     "text": [
      "("
     ]
    },
    {
     "name": "stdout",
     "output_type": "stream",
     "text": [
      "ok"
     ]
    },
    {
     "name": "stdout",
     "output_type": "stream",
     "text": [
      "): sub-14/func/sub-14_task-balloonanalogrisktask_run-3_desc-confounds_timeseries.tsv ("
     ]
    },
    {
     "name": "stdout",
     "output_type": "stream",
     "text": [
      "file"
     ]
    },
    {
     "name": "stdout",
     "output_type": "stream",
     "text": [
      ") [from openneuro-derivatives...]"
     ]
    },
    {
     "name": "stdout",
     "output_type": "stream",
     "text": [
      "\n"
     ]
    },
    {
     "name": "stdout",
     "output_type": "stream",
     "text": [
      "\n",
      "Get subject-10, run-1 firstlevel GLM design matrix...\n"
     ]
    },
    {
     "name": "stdout",
     "output_type": "stream",
     "text": [
      "\n"
     ]
    },
    {
     "name": "stdout",
     "output_type": "stream",
     "text": [
      "\n",
      "Get subject-10, run-2 firstlevel GLM design matrix...\n"
     ]
    },
    {
     "name": "stdout",
     "output_type": "stream",
     "text": [
      "\n"
     ]
    },
    {
     "name": "stdout",
     "output_type": "stream",
     "text": [
      "\n",
      "Get subject-10, run-3 firstlevel GLM design matrix...\n"
     ]
    },
    {
     "name": "stdout",
     "output_type": "stream",
     "text": [
      "\n"
     ]
    },
    {
     "name": "stdout",
     "output_type": "stream",
     "text": [
      "\n",
      "Get subject-15, run-1 firstlevel GLM design matrix...\n"
     ]
    },
    {
     "name": "stdout",
     "output_type": "stream",
     "text": [
      "\n"
     ]
    },
    {
     "name": "stdout",
     "output_type": "stream",
     "text": [
      "\n",
      "Get subject-15, run-2 firstlevel GLM design matrix...\n"
     ]
    },
    {
     "name": "stdout",
     "output_type": "stream",
     "text": [
      "\n"
     ]
    },
    {
     "name": "stdout",
     "output_type": "stream",
     "text": [
      "\n",
      "Get subject-15, run-3 firstlevel GLM design matrix...\n"
     ]
    },
    {
     "name": "stdout",
     "output_type": "stream",
     "text": [
      "\n"
     ]
    },
    {
     "name": "stdout",
     "output_type": "stream",
     "text": [
      "\n",
      "Get subject-16, run-1 firstlevel GLM design matrix...\n"
     ]
    },
    {
     "name": "stdout",
     "output_type": "stream",
     "text": [
      "\n"
     ]
    },
    {
     "name": "stdout",
     "output_type": "stream",
     "text": [
      "\n",
      "Get subject-16, run-2 firstlevel GLM design matrix...\n"
     ]
    },
    {
     "name": "stdout",
     "output_type": "stream",
     "text": [
      "\n"
     ]
    },
    {
     "name": "stdout",
     "output_type": "stream",
     "text": [
      "\n",
      "Get subject-16, run-3 firstlevel GLM design matrix...\n"
     ]
    },
    {
     "name": "stdout",
     "output_type": "stream",
     "text": [
      "\n"
     ]
    },
    {
     "name": "stdout",
     "output_type": "stream",
     "text": [
      "\n",
      "Get subject-5, run-1 firstlevel GLM design matrix...\n"
     ]
    },
    {
     "name": "stdout",
     "output_type": "stream",
     "text": [
      "\n"
     ]
    },
    {
     "name": "stdout",
     "output_type": "stream",
     "text": [
      "\n",
      "Get subject-5, run-2 firstlevel GLM design matrix...\n"
     ]
    },
    {
     "name": "stdout",
     "output_type": "stream",
     "text": [
      "\n"
     ]
    },
    {
     "name": "stdout",
     "output_type": "stream",
     "text": [
      "\n",
      "Get subject-5, run-3 firstlevel GLM design matrix...\n"
     ]
    },
    {
     "name": "stdout",
     "output_type": "stream",
     "text": [
      "\n"
     ]
    },
    {
     "name": "stdout",
     "output_type": "stream",
     "text": [
      "\n",
      "Get subject-14, run-1 firstlevel GLM design matrix...\n"
     ]
    },
    {
     "name": "stdout",
     "output_type": "stream",
     "text": [
      "\n"
     ]
    },
    {
     "name": "stdout",
     "output_type": "stream",
     "text": [
      "\n",
      "Get subject-14, run-2 firstlevel GLM design matrix...\n"
     ]
    },
    {
     "name": "stdout",
     "output_type": "stream",
     "text": [
      "\n"
     ]
    },
    {
     "name": "stdout",
     "output_type": "stream",
     "text": [
      "\n",
      "Get subject-14, run-3 firstlevel GLM design matrix...\n"
     ]
    },
    {
     "name": "stdout",
     "output_type": "stream",
     "text": [
      "\n"
     ]
    },
    {
     "name": "stdout",
     "output_type": "stream",
     "text": [
      "\n",
      "Set firstlevel contrast for subject-10, run-1 ...\n"
     ]
    },
    {
     "name": "stdout",
     "output_type": "stream",
     "text": [
      "\n"
     ]
    },
    {
     "name": "stdout",
     "output_type": "stream",
     "text": [
      "\n",
      "Set firstlevel contrast for subject-10, run-2 ...\n"
     ]
    },
    {
     "name": "stdout",
     "output_type": "stream",
     "text": [
      "\n"
     ]
    },
    {
     "name": "stdout",
     "output_type": "stream",
     "text": [
      "\n",
      "Set firstlevel contrast for subject-10, run-3 ...\n"
     ]
    },
    {
     "name": "stdout",
     "output_type": "stream",
     "text": [
      "\n"
     ]
    },
    {
     "name": "stdout",
     "output_type": "stream",
     "text": [
      "\n",
      "Set firstlevel contrast for subject-15, run-1 ...\n"
     ]
    },
    {
     "name": "stdout",
     "output_type": "stream",
     "text": [
      "\n"
     ]
    },
    {
     "name": "stdout",
     "output_type": "stream",
     "text": [
      "\n",
      "Set firstlevel contrast for subject-15, run-2 ...\n"
     ]
    },
    {
     "name": "stdout",
     "output_type": "stream",
     "text": [
      "\n"
     ]
    },
    {
     "name": "stdout",
     "output_type": "stream",
     "text": [
      "\n",
      "Set firstlevel contrast for subject-15, run-3 ...\n"
     ]
    },
    {
     "name": "stdout",
     "output_type": "stream",
     "text": [
      "\n"
     ]
    },
    {
     "name": "stdout",
     "output_type": "stream",
     "text": [
      "\n",
      "Set firstlevel contrast for subject-16, run-1 ...\n"
     ]
    },
    {
     "name": "stdout",
     "output_type": "stream",
     "text": [
      "\n"
     ]
    },
    {
     "name": "stdout",
     "output_type": "stream",
     "text": [
      "\n",
      "Set firstlevel contrast for subject-16, run-2 ...\n"
     ]
    },
    {
     "name": "stdout",
     "output_type": "stream",
     "text": [
      "\n"
     ]
    },
    {
     "name": "stdout",
     "output_type": "stream",
     "text": [
      "\n",
      "Set firstlevel contrast for subject-16, run-3 ...\n"
     ]
    },
    {
     "name": "stdout",
     "output_type": "stream",
     "text": [
      "\n"
     ]
    },
    {
     "name": "stdout",
     "output_type": "stream",
     "text": [
      "\n",
      "Set firstlevel contrast for subject-5, run-1 ...\n"
     ]
    },
    {
     "name": "stdout",
     "output_type": "stream",
     "text": [
      "\n"
     ]
    },
    {
     "name": "stdout",
     "output_type": "stream",
     "text": [
      "\n",
      "Set firstlevel contrast for subject-5, run-2 ...\n"
     ]
    },
    {
     "name": "stdout",
     "output_type": "stream",
     "text": [
      "\n"
     ]
    },
    {
     "name": "stdout",
     "output_type": "stream",
     "text": [
      "\n",
      "Set firstlevel contrast for subject-5, run-3 ...\n"
     ]
    },
    {
     "name": "stdout",
     "output_type": "stream",
     "text": [
      "\n"
     ]
    },
    {
     "name": "stdout",
     "output_type": "stream",
     "text": [
      "\n",
      "Set firstlevel contrast for subject-14, run-1 ...\n"
     ]
    },
    {
     "name": "stdout",
     "output_type": "stream",
     "text": [
      "\n"
     ]
    },
    {
     "name": "stdout",
     "output_type": "stream",
     "text": [
      "\n",
      "Set firstlevel contrast for subject-14, run-2 ...\n"
     ]
    },
    {
     "name": "stdout",
     "output_type": "stream",
     "text": [
      "\n"
     ]
    },
    {
     "name": "stdout",
     "output_type": "stream",
     "text": [
      "\n",
      "Set firstlevel contrast for subject-14, run-3 ...\n"
     ]
    },
    {
     "name": "stdout",
     "output_type": "stream",
     "text": [
      "\n"
     ]
    },
    {
     "name": "stdout",
     "output_type": "stream",
     "text": [
      "\n",
      "Start firstlevel estimation for subject-10, run-1 ...\n"
     ]
    },
    {
     "name": "stdout",
     "output_type": "stream",
     "text": [
      "\n"
     ]
    },
    {
     "name": "stdout",
     "output_type": "stream",
     "text": [
      "Fit the firstlevel model..."
     ]
    },
    {
     "name": "stdout",
     "output_type": "stream",
     "text": [
      "\n"
     ]
    },
    {
     "name": "stdout",
     "output_type": "stream",
     "text": [
      "Computing contrasts..."
     ]
    },
    {
     "name": "stdout",
     "output_type": "stream",
     "text": [
      "\n"
     ]
    },
    {
     "name": "stdout",
     "output_type": "stream",
     "text": [
      "  Contrast  1 out of 5: pumps-control"
     ]
    },
    {
     "name": "stdout",
     "output_type": "stream",
     "text": [
      "\n"
     ]
    },
    {
     "name": "stdout",
     "output_type": "stream",
     "text": [
      "  Contrast  2 out of 5: control-pumps"
     ]
    },
    {
     "name": "stdout",
     "output_type": "stream",
     "text": [
      "\n"
     ]
    },
    {
     "name": "stdout",
     "output_type": "stream",
     "text": [
      "  Contrast  3 out of 5: pumps-baseline"
     ]
    },
    {
     "name": "stdout",
     "output_type": "stream",
     "text": [
      "\n"
     ]
    },
    {
     "name": "stdout",
     "output_type": "stream",
     "text": [
      "  Contrast  4 out of 5: cash-baseline"
     ]
    },
    {
     "name": "stdout",
     "output_type": "stream",
     "text": [
      "\n"
     ]
    },
    {
     "name": "stdout",
     "output_type": "stream",
     "text": [
      "  Contrast  5 out of 5: explode-baseline"
     ]
    },
    {
     "name": "stdout",
     "output_type": "stream",
     "text": [
      "\n"
     ]
    },
    {
     "name": "stdout",
     "output_type": "stream",
     "text": [
      "\n",
      "Start firstlevel estimation for subject-10, run-2 ...\n"
     ]
    },
    {
     "name": "stdout",
     "output_type": "stream",
     "text": [
      "\n"
     ]
    },
    {
     "name": "stdout",
     "output_type": "stream",
     "text": [
      "Fit the firstlevel model..."
     ]
    },
    {
     "name": "stdout",
     "output_type": "stream",
     "text": [
      "\n"
     ]
    },
    {
     "name": "stdout",
     "output_type": "stream",
     "text": [
      "Computing contrasts..."
     ]
    },
    {
     "name": "stdout",
     "output_type": "stream",
     "text": [
      "\n"
     ]
    },
    {
     "name": "stdout",
     "output_type": "stream",
     "text": [
      "  Contrast  1 out of 5: pumps-control"
     ]
    },
    {
     "name": "stdout",
     "output_type": "stream",
     "text": [
      "\n"
     ]
    },
    {
     "name": "stdout",
     "output_type": "stream",
     "text": [
      "  Contrast  2 out of 5: control-pumps"
     ]
    },
    {
     "name": "stdout",
     "output_type": "stream",
     "text": [
      "\n"
     ]
    },
    {
     "name": "stdout",
     "output_type": "stream",
     "text": [
      "  Contrast  3 out of 5: pumps-baseline"
     ]
    },
    {
     "name": "stdout",
     "output_type": "stream",
     "text": [
      "\n"
     ]
    },
    {
     "name": "stdout",
     "output_type": "stream",
     "text": [
      "  Contrast  4 out of 5: cash-baseline"
     ]
    },
    {
     "name": "stdout",
     "output_type": "stream",
     "text": [
      "\n"
     ]
    },
    {
     "name": "stdout",
     "output_type": "stream",
     "text": [
      "  Contrast  5 out of 5: explode-baseline"
     ]
    },
    {
     "name": "stdout",
     "output_type": "stream",
     "text": [
      "\n"
     ]
    },
    {
     "name": "stdout",
     "output_type": "stream",
     "text": [
      "\n",
      "Start firstlevel estimation for subject-10, run-3 ...\n"
     ]
    },
    {
     "name": "stdout",
     "output_type": "stream",
     "text": [
      "\n"
     ]
    },
    {
     "name": "stdout",
     "output_type": "stream",
     "text": [
      "Fit the firstlevel model..."
     ]
    },
    {
     "name": "stdout",
     "output_type": "stream",
     "text": [
      "\n"
     ]
    },
    {
     "name": "stdout",
     "output_type": "stream",
     "text": [
      "Computing contrasts..."
     ]
    },
    {
     "name": "stdout",
     "output_type": "stream",
     "text": [
      "\n"
     ]
    },
    {
     "name": "stdout",
     "output_type": "stream",
     "text": [
      "  Contrast  1 out of 5: pumps-control"
     ]
    },
    {
     "name": "stdout",
     "output_type": "stream",
     "text": [
      "\n"
     ]
    },
    {
     "name": "stdout",
     "output_type": "stream",
     "text": [
      "  Contrast  2 out of 5: control-pumps"
     ]
    },
    {
     "name": "stdout",
     "output_type": "stream",
     "text": [
      "\n"
     ]
    },
    {
     "name": "stdout",
     "output_type": "stream",
     "text": [
      "  Contrast  3 out of 5: pumps-baseline"
     ]
    },
    {
     "name": "stdout",
     "output_type": "stream",
     "text": [
      "\n"
     ]
    },
    {
     "name": "stdout",
     "output_type": "stream",
     "text": [
      "  Contrast  4 out of 5: cash-baseline"
     ]
    },
    {
     "name": "stdout",
     "output_type": "stream",
     "text": [
      "\n"
     ]
    },
    {
     "name": "stdout",
     "output_type": "stream",
     "text": [
      "  Contrast  5 out of 5: explode-baseline"
     ]
    },
    {
     "name": "stdout",
     "output_type": "stream",
     "text": [
      "\n"
     ]
    },
    {
     "name": "stdout",
     "output_type": "stream",
     "text": [
      "\n",
      "Start firstlevel estimation for subject-15, run-1 ...\n"
     ]
    },
    {
     "name": "stdout",
     "output_type": "stream",
     "text": [
      "\n"
     ]
    },
    {
     "name": "stdout",
     "output_type": "stream",
     "text": [
      "Fit the firstlevel model..."
     ]
    },
    {
     "name": "stdout",
     "output_type": "stream",
     "text": [
      "\n"
     ]
    },
    {
     "name": "stdout",
     "output_type": "stream",
     "text": [
      "Computing contrasts..."
     ]
    },
    {
     "name": "stdout",
     "output_type": "stream",
     "text": [
      "\n"
     ]
    },
    {
     "name": "stdout",
     "output_type": "stream",
     "text": [
      "  Contrast  1 out of 5: pumps-control"
     ]
    },
    {
     "name": "stdout",
     "output_type": "stream",
     "text": [
      "\n"
     ]
    },
    {
     "name": "stdout",
     "output_type": "stream",
     "text": [
      "  Contrast  2 out of 5: control-pumps"
     ]
    },
    {
     "name": "stdout",
     "output_type": "stream",
     "text": [
      "\n"
     ]
    },
    {
     "name": "stdout",
     "output_type": "stream",
     "text": [
      "  Contrast  3 out of 5: pumps-baseline"
     ]
    },
    {
     "name": "stdout",
     "output_type": "stream",
     "text": [
      "\n"
     ]
    },
    {
     "name": "stdout",
     "output_type": "stream",
     "text": [
      "  Contrast  4 out of 5: cash-baseline"
     ]
    },
    {
     "name": "stdout",
     "output_type": "stream",
     "text": [
      "\n"
     ]
    },
    {
     "name": "stdout",
     "output_type": "stream",
     "text": [
      "  Contrast  5 out of 5: explode-baseline"
     ]
    },
    {
     "name": "stdout",
     "output_type": "stream",
     "text": [
      "\n"
     ]
    },
    {
     "name": "stdout",
     "output_type": "stream",
     "text": [
      "\n",
      "Start firstlevel estimation for subject-15, run-2 ...\n"
     ]
    },
    {
     "name": "stdout",
     "output_type": "stream",
     "text": [
      "\n"
     ]
    },
    {
     "name": "stdout",
     "output_type": "stream",
     "text": [
      "Fit the firstlevel model..."
     ]
    },
    {
     "name": "stdout",
     "output_type": "stream",
     "text": [
      "\n"
     ]
    },
    {
     "name": "stdout",
     "output_type": "stream",
     "text": [
      "Computing contrasts..."
     ]
    },
    {
     "name": "stdout",
     "output_type": "stream",
     "text": [
      "\n"
     ]
    },
    {
     "name": "stdout",
     "output_type": "stream",
     "text": [
      "  Contrast  1 out of 5: pumps-control"
     ]
    },
    {
     "name": "stdout",
     "output_type": "stream",
     "text": [
      "\n"
     ]
    },
    {
     "name": "stdout",
     "output_type": "stream",
     "text": [
      "  Contrast  2 out of 5: control-pumps"
     ]
    },
    {
     "name": "stdout",
     "output_type": "stream",
     "text": [
      "\n"
     ]
    },
    {
     "name": "stdout",
     "output_type": "stream",
     "text": [
      "  Contrast  3 out of 5: pumps-baseline"
     ]
    },
    {
     "name": "stdout",
     "output_type": "stream",
     "text": [
      "\n"
     ]
    },
    {
     "name": "stdout",
     "output_type": "stream",
     "text": [
      "  Contrast  4 out of 5: cash-baseline"
     ]
    },
    {
     "name": "stdout",
     "output_type": "stream",
     "text": [
      "\n"
     ]
    },
    {
     "name": "stdout",
     "output_type": "stream",
     "text": [
      "  Contrast  5 out of 5: explode-baseline"
     ]
    },
    {
     "name": "stdout",
     "output_type": "stream",
     "text": [
      "\n"
     ]
    },
    {
     "name": "stdout",
     "output_type": "stream",
     "text": [
      "\n",
      "Start firstlevel estimation for subject-15, run-3 ...\n"
     ]
    },
    {
     "name": "stdout",
     "output_type": "stream",
     "text": [
      "\n"
     ]
    },
    {
     "name": "stdout",
     "output_type": "stream",
     "text": [
      "Fit the firstlevel model..."
     ]
    },
    {
     "name": "stdout",
     "output_type": "stream",
     "text": [
      "\n"
     ]
    },
    {
     "name": "stdout",
     "output_type": "stream",
     "text": [
      "Computing contrasts..."
     ]
    },
    {
     "name": "stdout",
     "output_type": "stream",
     "text": [
      "\n"
     ]
    },
    {
     "name": "stdout",
     "output_type": "stream",
     "text": [
      "  Contrast  1 out of 5: pumps-control"
     ]
    },
    {
     "name": "stdout",
     "output_type": "stream",
     "text": [
      "\n"
     ]
    },
    {
     "name": "stdout",
     "output_type": "stream",
     "text": [
      "  Contrast  2 out of 5: control-pumps"
     ]
    },
    {
     "name": "stdout",
     "output_type": "stream",
     "text": [
      "\n"
     ]
    },
    {
     "name": "stdout",
     "output_type": "stream",
     "text": [
      "  Contrast  3 out of 5: pumps-baseline"
     ]
    },
    {
     "name": "stdout",
     "output_type": "stream",
     "text": [
      "\n"
     ]
    },
    {
     "name": "stdout",
     "output_type": "stream",
     "text": [
      "  Contrast  4 out of 5: cash-baseline"
     ]
    },
    {
     "name": "stdout",
     "output_type": "stream",
     "text": [
      "\n"
     ]
    },
    {
     "name": "stdout",
     "output_type": "stream",
     "text": [
      "  Contrast  5 out of 5: explode-baseline"
     ]
    },
    {
     "name": "stdout",
     "output_type": "stream",
     "text": [
      "\n"
     ]
    },
    {
     "name": "stdout",
     "output_type": "stream",
     "text": [
      "\n",
      "Start firstlevel estimation for subject-16, run-1 ...\n"
     ]
    },
    {
     "name": "stdout",
     "output_type": "stream",
     "text": [
      "\n"
     ]
    },
    {
     "name": "stdout",
     "output_type": "stream",
     "text": [
      "Fit the firstlevel model..."
     ]
    },
    {
     "name": "stdout",
     "output_type": "stream",
     "text": [
      "\n"
     ]
    },
    {
     "name": "stdout",
     "output_type": "stream",
     "text": [
      "Computing contrasts..."
     ]
    },
    {
     "name": "stdout",
     "output_type": "stream",
     "text": [
      "\n"
     ]
    },
    {
     "name": "stdout",
     "output_type": "stream",
     "text": [
      "  Contrast  1 out of 5: pumps-control"
     ]
    },
    {
     "name": "stdout",
     "output_type": "stream",
     "text": [
      "\n"
     ]
    },
    {
     "name": "stdout",
     "output_type": "stream",
     "text": [
      "  Contrast  2 out of 5: control-pumps"
     ]
    },
    {
     "name": "stdout",
     "output_type": "stream",
     "text": [
      "\n"
     ]
    },
    {
     "name": "stdout",
     "output_type": "stream",
     "text": [
      "  Contrast  3 out of 5: pumps-baseline"
     ]
    },
    {
     "name": "stdout",
     "output_type": "stream",
     "text": [
      "\n"
     ]
    },
    {
     "name": "stdout",
     "output_type": "stream",
     "text": [
      "  Contrast  4 out of 5: cash-baseline"
     ]
    },
    {
     "name": "stdout",
     "output_type": "stream",
     "text": [
      "\n"
     ]
    },
    {
     "name": "stdout",
     "output_type": "stream",
     "text": [
      "  Contrast  5 out of 5: explode-baseline"
     ]
    },
    {
     "name": "stdout",
     "output_type": "stream",
     "text": [
      "\n"
     ]
    },
    {
     "name": "stdout",
     "output_type": "stream",
     "text": [
      "\n",
      "Start firstlevel estimation for subject-16, run-2 ...\n"
     ]
    },
    {
     "name": "stdout",
     "output_type": "stream",
     "text": [
      "\n"
     ]
    },
    {
     "name": "stdout",
     "output_type": "stream",
     "text": [
      "Fit the firstlevel model..."
     ]
    },
    {
     "name": "stdout",
     "output_type": "stream",
     "text": [
      "\n"
     ]
    },
    {
     "name": "stdout",
     "output_type": "stream",
     "text": [
      "Computing contrasts..."
     ]
    },
    {
     "name": "stdout",
     "output_type": "stream",
     "text": [
      "\n"
     ]
    },
    {
     "name": "stdout",
     "output_type": "stream",
     "text": [
      "  Contrast  1 out of 5: pumps-control"
     ]
    },
    {
     "name": "stdout",
     "output_type": "stream",
     "text": [
      "\n"
     ]
    },
    {
     "name": "stdout",
     "output_type": "stream",
     "text": [
      "  Contrast  2 out of 5: control-pumps"
     ]
    },
    {
     "name": "stdout",
     "output_type": "stream",
     "text": [
      "\n"
     ]
    },
    {
     "name": "stdout",
     "output_type": "stream",
     "text": [
      "  Contrast  3 out of 5: pumps-baseline"
     ]
    },
    {
     "name": "stdout",
     "output_type": "stream",
     "text": [
      "\n"
     ]
    },
    {
     "name": "stdout",
     "output_type": "stream",
     "text": [
      "  Contrast  4 out of 5: cash-baseline"
     ]
    },
    {
     "name": "stdout",
     "output_type": "stream",
     "text": [
      "\n"
     ]
    },
    {
     "name": "stdout",
     "output_type": "stream",
     "text": [
      "  Contrast  5 out of 5: explode-baseline"
     ]
    },
    {
     "name": "stdout",
     "output_type": "stream",
     "text": [
      "\n"
     ]
    },
    {
     "name": "stdout",
     "output_type": "stream",
     "text": [
      "\n",
      "Start firstlevel estimation for subject-16, run-3 ...\n"
     ]
    },
    {
     "name": "stdout",
     "output_type": "stream",
     "text": [
      "\n"
     ]
    },
    {
     "name": "stdout",
     "output_type": "stream",
     "text": [
      "Fit the firstlevel model..."
     ]
    },
    {
     "name": "stdout",
     "output_type": "stream",
     "text": [
      "\n"
     ]
    },
    {
     "name": "stdout",
     "output_type": "stream",
     "text": [
      "Computing contrasts..."
     ]
    },
    {
     "name": "stdout",
     "output_type": "stream",
     "text": [
      "\n"
     ]
    },
    {
     "name": "stdout",
     "output_type": "stream",
     "text": [
      "  Contrast  1 out of 5: pumps-control"
     ]
    },
    {
     "name": "stdout",
     "output_type": "stream",
     "text": [
      "\n"
     ]
    },
    {
     "name": "stdout",
     "output_type": "stream",
     "text": [
      "  Contrast  2 out of 5: control-pumps"
     ]
    },
    {
     "name": "stdout",
     "output_type": "stream",
     "text": [
      "\n"
     ]
    },
    {
     "name": "stdout",
     "output_type": "stream",
     "text": [
      "  Contrast  3 out of 5: pumps-baseline"
     ]
    },
    {
     "name": "stdout",
     "output_type": "stream",
     "text": [
      "\n"
     ]
    },
    {
     "name": "stdout",
     "output_type": "stream",
     "text": [
      "  Contrast  4 out of 5: cash-baseline"
     ]
    },
    {
     "name": "stdout",
     "output_type": "stream",
     "text": [
      "\n"
     ]
    },
    {
     "name": "stdout",
     "output_type": "stream",
     "text": [
      "  Contrast  5 out of 5: explode-baseline"
     ]
    },
    {
     "name": "stdout",
     "output_type": "stream",
     "text": [
      "\n"
     ]
    },
    {
     "name": "stdout",
     "output_type": "stream",
     "text": [
      "\n",
      "Start firstlevel estimation for subject-5, run-1 ...\n"
     ]
    },
    {
     "name": "stdout",
     "output_type": "stream",
     "text": [
      "\n"
     ]
    },
    {
     "name": "stdout",
     "output_type": "stream",
     "text": [
      "Fit the firstlevel model..."
     ]
    },
    {
     "name": "stdout",
     "output_type": "stream",
     "text": [
      "\n"
     ]
    },
    {
     "name": "stdout",
     "output_type": "stream",
     "text": [
      "Computing contrasts..."
     ]
    },
    {
     "name": "stdout",
     "output_type": "stream",
     "text": [
      "\n"
     ]
    },
    {
     "name": "stdout",
     "output_type": "stream",
     "text": [
      "  Contrast  1 out of 5: pumps-control"
     ]
    },
    {
     "name": "stdout",
     "output_type": "stream",
     "text": [
      "\n"
     ]
    },
    {
     "name": "stdout",
     "output_type": "stream",
     "text": [
      "  Contrast  2 out of 5: control-pumps"
     ]
    },
    {
     "name": "stdout",
     "output_type": "stream",
     "text": [
      "\n"
     ]
    },
    {
     "name": "stdout",
     "output_type": "stream",
     "text": [
      "  Contrast  3 out of 5: pumps-baseline"
     ]
    },
    {
     "name": "stdout",
     "output_type": "stream",
     "text": [
      "\n"
     ]
    },
    {
     "name": "stdout",
     "output_type": "stream",
     "text": [
      "  Contrast  4 out of 5: cash-baseline"
     ]
    },
    {
     "name": "stdout",
     "output_type": "stream",
     "text": [
      "\n"
     ]
    },
    {
     "name": "stdout",
     "output_type": "stream",
     "text": [
      "  Contrast  5 out of 5: explode-baseline"
     ]
    },
    {
     "name": "stdout",
     "output_type": "stream",
     "text": [
      "\n"
     ]
    },
    {
     "name": "stdout",
     "output_type": "stream",
     "text": [
      "\n",
      "Start firstlevel estimation for subject-5, run-2 ...\n"
     ]
    },
    {
     "name": "stdout",
     "output_type": "stream",
     "text": [
      "\n"
     ]
    },
    {
     "name": "stdout",
     "output_type": "stream",
     "text": [
      "Fit the firstlevel model..."
     ]
    },
    {
     "name": "stdout",
     "output_type": "stream",
     "text": [
      "\n"
     ]
    },
    {
     "name": "stdout",
     "output_type": "stream",
     "text": [
      "Computing contrasts..."
     ]
    },
    {
     "name": "stdout",
     "output_type": "stream",
     "text": [
      "\n"
     ]
    },
    {
     "name": "stdout",
     "output_type": "stream",
     "text": [
      "  Contrast  1 out of 5: pumps-control"
     ]
    },
    {
     "name": "stdout",
     "output_type": "stream",
     "text": [
      "\n"
     ]
    },
    {
     "name": "stdout",
     "output_type": "stream",
     "text": [
      "  Contrast  2 out of 5: control-pumps"
     ]
    },
    {
     "name": "stdout",
     "output_type": "stream",
     "text": [
      "\n"
     ]
    },
    {
     "name": "stdout",
     "output_type": "stream",
     "text": [
      "  Contrast  3 out of 5: pumps-baseline"
     ]
    },
    {
     "name": "stdout",
     "output_type": "stream",
     "text": [
      "\n"
     ]
    },
    {
     "name": "stdout",
     "output_type": "stream",
     "text": [
      "  Contrast  4 out of 5: cash-baseline"
     ]
    },
    {
     "name": "stdout",
     "output_type": "stream",
     "text": [
      "\n"
     ]
    },
    {
     "name": "stdout",
     "output_type": "stream",
     "text": [
      "  Contrast  5 out of 5: explode-baseline"
     ]
    },
    {
     "name": "stdout",
     "output_type": "stream",
     "text": [
      "\n"
     ]
    },
    {
     "name": "stdout",
     "output_type": "stream",
     "text": [
      "\n",
      "Start firstlevel estimation for subject-5, run-3 ...\n"
     ]
    },
    {
     "name": "stdout",
     "output_type": "stream",
     "text": [
      "\n"
     ]
    },
    {
     "name": "stdout",
     "output_type": "stream",
     "text": [
      "Fit the firstlevel model..."
     ]
    },
    {
     "name": "stdout",
     "output_type": "stream",
     "text": [
      "\n"
     ]
    },
    {
     "name": "stdout",
     "output_type": "stream",
     "text": [
      "Computing contrasts..."
     ]
    },
    {
     "name": "stdout",
     "output_type": "stream",
     "text": [
      "\n"
     ]
    },
    {
     "name": "stdout",
     "output_type": "stream",
     "text": [
      "  Contrast  1 out of 5: pumps-control"
     ]
    },
    {
     "name": "stdout",
     "output_type": "stream",
     "text": [
      "\n"
     ]
    },
    {
     "name": "stdout",
     "output_type": "stream",
     "text": [
      "  Contrast  2 out of 5: control-pumps"
     ]
    },
    {
     "name": "stdout",
     "output_type": "stream",
     "text": [
      "\n"
     ]
    },
    {
     "name": "stdout",
     "output_type": "stream",
     "text": [
      "  Contrast  3 out of 5: pumps-baseline"
     ]
    },
    {
     "name": "stdout",
     "output_type": "stream",
     "text": [
      "\n"
     ]
    },
    {
     "name": "stdout",
     "output_type": "stream",
     "text": [
      "  Contrast  4 out of 5: cash-baseline"
     ]
    },
    {
     "name": "stdout",
     "output_type": "stream",
     "text": [
      "\n"
     ]
    },
    {
     "name": "stdout",
     "output_type": "stream",
     "text": [
      "  Contrast  5 out of 5: explode-baseline"
     ]
    },
    {
     "name": "stdout",
     "output_type": "stream",
     "text": [
      "\n"
     ]
    },
    {
     "name": "stdout",
     "output_type": "stream",
     "text": [
      "\n",
      "Start firstlevel estimation for subject-14, run-1 ...\n"
     ]
    },
    {
     "name": "stdout",
     "output_type": "stream",
     "text": [
      "\n"
     ]
    },
    {
     "name": "stdout",
     "output_type": "stream",
     "text": [
      "Fit the firstlevel model..."
     ]
    },
    {
     "name": "stdout",
     "output_type": "stream",
     "text": [
      "\n"
     ]
    },
    {
     "name": "stdout",
     "output_type": "stream",
     "text": [
      "Computing contrasts..."
     ]
    },
    {
     "name": "stdout",
     "output_type": "stream",
     "text": [
      "\n"
     ]
    },
    {
     "name": "stdout",
     "output_type": "stream",
     "text": [
      "  Contrast  1 out of 5: pumps-control"
     ]
    },
    {
     "name": "stdout",
     "output_type": "stream",
     "text": [
      "\n"
     ]
    },
    {
     "name": "stdout",
     "output_type": "stream",
     "text": [
      "  Contrast  2 out of 5: control-pumps"
     ]
    },
    {
     "name": "stdout",
     "output_type": "stream",
     "text": [
      "\n"
     ]
    },
    {
     "name": "stdout",
     "output_type": "stream",
     "text": [
      "  Contrast  3 out of 5: pumps-baseline"
     ]
    },
    {
     "name": "stdout",
     "output_type": "stream",
     "text": [
      "\n"
     ]
    },
    {
     "name": "stdout",
     "output_type": "stream",
     "text": [
      "  Contrast  4 out of 5: cash-baseline"
     ]
    },
    {
     "name": "stdout",
     "output_type": "stream",
     "text": [
      "\n"
     ]
    },
    {
     "name": "stdout",
     "output_type": "stream",
     "text": [
      "  Contrast  5 out of 5: explode-baseline"
     ]
    },
    {
     "name": "stdout",
     "output_type": "stream",
     "text": [
      "\n"
     ]
    },
    {
     "name": "stdout",
     "output_type": "stream",
     "text": [
      "\n",
      "Start firstlevel estimation for subject-14, run-2 ...\n"
     ]
    },
    {
     "name": "stdout",
     "output_type": "stream",
     "text": [
      "\n"
     ]
    },
    {
     "name": "stdout",
     "output_type": "stream",
     "text": [
      "Fit the firstlevel model..."
     ]
    },
    {
     "name": "stdout",
     "output_type": "stream",
     "text": [
      "\n"
     ]
    },
    {
     "name": "stdout",
     "output_type": "stream",
     "text": [
      "Computing contrasts..."
     ]
    },
    {
     "name": "stdout",
     "output_type": "stream",
     "text": [
      "\n"
     ]
    },
    {
     "name": "stdout",
     "output_type": "stream",
     "text": [
      "  Contrast  1 out of 5: pumps-control"
     ]
    },
    {
     "name": "stdout",
     "output_type": "stream",
     "text": [
      "\n"
     ]
    },
    {
     "name": "stdout",
     "output_type": "stream",
     "text": [
      "  Contrast  2 out of 5: control-pumps"
     ]
    },
    {
     "name": "stdout",
     "output_type": "stream",
     "text": [
      "\n"
     ]
    },
    {
     "name": "stdout",
     "output_type": "stream",
     "text": [
      "  Contrast  3 out of 5: pumps-baseline"
     ]
    },
    {
     "name": "stdout",
     "output_type": "stream",
     "text": [
      "\n"
     ]
    },
    {
     "name": "stdout",
     "output_type": "stream",
     "text": [
      "  Contrast  4 out of 5: cash-baseline"
     ]
    },
    {
     "name": "stdout",
     "output_type": "stream",
     "text": [
      "\n"
     ]
    },
    {
     "name": "stdout",
     "output_type": "stream",
     "text": [
      "  Contrast  5 out of 5: explode-baseline"
     ]
    },
    {
     "name": "stdout",
     "output_type": "stream",
     "text": [
      "\n"
     ]
    },
    {
     "name": "stdout",
     "output_type": "stream",
     "text": [
      "\n",
      "Start firstlevel estimation for subject-14, run-3 ...\n"
     ]
    },
    {
     "name": "stdout",
     "output_type": "stream",
     "text": [
      "\n"
     ]
    },
    {
     "name": "stdout",
     "output_type": "stream",
     "text": [
      "Fit the firstlevel model..."
     ]
    },
    {
     "name": "stdout",
     "output_type": "stream",
     "text": [
      "\n"
     ]
    },
    {
     "name": "stdout",
     "output_type": "stream",
     "text": [
      "Computing contrasts..."
     ]
    },
    {
     "name": "stdout",
     "output_type": "stream",
     "text": [
      "\n"
     ]
    },
    {
     "name": "stdout",
     "output_type": "stream",
     "text": [
      "  Contrast  1 out of 5: pumps-control"
     ]
    },
    {
     "name": "stdout",
     "output_type": "stream",
     "text": [
      "\n"
     ]
    },
    {
     "name": "stdout",
     "output_type": "stream",
     "text": [
      "  Contrast  2 out of 5: control-pumps"
     ]
    },
    {
     "name": "stdout",
     "output_type": "stream",
     "text": [
      "\n"
     ]
    },
    {
     "name": "stdout",
     "output_type": "stream",
     "text": [
      "  Contrast  3 out of 5: pumps-baseline"
     ]
    },
    {
     "name": "stdout",
     "output_type": "stream",
     "text": [
      "\n"
     ]
    },
    {
     "name": "stdout",
     "output_type": "stream",
     "text": [
      "  Contrast  4 out of 5: cash-baseline"
     ]
    },
    {
     "name": "stdout",
     "output_type": "stream",
     "text": [
      "\n"
     ]
    },
    {
     "name": "stdout",
     "output_type": "stream",
     "text": [
      "  Contrast  5 out of 5: explode-baseline"
     ]
    },
    {
     "name": "stdout",
     "output_type": "stream",
     "text": [
      "\n"
     ]
    },
    {
     "name": "stdout",
     "output_type": "stream",
     "text": [
      "Compute fixed effects for subject-10..."
     ]
    },
    {
     "name": "stdout",
     "output_type": "stream",
     "text": [
      "\n"
     ]
    },
    {
     "name": "stdout",
     "output_type": "stream",
     "text": [
      " Contrast  1 out of 5: pumps-control"
     ]
    },
    {
     "name": "stdout",
     "output_type": "stream",
     "text": [
      "\n"
     ]
    },
    {
     "name": "stdout",
     "output_type": "stream",
     "text": [
      " Contrast  2 out of 5: control-pumps"
     ]
    },
    {
     "name": "stdout",
     "output_type": "stream",
     "text": [
      "\n"
     ]
    },
    {
     "name": "stdout",
     "output_type": "stream",
     "text": [
      " Contrast  3 out of 5: pumps-baseline"
     ]
    },
    {
     "name": "stdout",
     "output_type": "stream",
     "text": [
      "\n"
     ]
    },
    {
     "name": "stdout",
     "output_type": "stream",
     "text": [
      " Contrast  4 out of 5: cash-baseline"
     ]
    },
    {
     "name": "stdout",
     "output_type": "stream",
     "text": [
      "\n"
     ]
    },
    {
     "name": "stdout",
     "output_type": "stream",
     "text": [
      " Contrast  5 out of 5: explode-baseline"
     ]
    },
    {
     "name": "stdout",
     "output_type": "stream",
     "text": [
      "\n"
     ]
    },
    {
     "name": "stdout",
     "output_type": "stream",
     "text": [
      "Compute fixed effects for subject-15..."
     ]
    },
    {
     "name": "stdout",
     "output_type": "stream",
     "text": [
      "\n"
     ]
    },
    {
     "name": "stdout",
     "output_type": "stream",
     "text": [
      " Contrast  1 out of 5: pumps-control"
     ]
    },
    {
     "name": "stdout",
     "output_type": "stream",
     "text": [
      "\n"
     ]
    },
    {
     "name": "stdout",
     "output_type": "stream",
     "text": [
      " Contrast  2 out of 5: control-pumps"
     ]
    },
    {
     "name": "stdout",
     "output_type": "stream",
     "text": [
      "\n"
     ]
    },
    {
     "name": "stdout",
     "output_type": "stream",
     "text": [
      " Contrast  3 out of 5: pumps-baseline"
     ]
    },
    {
     "name": "stdout",
     "output_type": "stream",
     "text": [
      "\n"
     ]
    },
    {
     "name": "stdout",
     "output_type": "stream",
     "text": [
      " Contrast  4 out of 5: cash-baseline"
     ]
    },
    {
     "name": "stdout",
     "output_type": "stream",
     "text": [
      "\n"
     ]
    },
    {
     "name": "stdout",
     "output_type": "stream",
     "text": [
      " Contrast  5 out of 5: explode-baseline"
     ]
    },
    {
     "name": "stdout",
     "output_type": "stream",
     "text": [
      "\n"
     ]
    },
    {
     "name": "stdout",
     "output_type": "stream",
     "text": [
      "Compute fixed effects for subject-16..."
     ]
    },
    {
     "name": "stdout",
     "output_type": "stream",
     "text": [
      "\n"
     ]
    },
    {
     "name": "stdout",
     "output_type": "stream",
     "text": [
      " Contrast  1 out of 5: pumps-control"
     ]
    },
    {
     "name": "stdout",
     "output_type": "stream",
     "text": [
      "\n"
     ]
    },
    {
     "name": "stdout",
     "output_type": "stream",
     "text": [
      " Contrast  2 out of 5: control-pumps"
     ]
    },
    {
     "name": "stdout",
     "output_type": "stream",
     "text": [
      "\n"
     ]
    },
    {
     "name": "stdout",
     "output_type": "stream",
     "text": [
      " Contrast  3 out of 5: pumps-baseline"
     ]
    },
    {
     "name": "stdout",
     "output_type": "stream",
     "text": [
      "\n"
     ]
    },
    {
     "name": "stdout",
     "output_type": "stream",
     "text": [
      " Contrast  4 out of 5: cash-baseline"
     ]
    },
    {
     "name": "stdout",
     "output_type": "stream",
     "text": [
      "\n"
     ]
    },
    {
     "name": "stdout",
     "output_type": "stream",
     "text": [
      " Contrast  5 out of 5: explode-baseline"
     ]
    },
    {
     "name": "stdout",
     "output_type": "stream",
     "text": [
      "\n"
     ]
    },
    {
     "name": "stdout",
     "output_type": "stream",
     "text": [
      "Compute fixed effects for subject-5..."
     ]
    },
    {
     "name": "stdout",
     "output_type": "stream",
     "text": [
      "\n"
     ]
    },
    {
     "name": "stdout",
     "output_type": "stream",
     "text": [
      " Contrast  1 out of 5: pumps-control"
     ]
    },
    {
     "name": "stdout",
     "output_type": "stream",
     "text": [
      "\n"
     ]
    },
    {
     "name": "stdout",
     "output_type": "stream",
     "text": [
      " Contrast  2 out of 5: control-pumps"
     ]
    },
    {
     "name": "stdout",
     "output_type": "stream",
     "text": [
      "\n"
     ]
    },
    {
     "name": "stdout",
     "output_type": "stream",
     "text": [
      " Contrast  3 out of 5: pumps-baseline"
     ]
    },
    {
     "name": "stdout",
     "output_type": "stream",
     "text": [
      "\n"
     ]
    },
    {
     "name": "stdout",
     "output_type": "stream",
     "text": [
      " Contrast  4 out of 5: cash-baseline"
     ]
    },
    {
     "name": "stdout",
     "output_type": "stream",
     "text": [
      "\n"
     ]
    },
    {
     "name": "stdout",
     "output_type": "stream",
     "text": [
      " Contrast  5 out of 5: explode-baseline"
     ]
    },
    {
     "name": "stdout",
     "output_type": "stream",
     "text": [
      "\n"
     ]
    },
    {
     "name": "stdout",
     "output_type": "stream",
     "text": [
      "Compute fixed effects for subject-14..."
     ]
    },
    {
     "name": "stdout",
     "output_type": "stream",
     "text": [
      "\n"
     ]
    },
    {
     "name": "stdout",
     "output_type": "stream",
     "text": [
      " Contrast  1 out of 5: pumps-control"
     ]
    },
    {
     "name": "stdout",
     "output_type": "stream",
     "text": [
      "\n"
     ]
    },
    {
     "name": "stdout",
     "output_type": "stream",
     "text": [
      " Contrast  2 out of 5: control-pumps"
     ]
    },
    {
     "name": "stdout",
     "output_type": "stream",
     "text": [
      "\n"
     ]
    },
    {
     "name": "stdout",
     "output_type": "stream",
     "text": [
      " Contrast  3 out of 5: pumps-baseline"
     ]
    },
    {
     "name": "stdout",
     "output_type": "stream",
     "text": [
      "\n"
     ]
    },
    {
     "name": "stdout",
     "output_type": "stream",
     "text": [
      " Contrast  4 out of 5: cash-baseline"
     ]
    },
    {
     "name": "stdout",
     "output_type": "stream",
     "text": [
      "\n"
     ]
    },
    {
     "name": "stdout",
     "output_type": "stream",
     "text": [
      " Contrast  5 out of 5: explode-baseline"
     ]
    },
    {
     "name": "stdout",
     "output_type": "stream",
     "text": [
      "\n"
     ]
    },
    {
     "name": "stdout",
     "output_type": "stream",
     "text": [
      "\n",
      "Get secondlevel design matrix ...\n"
     ]
    },
    {
     "name": "stdout",
     "output_type": "stream",
     "text": [
      "\n"
     ]
    },
    {
     "name": "stdout",
     "output_type": "stream",
     "text": [
      "\n",
      "Start secondlevel estimation ...\n"
     ]
    },
    {
     "name": "stdout",
     "output_type": "stream",
     "text": [
      "\n"
     ]
    },
    {
     "name": "stdout",
     "output_type": "stream",
     "text": [
      " Contrast  1 out of 5: pumps-control"
     ]
    },
    {
     "name": "stdout",
     "output_type": "stream",
     "text": [
      "\n"
     ]
    },
    {
     "name": "stdout",
     "output_type": "stream",
     "text": [
      " Contrast  2 out of 5: control-pumps"
     ]
    },
    {
     "name": "stdout",
     "output_type": "stream",
     "text": [
      "\n"
     ]
    },
    {
     "name": "stdout",
     "output_type": "stream",
     "text": [
      " Contrast  3 out of 5: pumps-baseline"
     ]
    },
    {
     "name": "stdout",
     "output_type": "stream",
     "text": [
      "\n"
     ]
    },
    {
     "name": "stdout",
     "output_type": "stream",
     "text": [
      " Contrast  4 out of 5: cash-baseline"
     ]
    },
    {
     "name": "stdout",
     "output_type": "stream",
     "text": [
      "\n"
     ]
    },
    {
     "name": "stdout",
     "output_type": "stream",
     "text": [
      " Contrast  5 out of 5: explode-baseline"
     ]
    },
    {
     "name": "stdout",
     "output_type": "stream",
     "text": [
      "\n"
     ]
    },
    {
     "name": "stdout",
     "output_type": "stream",
     "text": [
      "\n",
      "Start cluster thresholding ...\n"
     ]
    },
    {
     "name": "stdout",
     "output_type": "stream",
     "text": [
      "\n"
     ]
    },
    {
     "name": "stdout",
     "output_type": "stream",
     "text": [
      "Contrast  1 out of 5: pumps-control"
     ]
    },
    {
     "name": "stdout",
     "output_type": "stream",
     "text": [
      "\n"
     ]
    },
    {
     "name": "stdout",
     "output_type": "stream",
     "text": [
      "Contrast  2 out of 5: control-pumps"
     ]
    },
    {
     "name": "stdout",
     "output_type": "stream",
     "text": [
      "\n"
     ]
    },
    {
     "name": "stdout",
     "output_type": "stream",
     "text": [
      "Contrast  3 out of 5: pumps-baseline"
     ]
    },
    {
     "name": "stdout",
     "output_type": "stream",
     "text": [
      "\n"
     ]
    },
    {
     "name": "stdout",
     "output_type": "stream",
     "text": [
      "Contrast  4 out of 5: cash-baseline"
     ]
    },
    {
     "name": "stdout",
     "output_type": "stream",
     "text": [
      "\n"
     ]
    },
    {
     "name": "stdout",
     "output_type": "stream",
     "text": [
      "Contrast  5 out of 5: explode-baseline"
     ]
    },
    {
     "name": "stdout",
     "output_type": "stream",
     "text": [
      "\n"
     ]
    },
    {
     "name": "stdout",
     "output_type": "stream",
     "text": [
      "\n",
      "Cluster thresholding is done"
     ]
    },
    {
     "name": "stdout",
     "output_type": "stream",
     "text": [
      "\n"
     ]
    },
    {
     "name": "stdout",
     "output_type": "stream",
     "text": [
      "\n",
      "Start multiple comparison ...\n"
     ]
    },
    {
     "name": "stdout",
     "output_type": "stream",
     "text": [
      "\n"
     ]
    },
    {
     "name": "stdout",
     "output_type": "stream",
     "text": [
      "Contrast  1 out of 5: pumps-control"
     ]
    },
    {
     "name": "stdout",
     "output_type": "stream",
     "text": [
      "\n"
     ]
    },
    {
     "name": "stdout",
     "output_type": "stream",
     "text": [
      "Contrast  2 out of 5: control-pumps"
     ]
    },
    {
     "name": "stdout",
     "output_type": "stream",
     "text": [
      "\n"
     ]
    },
    {
     "name": "stdout",
     "output_type": "stream",
     "text": [
      "Contrast  3 out of 5: pumps-baseline"
     ]
    },
    {
     "name": "stdout",
     "output_type": "stream",
     "text": [
      "\n"
     ]
    },
    {
     "name": "stdout",
     "output_type": "stream",
     "text": [
      "Contrast  4 out of 5: cash-baseline"
     ]
    },
    {
     "name": "stdout",
     "output_type": "stream",
     "text": [
      "\n"
     ]
    },
    {
     "name": "stdout",
     "output_type": "stream",
     "text": [
      "Contrast  5 out of 5: explode-baseline"
     ]
    },
    {
     "name": "stdout",
     "output_type": "stream",
     "text": [
      "\n"
     ]
    },
    {
     "name": "stdout",
     "output_type": "stream",
     "text": [
      "\n",
      "Multiple comparison is done"
     ]
    },
    {
     "name": "stdout",
     "output_type": "stream",
     "text": [
      "\n"
     ]
    },
    {
     "name": "stdout",
     "output_type": "stream",
     "text": [
      "\n",
      "Start nonparametric test ...\n"
     ]
    },
    {
     "name": "stdout",
     "output_type": "stream",
     "text": [
      "\n"
     ]
    },
    {
     "name": "stdout",
     "output_type": "stream",
     "text": [
      "  Contrast  1 out of 5: pumps-control"
     ]
    },
    {
     "name": "stdout",
     "output_type": "stream",
     "text": [
      "\n"
     ]
    },
    {
     "name": "stdout",
     "output_type": "stream",
     "text": [
      "  Contrast  2 out of 5: control-pumps"
     ]
    },
    {
     "name": "stdout",
     "output_type": "stream",
     "text": [
      "\n"
     ]
    },
    {
     "name": "stdout",
     "output_type": "stream",
     "text": [
      "  Contrast  3 out of 5: pumps-baseline"
     ]
    },
    {
     "name": "stdout",
     "output_type": "stream",
     "text": [
      "\n"
     ]
    },
    {
     "name": "stdout",
     "output_type": "stream",
     "text": [
      "  Contrast  4 out of 5: cash-baseline"
     ]
    },
    {
     "name": "stdout",
     "output_type": "stream",
     "text": [
      "\n"
     ]
    },
    {
     "name": "stdout",
     "output_type": "stream",
     "text": [
      "  Contrast  5 out of 5: explode-baseline"
     ]
    },
    {
     "name": "stdout",
     "output_type": "stream",
     "text": [
      "\n"
     ]
    },
    {
     "name": "stdout",
     "output_type": "stream",
     "text": [
      "\n",
      "Permutation is done"
     ]
    },
    {
     "name": "stdout",
     "output_type": "stream",
     "text": [
      "\n"
     ]
    },
    {
     "name": "stdout",
     "output_type": "stream",
     "text": [
      "\n",
      "Start parametric test ...\n"
     ]
    },
    {
     "name": "stdout",
     "output_type": "stream",
     "text": [
      "\n"
     ]
    },
    {
     "name": "stdout",
     "output_type": "stream",
     "text": [
      "Contrast  1 out of 5: pumps-control"
     ]
    },
    {
     "name": "stdout",
     "output_type": "stream",
     "text": [
      "\n"
     ]
    },
    {
     "name": "stdout",
     "output_type": "stream",
     "text": [
      "Contrast  2 out of 5: control-pumps"
     ]
    },
    {
     "name": "stdout",
     "output_type": "stream",
     "text": [
      "\n"
     ]
    },
    {
     "name": "stdout",
     "output_type": "stream",
     "text": [
      "Contrast  3 out of 5: pumps-baseline"
     ]
    },
    {
     "name": "stdout",
     "output_type": "stream",
     "text": [
      "\n"
     ]
    },
    {
     "name": "stdout",
     "output_type": "stream",
     "text": [
      "Contrast  4 out of 5: cash-baseline"
     ]
    },
    {
     "name": "stdout",
     "output_type": "stream",
     "text": [
      "\n"
     ]
    },
    {
     "name": "stdout",
     "output_type": "stream",
     "text": [
      "Contrast  5 out of 5: explode-baseline"
     ]
    },
    {
     "name": "stdout",
     "output_type": "stream",
     "text": [
      "\n"
     ]
    },
    {
     "name": "stdout",
     "output_type": "stream",
     "text": [
      "\n",
      "Parametric test is done"
     ]
    },
    {
     "name": "stdout",
     "output_type": "stream",
     "text": [
      "\n"
     ]
    },
    {
     "name": "stdout",
     "output_type": "stream",
     "text": [
      "Result(output=Output(second_level_stats_map={'pumps-control': {'z_score': <nibabel.nifti1.Nifti1Image object at 0x7f00b2e53850>, 'stat': <nibabel.nifti1.Nifti1Image object at 0x7f00b2508810>, 'p_value': <nibabel.nifti1.Nifti1Image object at 0x7f00b250b990>, 'effect_size': <nibabel.nifti1.Nifti1Image object at 0x7f00b2541290>, 'effect_variance': <nibabel.nifti1.Nifti1Image object at 0x7f00b2542f90>}, 'control-pumps': {'z_score': <nibabel.nifti1.Nifti1Image object at 0x7f00b2543150>, 'stat': <nibabel.nifti1.Nifti1Image object at 0x7f00b2541c10>, 'p_value': <nibabel.nifti1.Nifti1Image object at 0x7f00b25437d0>, 'effect_size': <nibabel.nifti1.Nifti1Image object at 0x7f00b2540710>, 'effect_variance': <nibabel.nifti1.Nifti1Image object at 0x7f00b2542550>}, 'pumps-baseline': {'z_score': <nibabel.nifti1.Nifti1Image object at 0x7f00b2543550>, 'stat': <nibabel.nifti1.Nifti1Image object at 0x7f00b2543690>, 'p_value': <nibabel.nifti1.Nifti1Image object at 0x7f00b27ebbd0>, 'effect_size': <nibabel.nifti1.Nifti1Image object at 0x7f00b2839390>, 'effect_variance': <nibabel.nifti1.Nifti1Image object at 0x7f00b2839dd0>}, 'cash-baseline': {'z_score': <nibabel.nifti1.Nifti1Image object at 0x7f00b29a9c90>, 'stat': <nibabel.nifti1.Nifti1Image object at 0x7f00b29adb90>, 'p_value': <nibabel.nifti1.Nifti1Image object at 0x7f00b24a1490>, 'effect_size': <nibabel.nifti1.Nifti1Image object at 0x7f00b24a01d0>, 'effect_variance': <nibabel.nifti1.Nifti1Image object at 0x7f00b24a1810>}, 'explode-baseline': {'z_score': <nibabel.nifti1.Nifti1Image object at 0x7f00b24a1150>, 'stat': <nibabel.nifti1.Nifti1Image object at 0x7f00b24a2410>, 'p_value': <nibabel.nifti1.Nifti1Image object at 0x7f00b298d790>, 'effect_size': <nibabel.nifti1.Nifti1Image object at 0x7f00b2730ed0>, 'effect_variance': <nibabel.nifti1.Nifti1Image object at 0x7f00b2731ed0>}}), runtime=None, errored=False)"
     ]
    },
    {
     "name": "stdout",
     "output_type": "stream",
     "text": [
      "\n"
     ]
    }
   ],
   "source": [
    "from pydra import Submitter\n",
    "\n",
    "with Submitter(plugin='cf', n_procs=1) as submitter:\n",
    "    submitter(wf)\n",
    "\n",
    "results = wf.result()\n",
    "\n",
    "print(results)"
   ]
  },
  {
   "cell_type": "markdown",
   "id": "bbfbc415",
   "metadata": {},
   "source": [
    "## Let's Plot!\n",
    "\n",
    "We only use 5 subjects, so it's reasonable the following plots have nothing survived from testing."
   ]
  },
  {
   "cell_type": "markdown",
   "id": "1ac4f796",
   "metadata": {},
   "source": [
    "### Unthresholded\n",
    "\n",
    "Let's plot the unthresholded image first."
   ]
  },
  {
   "cell_type": "code",
   "execution_count": 21,
   "id": "d5d27104",
   "metadata": {
    "tags": [
     "hide-input"
    ]
   },
   "outputs": [
    {
     "data": {
      "image/jpeg": "[encoded data removed]",
      "text/plain": [
       "<IPython.core.display.Image object>"
      ]
     },
     "execution_count": 21,
     "metadata": {},
     "output_type": "execute_result"
    }
   ],
   "source": [
    "from IPython.display import Image\n",
    "ut_list = glob.glob(os.path.join(workflow_out_dir, \"secondlevel_unthresholded*.jpg\"))\n",
    "Image(filename=ut_list[0])"
   ]
  },
  {
   "cell_type": "markdown",
   "id": "cb943767",
   "metadata": {},
   "source": [
    "### Cluster Thresholding"
   ]
  },
  {
   "cell_type": "code",
   "execution_count": 22,
   "id": "7b063413",
   "metadata": {
    "tags": [
     "hide-input"
    ]
   },
   "outputs": [
    {
     "data": {
      "image/jpeg": "[encoded data removed]",
      "text/plain": [
       "<IPython.core.display.Image object>"
      ]
     },
     "execution_count": 22,
     "metadata": {},
     "output_type": "execute_result"
    }
   ],
   "source": [
    "from IPython.display import Image\n",
    "ct_list = glob.glob(os.path.join(workflow_out_dir, \"secondlevel_cluster_thresholded*.jpg\"))\n",
    "Image(filename=ct_list[0])"
   ]
  },
  {
   "cell_type": "markdown",
   "id": "7a744ddc",
   "metadata": {},
   "source": [
    "### Multiple Comparison"
   ]
  },
  {
   "cell_type": "code",
   "execution_count": 23,
   "id": "3e963a75",
   "metadata": {
    "tags": [
     "hide-input"
    ]
   },
   "outputs": [
    {
     "data": {
      "image/jpeg": "[encoded data removed]",
      "text/plain": [
       "<IPython.core.display.Image object>"
      ]
     },
     "execution_count": 23,
     "metadata": {},
     "output_type": "execute_result"
    }
   ],
   "source": [
    "mc_list = glob.glob(os.path.join(workflow_out_dir, \"secondlevel_multiple_comp*.jpg\"))\n",
    "Image(filename=mc_list[0])"
   ]
  },
  {
   "cell_type": "markdown",
   "id": "cccf8c15",
   "metadata": {},
   "source": [
    "### Paramatric Test"
   ]
  },
  {
   "cell_type": "code",
   "execution_count": 24,
   "id": "976dcc4b",
   "metadata": {
    "tags": [
     "hide-input"
    ]
   },
   "outputs": [
    {
     "data": {
      "image/jpeg": "[encoded data removed]",
      "text/plain": [
       "<IPython.core.display.Image object>"
      ]
     },
     "execution_count": 24,
     "metadata": {},
     "output_type": "execute_result"
    }
   ],
   "source": [
    "pt_list = glob.glob(os.path.join(workflow_out_dir, \"secondlevel_paramatric*.jpg\"))\n",
    "Image(filename=pt_list[0])"
   ]
  },
  {
   "cell_type": "markdown",
   "id": "1af3b84a",
   "metadata": {},
   "source": [
    "### Nonparamatric Test"
   ]
  },
  {
   "cell_type": "code",
   "execution_count": 25,
   "id": "fc0b8ce4",
   "metadata": {
    "tags": [
     "hide-input"
    ]
   },
   "outputs": [
    {
     "data": {
      "image/jpeg": "[encoded data removed]",
      "text/plain": [
       "<IPython.core.display.Image object>"
      ]
     },
     "execution_count": 25,
     "metadata": {},
     "output_type": "execute_result"
    }
   ],
   "source": [
    "npt_list = glob.glob(os.path.join(workflow_out_dir, \"secondlevel_permutation*.jpg\"))\n",
    "Image(filename=npt_list[0])"
   ]
  },
  {
   "cell_type": "markdown",
   "id": "570967bd",
   "metadata": {},
   "source": [
    "## Exercise #1"
   ]
  },
  {
   "cell_type": "markdown",
   "id": "ac7a7b30",
   "metadata": {},
   "source": [
    "In this example, we conducted GLM on each run per subject separately and then used a fixed-effect model to average across runs. \n",
    "\n",
    "Where did we put `.splitter` and `.combiner`. Why did we put it there?"
   ]
  },
  {
   "cell_type": "markdown",
   "id": "ee99a9c2",
   "metadata": {},
   "source": [
    "## Exercise #2"
   ]
  },
  {
   "cell_type": "markdown",
   "id": "a73ce3f8",
   "metadata": {},
   "source": [
    "Moreover, We choose this approach due to limited memory on GitHub. [FirstLevelModel](https://nilearn.github.io/stable/modules/generated/nilearn.glm.first_level.FirstLevelModel.html) in Nilearn also allows to compute multiple runs with a fixed-effect model simultanously. Here is an [example](https://nilearn.github.io/stable/auto_examples/04_glm_first_level/plot_fiac_analysis.html#sphx-glr-auto-examples-04-glm-first-level-plot-fiac-analysis-py). \n",
    "\n",
    "Would you like to give it a try on your own?"
   ]
  }
 ],
 "metadata": {
  "jupytext": {
   "formats": "ipynb,md:myst",
   "text_representation": {
    "extension": ".md",
    "format_name": "myst",
    "format_version": 0.13,
    "jupytext_version": "1.13.8"
   }
  },
  "kernelspec": {
   "display_name": "Python 3 (ipykernel)",
   "language": "python",
   "name": "python3"
  },
  "language_info": {
   "codemirror_mode": {
    "name": "ipython",
    "version": 3
   },
   "file_extension": ".py",
   "mimetype": "text/x-python",
   "name": "python",
   "nbconvert_exporter": "python",
   "pygments_lexer": "ipython3",
   "version": "3.11.6"
  },
  "source_map": [
   13,
   17,
   26,
   29,
   35,
   63,
   73,
   86,
   98,
   110,
   143,
   151,
   157,
   194,
   198,
   222,
   226,
   271,
   277,
   345,
   351,
   389,
   393,
   447,
   456,
   464,
   474,
   480,
   509,
   513,
   551,
   562,
   568,
   599,
   610,
   642,
   650,
   689,
   695,
   726,
   736,
   806,
   810,
   821,
   827,
   833,
   839,
   843,
   849,
   853,
   858,
   862,
   867,
   871,
   876,
   880,
   886,
   890
  ]
 },
 "nbformat": 4,
 "nbformat_minor": 5
}
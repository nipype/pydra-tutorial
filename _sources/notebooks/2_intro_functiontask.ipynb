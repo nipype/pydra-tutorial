{
 "cells": [
  {
   "cell_type": "markdown",
   "id": "5bd82970",
   "metadata": {},
   "source": [
    "# FunctionTask"
   ]
  },
  {
   "cell_type": "code",
   "execution_count": 1,
   "id": "adbe572a",
   "metadata": {
    "jupyter": {
     "outputs_hidden": false
    },
    "pycharm": {
     "name": "#%%\n"
    }
   },
   "outputs": [],
   "source": [
    "import nest_asyncio\n",
    "\n",
    "nest_asyncio.apply()"
   ]
  },
  {
   "cell_type": "markdown",
   "id": "21a4df2b",
   "metadata": {},
   "source": [
    "A `FunctionTask` is a `Task` that can be created from every *python* function by using *pydra* decorator: `pydra.mark.task`:"
   ]
  },
  {
   "cell_type": "code",
   "execution_count": 2,
   "id": "3b7796c2",
   "metadata": {},
   "outputs": [],
   "source": [
    "import pydra\n",
    "\n",
    "\n",
    "@pydra.mark.task\n",
    "def add_var(a, b):\n",
    "    return a + b"
   ]
  },
  {
   "cell_type": "markdown",
   "id": "74b2ddab",
   "metadata": {},
   "source": [
    "Once we decorate the function, we can create a pydra `Task` and specify the input:"
   ]
  },
  {
   "cell_type": "code",
   "execution_count": 3,
   "id": "283c9c80",
   "metadata": {},
   "outputs": [],
   "source": [
    "task1 = add_var(a=4, b=5)"
   ]
  },
  {
   "cell_type": "markdown",
   "id": "6a217367",
   "metadata": {},
   "source": [
    "We can check the type of `task1`:"
   ]
  },
  {
   "cell_type": "code",
   "execution_count": 4,
   "id": "1d018ba3",
   "metadata": {},
   "outputs": [
    {
     "data": {
      "text/plain": [
       "pydra.engine.task.FunctionTask"
      ]
     },
     "execution_count": 4,
     "metadata": {},
     "output_type": "execute_result"
    }
   ],
   "source": [
    "type(task1)"
   ]
  },
  {
   "cell_type": "markdown",
   "id": "c549029d",
   "metadata": {},
   "source": [
    "and we can check if the task has correct values of `a` and `b`, they should be saved in the task `inputs`:"
   ]
  },
  {
   "cell_type": "code",
   "execution_count": 5,
   "id": "bb8c86e2",
   "metadata": {},
   "outputs": [
    {
     "name": "stdout",
     "output_type": "stream",
     "text": [
      "a = 4\n",
      "b = 5\n"
     ]
    }
   ],
   "source": [
    "print(f'a = {task1.inputs.a}')\n",
    "print(f'b = {task1.inputs.b}')"
   ]
  },
  {
   "cell_type": "markdown",
   "id": "e84299a9",
   "metadata": {},
   "source": [
    "We can also check content of entire `inputs`:"
   ]
  },
  {
   "cell_type": "code",
   "execution_count": 6,
   "id": "8e374cbb",
   "metadata": {},
   "outputs": [
    {
     "data": {
      "text/plain": [
       "Inputs(a=4, b=5, _func=b'\\x80\\x05\\x95\\xd7\\x01\\x00\\x00\\x00\\x00\\x00\\x00\\x8c\\x17cloudpickle.cloudpickle\\x94\\x8c\\x0e_make_function\\x94\\x93\\x94(h\\x00\\x8c\\r_builtin_type\\x94\\x93\\x94\\x8c\\x08CodeType\\x94\\x85\\x94R\\x94(K\\x02K\\x00K\\x00K\\x02K\\x02K\\x03C\\x0c\\x97\\x00|\\x00|\\x01z\\x00\\x00\\x00S\\x00\\x94N\\x85\\x94)\\x8c\\x01a\\x94\\x8c\\x01b\\x94\\x86\\x94\\x8c /tmp/ipykernel_3323/214681761.py\\x94\\x8c\\x07add_var\\x94h\\x0eK\\x04C\\x0b\\x80\\x00\\xe0\\x0b\\x0c\\x88q\\x895\\x80L\\x94C\\x00\\x94))t\\x94R\\x94}\\x94(\\x8c\\x0b__package__\\x94N\\x8c\\x08__name__\\x94\\x8c\\x08__main__\\x94uNNNt\\x94R\\x94\\x8c\\x1ccloudpickle.cloudpickle_fast\\x94\\x8c\\x12_function_setstate\\x94\\x93\\x94h\\x18}\\x94}\\x94(h\\x15h\\x0e\\x8c\\x0c__qualname__\\x94h\\x0e\\x8c\\x0f__annotations__\\x94}\\x94\\x8c\\x0e__kwdefaults__\\x94N\\x8c\\x0c__defaults__\\x94N\\x8c\\n__module__\\x94h\\x16\\x8c\\x07__doc__\\x94N\\x8c\\x0b__closure__\\x94N\\x8c\\x17_cloudpickle_submodules\\x94]\\x94\\x8c\\x0b__globals__\\x94}\\x94u\\x86\\x94\\x86R0.')"
      ]
     },
     "execution_count": 6,
     "metadata": {},
     "output_type": "execute_result"
    }
   ],
   "source": [
    "task1.inputs"
   ]
  },
  {
   "cell_type": "markdown",
   "id": "6a3236e3",
   "metadata": {},
   "source": [
    "As you could see, `task.inputs` contains also information about the function, that is an inseparable part of the `FunctionTask`.\n",
    "\n",
    "Once we have the task with set input, we can run it. Since `Task` is a \"callable object\", we can use the syntax:"
   ]
  },
  {
   "cell_type": "code",
   "execution_count": 7,
   "id": "deaf5972",
   "metadata": {},
   "outputs": [
    {
     "data": {
      "text/plain": [
       "Result(output=Output(out=9), runtime=None, errored=False)"
      ]
     },
     "execution_count": 7,
     "metadata": {},
     "output_type": "execute_result"
    }
   ],
   "source": [
    "task1()"
   ]
  },
  {
   "cell_type": "markdown",
   "id": "4399f421",
   "metadata": {},
   "source": [
    "As you can see, the result was returned right away, but we can also access it later:"
   ]
  },
  {
   "cell_type": "code",
   "execution_count": 8,
   "id": "6962c950",
   "metadata": {},
   "outputs": [
    {
     "data": {
      "text/plain": [
       "Result(output=Output(out=9), runtime=None, errored=False)"
      ]
     },
     "execution_count": 8,
     "metadata": {},
     "output_type": "execute_result"
    }
   ],
   "source": [
    "task1.result()"
   ]
  },
  {
   "cell_type": "markdown",
   "id": "0d444729",
   "metadata": {},
   "source": [
    "`Result` contains more than just an output, so if we want to get the task output, we can type:"
   ]
  },
  {
   "cell_type": "code",
   "execution_count": 9,
   "id": "4d94ac90",
   "metadata": {},
   "outputs": [
    {
     "data": {
      "text/plain": [
       "9"
      ]
     },
     "execution_count": 9,
     "metadata": {},
     "output_type": "execute_result"
    }
   ],
   "source": [
    "result = task1.result()\n",
    "result.output.out"
   ]
  },
  {
   "cell_type": "markdown",
   "id": "dbc0c5fb",
   "metadata": {},
   "source": [
    "And if we want to see the input that was used in the task, we can set an optional argument `return_inputs` to True."
   ]
  },
  {
   "cell_type": "code",
   "execution_count": 10,
   "id": "510e4b59",
   "metadata": {},
   "outputs": [
    {
     "data": {
      "text/plain": [
       "({'add_var.a': 4, 'add_var.b': 5},\n",
       " Result(output=Output(out=9), runtime=None, errored=False))"
      ]
     },
     "execution_count": 10,
     "metadata": {},
     "output_type": "execute_result"
    }
   ],
   "source": [
    "task1.result(return_inputs=True)"
   ]
  },
  {
   "cell_type": "markdown",
   "id": "ab376f85",
   "metadata": {},
   "source": [
    "## Customizing output names\n",
    "Note, that \"out\" is the default name for the task output, but we can always customize it. There are two ways of doing it: using *python* function annotation and using another *pydra* decorator:\n",
    "\n",
    "Let's start from the function annotation:"
   ]
  },
  {
   "cell_type": "code",
   "execution_count": 11,
   "id": "bc39e1f6",
   "metadata": {},
   "outputs": [
    {
     "data": {
      "text/plain": [
       "Result(output=Output(sum_a_b=9), runtime=None, errored=False)"
      ]
     },
     "execution_count": 11,
     "metadata": {},
     "output_type": "execute_result"
    }
   ],
   "source": [
    "import typing as ty\n",
    "\n",
    "\n",
    "@pydra.mark.task\n",
    "def add_var_an(a, b) -> {'sum_a_b': int}:\n",
    "    return a + b\n",
    "\n",
    "\n",
    "task1a = add_var_an(a=4, b=5)\n",
    "task1a()"
   ]
  },
  {
   "cell_type": "markdown",
   "id": "3f826531",
   "metadata": {},
   "source": [
    "The annotation might be very useful to specify the output names when the function returns multiple values."
   ]
  },
  {
   "cell_type": "code",
   "execution_count": 12,
   "id": "7330661e",
   "metadata": {},
   "outputs": [
    {
     "data": {
      "text/plain": [
       "Result(output=Output(fractional=0.5, integer=3.0), runtime=None, errored=False)"
      ]
     },
     "execution_count": 12,
     "metadata": {},
     "output_type": "execute_result"
    }
   ],
   "source": [
    "@pydra.mark.task\n",
    "def modf_an(a) -> {'fractional': ty.Any, 'integer': ty.Any}:\n",
    "    import math\n",
    "\n",
    "    return math.modf(a)\n",
    "\n",
    "\n",
    "task2 = modf_an(a=3.5)\n",
    "task2()"
   ]
  },
  {
   "cell_type": "markdown",
   "id": "6ac689d7",
   "metadata": {},
   "source": [
    "The second way of customizing the output requires another decorator - `pydra.mark.annotate`"
   ]
  },
  {
   "cell_type": "code",
   "execution_count": 13,
   "id": "101b1278",
   "metadata": {},
   "outputs": [
    {
     "data": {
      "text/plain": [
       "Result(output=Output(fractional=0.5, integer=3.0), runtime=None, errored=False)"
      ]
     },
     "execution_count": 13,
     "metadata": {},
     "output_type": "execute_result"
    }
   ],
   "source": [
    "@pydra.mark.task\n",
    "@pydra.mark.annotate({'return': {'fractional': ty.Any, 'integer': ty.Any}})\n",
    "def modf(a):\n",
    "    import math\n",
    "\n",
    "    return math.modf(a)\n",
    "\n",
    "\n",
    "task2a = modf(a=3.5)\n",
    "task2a()"
   ]
  },
  {
   "cell_type": "markdown",
   "id": "8f73ac23",
   "metadata": {},
   "source": [
    "**Note, that the order of the pydra decorators is important!**"
   ]
  },
  {
   "cell_type": "markdown",
   "id": "30db828d",
   "metadata": {},
   "source": [
    "## Setting the input\n",
    "\n",
    "We don't have to provide the input when we create a task, we can always set it later:"
   ]
  },
  {
   "cell_type": "code",
   "execution_count": 14,
   "id": "424dd267",
   "metadata": {},
   "outputs": [
    {
     "data": {
      "text/plain": [
       "Result(output=Output(out=9), runtime=None, errored=False)"
      ]
     },
     "execution_count": 14,
     "metadata": {},
     "output_type": "execute_result"
    }
   ],
   "source": [
    "task3 = add_var()\n",
    "task3.inputs.a = 4\n",
    "task3.inputs.b = 5\n",
    "task3()"
   ]
  },
  {
   "cell_type": "markdown",
   "id": "1aabbb1a",
   "metadata": {},
   "source": [
    "If we don't specify the input, `attr.NOTHING` will be used as the default value"
   ]
  },
  {
   "cell_type": "code",
   "execution_count": 15,
   "id": "3a5b1e8e",
   "metadata": {},
   "outputs": [
    {
     "data": {
      "text/plain": [
       "True"
      ]
     },
     "execution_count": 15,
     "metadata": {},
     "output_type": "execute_result"
    }
   ],
   "source": [
    "task3a = add_var()\n",
    "task3a.inputs.a = 4\n",
    "\n",
    "# importing attr library, and checking the type of `b`\n",
    "import attr\n",
    "\n",
    "task3a.inputs.b == attr.NOTHING"
   ]
  },
  {
   "cell_type": "markdown",
   "id": "68dac96e",
   "metadata": {},
   "source": [
    "And if we try to run the task, an error will be raised:"
   ]
  },
  {
   "cell_type": "code",
   "execution_count": 16,
   "id": "d8478789",
   "metadata": {
    "tags": [
     "raises-exception"
    ]
   },
   "outputs": [
    {
     "ename": "TypeError",
     "evalue": "unsupported operand type(s) for +: 'int' and '_Nothing'",
     "output_type": "error",
     "traceback": [
      "\u001b[0;31m---------------------------------------------------------------------------\u001b[0m",
      "\u001b[0;31mTypeError\u001b[0m                                 Traceback (most recent call last)",
      "Cell \u001b[0;32mIn[16], line 1\u001b[0m\n\u001b[0;32m----> 1\u001b[0m \u001b[43mtask3a\u001b[49m\u001b[43m(\u001b[49m\u001b[43m)\u001b[49m\n",
      "File \u001b[0;32m/usr/share/miniconda/envs/pydra-tutorial/lib/python3.11/site-packages/pydra/engine/core.py:452\u001b[0m, in \u001b[0;36mTaskBase.__call__\u001b[0;34m(self, submitter, plugin, plugin_kwargs, rerun, **kwargs)\u001b[0m\n\u001b[1;32m    450\u001b[0m         res \u001b[38;5;241m=\u001b[39m sub(\u001b[38;5;28mself\u001b[39m)\n\u001b[1;32m    451\u001b[0m \u001b[38;5;28;01melse\u001b[39;00m:  \u001b[38;5;66;03m# tasks without state could be run without a submitter\u001b[39;00m\n\u001b[0;32m--> 452\u001b[0m     res \u001b[38;5;241m=\u001b[39m \u001b[38;5;28;43mself\u001b[39;49m\u001b[38;5;241;43m.\u001b[39;49m\u001b[43m_run\u001b[49m\u001b[43m(\u001b[49m\u001b[43mrerun\u001b[49m\u001b[38;5;241;43m=\u001b[39;49m\u001b[43mrerun\u001b[49m\u001b[43m,\u001b[49m\u001b[43m \u001b[49m\u001b[38;5;241;43m*\u001b[39;49m\u001b[38;5;241;43m*\u001b[39;49m\u001b[43mkwargs\u001b[49m\u001b[43m)\u001b[49m\n\u001b[1;32m    453\u001b[0m \u001b[38;5;28;01mreturn\u001b[39;00m res\n",
      "File \u001b[0;32m/usr/share/miniconda/envs/pydra-tutorial/lib/python3.11/site-packages/pydra/engine/core.py:510\u001b[0m, in \u001b[0;36mTaskBase._run\u001b[0;34m(self, rerun, **kwargs)\u001b[0m\n\u001b[1;32m    508\u001b[0m \u001b[38;5;28;01mtry\u001b[39;00m:\n\u001b[1;32m    509\u001b[0m     \u001b[38;5;28mself\u001b[39m\u001b[38;5;241m.\u001b[39maudit\u001b[38;5;241m.\u001b[39mmonitor()\n\u001b[0;32m--> 510\u001b[0m     \u001b[38;5;28;43mself\u001b[39;49m\u001b[38;5;241;43m.\u001b[39;49m\u001b[43m_run_task\u001b[49m\u001b[43m(\u001b[49m\u001b[43m)\u001b[49m\n\u001b[1;32m    511\u001b[0m     result\u001b[38;5;241m.\u001b[39moutput \u001b[38;5;241m=\u001b[39m \u001b[38;5;28mself\u001b[39m\u001b[38;5;241m.\u001b[39m_collect_outputs(output_dir\u001b[38;5;241m=\u001b[39moutput_dir)\n\u001b[1;32m    512\u001b[0m \u001b[38;5;28;01mexcept\u001b[39;00m \u001b[38;5;167;01mException\u001b[39;00m:\n",
      "File \u001b[0;32m/usr/share/miniconda/envs/pydra-tutorial/lib/python3.11/site-packages/pydra/engine/task.py:192\u001b[0m, in \u001b[0;36mFunctionTask._run_task\u001b[0;34m(self)\u001b[0m\n\u001b[1;32m    190\u001b[0m \u001b[38;5;28;01mdel\u001b[39;00m inputs[\u001b[38;5;124m\"\u001b[39m\u001b[38;5;124m_func\u001b[39m\u001b[38;5;124m\"\u001b[39m]\n\u001b[1;32m    191\u001b[0m \u001b[38;5;28mself\u001b[39m\u001b[38;5;241m.\u001b[39moutput_ \u001b[38;5;241m=\u001b[39m \u001b[38;5;28;01mNone\u001b[39;00m\n\u001b[0;32m--> 192\u001b[0m output \u001b[38;5;241m=\u001b[39m \u001b[43mcp\u001b[49m\u001b[38;5;241;43m.\u001b[39;49m\u001b[43mloads\u001b[49m\u001b[43m(\u001b[49m\u001b[38;5;28;43mself\u001b[39;49m\u001b[38;5;241;43m.\u001b[39;49m\u001b[43minputs\u001b[49m\u001b[38;5;241;43m.\u001b[39;49m\u001b[43m_func\u001b[49m\u001b[43m)\u001b[49m\u001b[43m(\u001b[49m\u001b[38;5;241;43m*\u001b[39;49m\u001b[38;5;241;43m*\u001b[39;49m\u001b[43minputs\u001b[49m\u001b[43m)\u001b[49m\n\u001b[1;32m    193\u001b[0m output_names \u001b[38;5;241m=\u001b[39m [el[\u001b[38;5;241m0\u001b[39m] \u001b[38;5;28;01mfor\u001b[39;00m el \u001b[38;5;129;01min\u001b[39;00m \u001b[38;5;28mself\u001b[39m\u001b[38;5;241m.\u001b[39moutput_spec\u001b[38;5;241m.\u001b[39mfields]\n\u001b[1;32m    194\u001b[0m \u001b[38;5;28;01mif\u001b[39;00m output \u001b[38;5;129;01mis\u001b[39;00m \u001b[38;5;28;01mNone\u001b[39;00m:\n",
      "Cell \u001b[0;32mIn[2], line 6\u001b[0m, in \u001b[0;36madd_var\u001b[0;34m(a, b)\u001b[0m\n\u001b[1;32m      4\u001b[0m \u001b[38;5;129m@pydra\u001b[39m\u001b[38;5;241m.\u001b[39mmark\u001b[38;5;241m.\u001b[39mtask\n\u001b[1;32m      5\u001b[0m \u001b[38;5;28;01mdef\u001b[39;00m \u001b[38;5;21madd_var\u001b[39m(a, b):\n\u001b[0;32m----> 6\u001b[0m     \u001b[38;5;28;01mreturn\u001b[39;00m \u001b[43ma\u001b[49m\u001b[43m \u001b[49m\u001b[38;5;241;43m+\u001b[39;49m\u001b[43m \u001b[49m\u001b[43mb\u001b[49m\n",
      "\u001b[0;31mTypeError\u001b[0m: unsupported operand type(s) for +: 'int' and '_Nothing'"
     ]
    }
   ],
   "source": [
    "task3a()"
   ]
  },
  {
   "cell_type": "markdown",
   "id": "e785d140",
   "metadata": {},
   "source": [
    "## Output directory and caching the results\n",
    "\n",
    "After running the task, we can check where the output directory with the results was created:"
   ]
  },
  {
   "cell_type": "code",
   "execution_count": 17,
   "id": "f96526d1",
   "metadata": {},
   "outputs": [
    {
     "data": {
      "text/plain": [
       "PosixPath('/tmp/tmp6278r6fi/FunctionTask_da886d9b132f5b8ee224a13fef24ca84314279de37ddc7cb281399e6850857dc')"
      ]
     },
     "execution_count": 17,
     "metadata": {},
     "output_type": "execute_result"
    }
   ],
   "source": [
    "task3.output_dir"
   ]
  },
  {
   "cell_type": "markdown",
   "id": "b08401e7",
   "metadata": {},
   "source": [
    "Within the directory you can find the file with the results: `_result.pklz`."
   ]
  },
  {
   "cell_type": "code",
   "execution_count": 18,
   "id": "ed484e55",
   "metadata": {},
   "outputs": [],
   "source": [
    "import os"
   ]
  },
  {
   "cell_type": "code",
   "execution_count": 19,
   "id": "869ff6a4",
   "metadata": {},
   "outputs": [
    {
     "data": {
      "text/plain": [
       "['_result.pklz', '_task.pklz']"
      ]
     },
     "execution_count": 19,
     "metadata": {},
     "output_type": "execute_result"
    }
   ],
   "source": [
    "os.listdir(task3.output_dir)"
   ]
  },
  {
   "cell_type": "markdown",
   "id": "a5dbf685",
   "metadata": {},
   "source": [
    "But we can also provide the path where we want to store the results. If a path is provided for the cache directory, then pydra will use the cached results of a node instead of recomputing the result. Let's create a temporary directory and a specific subdirectory \"task4\":"
   ]
  },
  {
   "cell_type": "code",
   "execution_count": 20,
   "id": "e775e856",
   "metadata": {},
   "outputs": [],
   "source": [
    "from tempfile import mkdtemp\n",
    "from pathlib import Path"
   ]
  },
  {
   "cell_type": "code",
   "execution_count": 21,
   "id": "ec2705e2",
   "metadata": {},
   "outputs": [
    {
     "name": "stdout",
     "output_type": "stream",
     "text": [
      "/tmp/tmpf3ixvcdh/task4\n"
     ]
    }
   ],
   "source": [
    "cache_dir_tmp = Path(mkdtemp()) / 'task4'\n",
    "print(cache_dir_tmp)"
   ]
  },
  {
   "cell_type": "markdown",
   "id": "f66de465",
   "metadata": {},
   "source": [
    "Now we can pass this path to the argument of `FunctionTask` - `cache_dir`. To observe the execution time, we specify a function that is sleeping for 5s:"
   ]
  },
  {
   "cell_type": "code",
   "execution_count": 22,
   "id": "eada9a73",
   "metadata": {},
   "outputs": [],
   "source": [
    "@pydra.mark.task\n",
    "def add_var_wait(a, b):\n",
    "    import time\n",
    "\n",
    "    time.sleep(5)\n",
    "    return a + b\n",
    "\n",
    "\n",
    "task4 = add_var_wait(a=4, b=6, cache_dir=cache_dir_tmp)"
   ]
  },
  {
   "cell_type": "markdown",
   "id": "962acfb7",
   "metadata": {},
   "source": [
    "If you're running the cell first time, it should take around 5s."
   ]
  },
  {
   "cell_type": "code",
   "execution_count": 23,
   "id": "d47cae81",
   "metadata": {},
   "outputs": [
    {
     "data": {
      "text/plain": [
       "Result(output=Output(out=10), runtime=None, errored=False)"
      ]
     },
     "execution_count": 23,
     "metadata": {},
     "output_type": "execute_result"
    }
   ],
   "source": [
    "task4()\n",
    "task4.result()"
   ]
  },
  {
   "cell_type": "markdown",
   "id": "643e9adf",
   "metadata": {},
   "source": [
    "We can check `output_dir` of our task, it should contain the path of `cache_dir_tmp` and the last part contains the name of the task class `FunctionTask` and the task checksum:"
   ]
  },
  {
   "cell_type": "code",
   "execution_count": 24,
   "id": "39707b34",
   "metadata": {},
   "outputs": [
    {
     "data": {
      "text/plain": [
       "PosixPath('/tmp/tmpf3ixvcdh/task4/FunctionTask_f7e451903757a143199726f7648cb5b0d0ed64850b83e9af032769ed149074e9')"
      ]
     },
     "execution_count": 24,
     "metadata": {},
     "output_type": "execute_result"
    }
   ],
   "source": [
    "task4.output_dir"
   ]
  },
  {
   "cell_type": "markdown",
   "id": "736e86df",
   "metadata": {},
   "source": [
    "Let's see what happens when we defined identical task again with the same `cache_dir`:"
   ]
  },
  {
   "cell_type": "code",
   "execution_count": 25,
   "id": "a2a4f048",
   "metadata": {},
   "outputs": [
    {
     "data": {
      "text/plain": [
       "Result(output=Output(out=10), runtime=None, errored=False)"
      ]
     },
     "execution_count": 25,
     "metadata": {},
     "output_type": "execute_result"
    }
   ],
   "source": [
    "task4a = add_var_wait(a=4, b=6, cache_dir=cache_dir_tmp)\n",
    "task4a()"
   ]
  },
  {
   "cell_type": "markdown",
   "id": "75411db6",
   "metadata": {},
   "source": [
    "This time the result should be ready right away! *pydra* uses available results and do not recompute the task.\n",
    "\n",
    "*pydra* not only checks for the results in `cache_dir`, but you can provide a list of other locations that should be checked. Let's create another directory that will be used as `cache_dir` and previous working directory will be used in `cache_locations`."
   ]
  },
  {
   "cell_type": "code",
   "execution_count": 26,
   "id": "097f6b7b",
   "metadata": {},
   "outputs": [
    {
     "data": {
      "text/plain": [
       "Result(output=Output(out=10), runtime=None, errored=False)"
      ]
     },
     "execution_count": 26,
     "metadata": {},
     "output_type": "execute_result"
    }
   ],
   "source": [
    "cache_dir_tmp_new = Path(mkdtemp()) / 'task4b'\n",
    "\n",
    "task4b = add_var_wait(\n",
    "    a=4, b=6, cache_dir=cache_dir_tmp_new, cache_locations=[cache_dir_tmp]\n",
    ")\n",
    "task4b()"
   ]
  },
  {
   "cell_type": "markdown",
   "id": "21e56876",
   "metadata": {},
   "source": [
    "This time the results should be also returned quickly! And we can check that `task4b.output_dir` was not created:"
   ]
  },
  {
   "cell_type": "code",
   "execution_count": 27,
   "id": "c7fb1de4",
   "metadata": {},
   "outputs": [
    {
     "data": {
      "text/plain": [
       "False"
      ]
     },
     "execution_count": 27,
     "metadata": {},
     "output_type": "execute_result"
    }
   ],
   "source": [
    "task4b.output_dir.exists()"
   ]
  },
  {
   "cell_type": "markdown",
   "id": "6a3320a8",
   "metadata": {},
   "source": [
    "If you want to rerun the task regardless having already the results, you can set `rerun` to `True`. The task will take several seconds and new `output_dir` will be created:"
   ]
  },
  {
   "cell_type": "code",
   "execution_count": 28,
   "id": "05dcea89",
   "metadata": {},
   "outputs": [
    {
     "data": {
      "text/plain": [
       "True"
      ]
     },
     "execution_count": 28,
     "metadata": {},
     "output_type": "execute_result"
    }
   ],
   "source": [
    "cache_dir_tmp_new = Path(mkdtemp()) / 'task4c'\n",
    "\n",
    "task4c = add_var_wait(\n",
    "    a=4, b=6, cache_dir=cache_dir_tmp_new, cache_locations=[cache_dir_tmp]\n",
    ")\n",
    "task4c(rerun=True)\n",
    "\n",
    "task4c.output_dir.exists()"
   ]
  },
  {
   "cell_type": "markdown",
   "id": "a799433e",
   "metadata": {},
   "source": [
    "If we update the input of the task, and run again, the new directory will be created and task will be recomputed:"
   ]
  },
  {
   "cell_type": "code",
   "execution_count": 29,
   "id": "76dfe8c6",
   "metadata": {},
   "outputs": [
    {
     "name": "stdout",
     "output_type": "stream",
     "text": [
      "Result(output=Output(out=7), runtime=None, errored=False)\n",
      "True\n"
     ]
    }
   ],
   "source": [
    "task4b.inputs.a = 1\n",
    "print(task4b())\n",
    "print(task4b.output_dir.exists())"
   ]
  },
  {
   "cell_type": "markdown",
   "id": "ffa0c901",
   "metadata": {},
   "source": [
    "and when we check the `output_dir`, we can see that it's different than last time:"
   ]
  },
  {
   "cell_type": "code",
   "execution_count": 30,
   "id": "a3783b3d",
   "metadata": {},
   "outputs": [
    {
     "data": {
      "text/plain": [
       "PosixPath('/tmp/tmptx2hetis/task4b/FunctionTask_825920ee554de6af450785e090b06392f7b36e1dc96724a9e78876b0419c2fe2')"
      ]
     },
     "execution_count": 30,
     "metadata": {},
     "output_type": "execute_result"
    }
   ],
   "source": [
    "task4b.output_dir"
   ]
  },
  {
   "cell_type": "markdown",
   "id": "c9b762e8",
   "metadata": {},
   "source": [
    "This is because, the checksum changes when we change either input or function."
   ]
  },
  {
   "cell_type": "markdown",
   "id": "0010712a",
   "metadata": {
    "solution2": "hidden",
    "solution2_first": true
   },
   "source": [
    "### Exercise 1\n",
    "Create a task that take a list of numbers as an input and returns two fields: `mean` with the mean value and `std` with the standard deviation value."
   ]
  },
  {
   "cell_type": "code",
   "execution_count": 31,
   "id": "6017bd35",
   "metadata": {
    "tags": [
     "hide-cell"
    ]
   },
   "outputs": [
    {
     "data": {
      "text/plain": [
       "Result(output=Output(mean=2, std=0.0), runtime=None, errored=False)"
      ]
     },
     "execution_count": 31,
     "metadata": {},
     "output_type": "execute_result"
    }
   ],
   "source": [
    "@pydra.mark.task\n",
    "@pydra.mark.annotate({'return': {'mean': ty.Any, 'std': ty.Any}})\n",
    "def mean_dev(my_list):\n",
    "    import statistics as st\n",
    "\n",
    "    return st.mean(my_list), st.stdev(my_list)\n",
    "\n",
    "\n",
    "my_task = mean_dev(my_list=[2, 2, 2])\n",
    "my_task()\n",
    "my_task.result()"
   ]
  },
  {
   "cell_type": "code",
   "execution_count": 32,
   "id": "4a824492",
   "metadata": {},
   "outputs": [],
   "source": [
    "# write your solution here (you can use statistics module)"
   ]
  },
  {
   "cell_type": "markdown",
   "id": "2dd63c69",
   "metadata": {},
   "source": [
    "## Using Audit\n",
    "\n",
    "*pydra* can record various run time information, including the workflow provenance, by setting `audit_flags` and the type of messengers.\n",
    "\n",
    "`AuditFlag.RESOURCE` allows you to monitor resource usage for the `Task`, while `AuditFlag.PROV` tracks the provenance of the `Task`."
   ]
  },
  {
   "cell_type": "code",
   "execution_count": 33,
   "id": "ed8dbf80",
   "metadata": {},
   "outputs": [
    {
     "data": {
      "text/plain": [
       "Result(output=Output(out=9), runtime=Runtime(rss_peak_gb=0.083473205078125, vms_peak_gb=0.82421112109375, cpu_peak_percent=90.9), errored=False)"
      ]
     },
     "execution_count": 33,
     "metadata": {},
     "output_type": "execute_result"
    }
   ],
   "source": [
    "from pydra.utils.messenger import AuditFlag, PrintMessenger\n",
    "\n",
    "task5 = add_var(a=4, b=5, audit_flags=AuditFlag.RESOURCE)\n",
    "task5()\n",
    "task5.result()"
   ]
  },
  {
   "cell_type": "markdown",
   "id": "ffd273c5",
   "metadata": {},
   "source": [
    "One can turn on both audit flags using `AuditFlag.ALL`, and print the messages on the terminal using the `PrintMessenger`."
   ]
  },
  {
   "cell_type": "code",
   "execution_count": 34,
   "id": "1b960a88",
   "metadata": {},
   "outputs": [
    {
     "name": "stdout",
     "output_type": "stream",
     "text": [
      "id: 07d884263dc34f839d682fe511b1937f\n",
      "{\n",
      "  \"@context\": \"https://raw.githubusercontent.com/nipype/pydra/master/pydra/schema/context.jsonld\",\n",
      "  \"@id\": \"uid:6b0b5ce7c6284817992836948e9d5b3e\",\n",
      "  \"@type\": \"task\",\n",
      "  \"startedAtTime\": \"2023-03-16T21:00:03.650458\",\n",
      "  \"executedBy\": \"uid:ccbec004c7f74776b9eb6eded56135b0\"\n",
      "}\n"
     ]
    },
    {
     "name": "stdout",
     "output_type": "stream",
     "text": [
      "id: 7be0ac44ab094f8d904dad9afcafb409\n",
      "{\n",
      "  \"@context\": \"https://raw.githubusercontent.com/nipype/pydra/master/pydra/schema/context.jsonld\",\n",
      "  \"@id\": \"uid:6b0b5ce7c6284817992836948e9d5b3e\",\n",
      "  \"@type\": \"task\",\n",
      "  \"Label\": \"add_var\",\n",
      "  \"Command\": null,\n",
      "  \"StartedAtTime\": \"2023-03-16T21:00:03.854141\",\n",
      "  \"AssociatedWith\": null\n",
      "}\n",
      "id: d6c72c34d7c749fa86f112909ef53dd0\n",
      "{\n",
      "  \"@context\": \"https://raw.githubusercontent.com/nipype/pydra/master/pydra/schema/context.jsonld\",\n",
      "  \"@id\": \"uid:33222904b17b4cbbaba27ed61af43b9d\",\n",
      "  \"@type\": \"monitor\",\n",
      "  \"startedAtTime\": \"2023-03-16T21:00:03.854610\",\n",
      "  \"wasStartedBy\": \"uid:6b0b5ce7c6284817992836948e9d5b3e\"\n",
      "}\n",
      "id: f4fa628c8fba4d17b9e6912f35f7ced7\n",
      "{\n",
      "  \"@context\": \"https://raw.githubusercontent.com/nipype/pydra/master/pydra/schema/context.jsonld\",\n",
      "  \"@id\": \"uid:33222904b17b4cbbaba27ed61af43b9d\",\n",
      "  \"endedAtTime\": \"2023-03-16T21:00:03.885498\",\n",
      "  \"wasEndedBy\": \"uid:6b0b5ce7c6284817992836948e9d5b3e\"\n",
      "}\n",
      "id: 67a5911755084bc29a33966588116397\n",
      "{\n",
      "  \"@context\": \"https://raw.githubusercontent.com/nipype/pydra/master/pydra/schema/context.jsonld\",\n",
      "  \"rss_peak_gb\": 0.083473205078125,\n",
      "  \"vms_peak_gb\": 0.825172423828125,\n",
      "  \"cpu_peak_percent\": 294.9,\n",
      "  \"@id\": \"uid:5f0985dfe73d40da897b4219f0a91ff3\",\n",
      "  \"@type\": \"runtime\",\n",
      "  \"prov:wasGeneratedBy\": \"uid:6b0b5ce7c6284817992836948e9d5b3e\"\n",
      "}\n",
      "id: 60b73ee3853f4588bd7673827cdc1cb8\n",
      "{\n",
      "  \"@context\": \"https://raw.githubusercontent.com/nipype/pydra/master/pydra/schema/context.jsonld\",\n",
      "  \"@type\": \"prov:Generation\",\n",
      "  \"entity_generated\": \"uid:5f0985dfe73d40da897b4219f0a91ff3\",\n",
      "  \"hadActivity\": \"uid:33222904b17b4cbbaba27ed61af43b9d\"\n",
      "}\n",
      "id: 74f72d7874d041b38246e180174cdfaf\n",
      "{\n",
      "  \"@context\": \"https://raw.githubusercontent.com/nipype/pydra/master/pydra/schema/context.jsonld\",\n",
      "  \"@id\": \"uid:6b0b5ce7c6284817992836948e9d5b3e\",\n",
      "  \"endedAtTime\": \"2023-03-16T21:00:03.885670\",\n",
      "  \"errored\": false\n",
      "}\n"
     ]
    },
    {
     "data": {
      "text/plain": [
       "Result(output=Output(out=9), runtime=Runtime(rss_peak_gb=0.083473205078125, vms_peak_gb=0.825172423828125, cpu_peak_percent=294.9), errored=False)"
      ]
     },
     "execution_count": 34,
     "metadata": {},
     "output_type": "execute_result"
    }
   ],
   "source": [
    "task5 = add_var(\n",
    "    a=4, b=5, audit_flags=AuditFlag.ALL, messengers=PrintMessenger()\n",
    ")\n",
    "task5()\n",
    "task5.result()"
   ]
  }
 ],
 "metadata": {
  "jupytext": {
   "text_representation": {
    "extension": ".md",
    "format_name": "myst",
    "format_version": 0.13,
    "jupytext_version": "1.14.0"
   }
  },
  "kernelspec": {
   "display_name": "Python 3",
   "language": "python",
   "name": "python3"
  },
  "language_info": {
   "codemirror_mode": {
    "name": "ipython",
    "version": 3
   },
   "file_extension": ".py",
   "mimetype": "text/x-python",
   "name": "python",
   "nbconvert_exporter": "python",
   "pygments_lexer": "ipython3",
   "version": "3.11.0"
  },
  "source_map": [
   12,
   16,
   28,
   32,
   39,
   43,
   45,
   49,
   51,
   55,
   58,
   62,
   64,
   70,
   72,
   76,
   78,
   82,
   85,
   89,
   91,
   98,
   109,
   113,
   123,
   127,
   138,
   142,
   148,
   153,
   157,
   165,
   169,
   173,
   179,
   181,
   185,
   189,
   191,
   195,
   200,
   203,
   207,
   217,
   221,
   224,
   228,
   230,
   234,
   237,
   243,
   250,
   254,
   256,
   260,
   269,
   273,
   277,
   281,
   283,
   287,
   292,
   308,
   310,
   318,
   324,
   328
  ]
 },
 "nbformat": 4,
 "nbformat_minor": 5
}
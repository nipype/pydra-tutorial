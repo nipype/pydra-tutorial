{
 "cells": [
  {
   "cell_type": "markdown",
   "id": "7205d8df",
   "metadata": {},
   "source": [
    "# Workers in Pydra\n",
    "\n",
    "Pydra workers are classes that are used to execute `Tasks` and `Workflows`. Pydra currently supports the following workers:\n",
    "- `SerialWorker`\n",
    "- `ConcurrentFuturesWorker`\n",
    "- `SlurmWorker`\n",
    "- `DaskWorker`\n",
    "- `SGEWorker`\n",
    "- `PsijWorker`\n",
    "\n",
    "## 1. SerialWorker\n",
    "\n",
    "A worker to execute linearly. \n",
    "```\n",
    "with pydra.Submitter(plugin='serial') as sub:\n",
    "    sub(wf)\n",
    "```\n",
    "\n",
    "## 2. ConcurrentFuturesWorker\n",
    "\n",
    "A worker to execute in parallel using Python's concurrent futures.\n",
    "```\n",
    "with pydra.Submitter(plugin='cf') as sub:\n",
    "    sub(wf)\n",
    "```\n",
    "\n",
    "## 3. SlurmWorker\n",
    "\n",
    "A worker to execute tasks on SLURM systems.\n",
    "```\n",
    "with pydra.Submitter(plugin='slurm') as sub:\n",
    "    sub(wf)\n",
    "```\n",
    "\n",
    "## 4. DaskWorker\n",
    "\n",
    "A worker to execute in parallel using Dask.distributed.\n",
    "```\n",
    "with pydra.Submitter(plugin='dask') as sub:\n",
    "    sub(wf)\n",
    "```\n",
    "\n",
    "## 5. SGEWorker\n",
    "\n",
    "A worker to execute tasks on SLURM systems.\n",
    "```\n",
    "with pydra.Submitter(plugin='sge') as sub:\n",
    "    sub(wf)\n",
    "```\n",
    "\n",
    "## 6. PsijWorker\n",
    "\n",
    "A worker to execute tasks using PSI/J executors. Currently supported executors are: `local` and `slurm`.\n",
    "```\n",
    "with pydra.Submitter(plugin='psij-local') as sub:\n",
    "    sub(wf)\n",
    "```\n",
    "```\n",
    "with pydra.Submitter(plugin='psij-slurm') as sub:\n",
    "    sub(wf)\n",
    "```"
   ]
  }
 ],
 "metadata": {
  "jupytext": {
   "text_representation": {
    "extension": ".md",
    "format_name": "myst",
    "format_version": 0.13,
    "jupytext_version": "1.14.0"
   }
  },
  "kernelspec": {
   "display_name": "Python 3",
   "language": "python",
   "name": "python3"
  },
  "language_info": {
   "codemirror_mode": {
    "name": "ipython",
    "version": 3
   },
   "file_extension": ".py",
   "mimetype": "text/x-python",
   "name": "python",
   "nbconvert_exporter": "python",
   "pygments_lexer": "ipython3",
   "version": "3.13.1"
  },
  "source_map": [
   12
  ]
 },
 "nbformat": 4,
 "nbformat_minor": 5
}
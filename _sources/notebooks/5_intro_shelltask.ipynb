{
 "cells": [
  {
   "cell_type": "markdown",
   "id": "2970743d",
   "metadata": {},
   "source": [
    "# ShellCommandTask"
   ]
  },
  {
   "cell_type": "code",
   "execution_count": 1,
   "id": "fbca4a47",
   "metadata": {
    "jupyter": {
     "outputs_hidden": false
    },
    "pycharm": {
     "name": "#%%\n"
    }
   },
   "outputs": [],
   "source": [
    "import nest_asyncio\n",
    "\n",
    "nest_asyncio.apply()"
   ]
  },
  {
   "cell_type": "markdown",
   "id": "f5316751",
   "metadata": {},
   "source": [
    "In addition to `FunctionTask`, pydra allows for creating tasks from shell commands by using `ShellCommandTask`.\n",
    "\n",
    "Let's run a simple command `pwd` using pydra"
   ]
  },
  {
   "cell_type": "code",
   "execution_count": 2,
   "id": "651fae9b",
   "metadata": {},
   "outputs": [],
   "source": [
    "import pydra"
   ]
  },
  {
   "cell_type": "code",
   "execution_count": 3,
   "id": "31f2f9ee",
   "metadata": {},
   "outputs": [
    {
     "data": {
      "text/plain": [
       "'pwd'"
      ]
     },
     "execution_count": 3,
     "metadata": {},
     "output_type": "execute_result"
    }
   ],
   "source": [
    "cmd = 'pwd'\n",
    "# we should use executable to pass the command we want to run\n",
    "shelly = pydra.ShellCommandTask(name='shelly', executable=cmd)\n",
    "\n",
    "# we can always check the cmdline of our task\n",
    "shelly.cmdline"
   ]
  },
  {
   "cell_type": "markdown",
   "id": "de9b8506",
   "metadata": {},
   "source": [
    "and now let's try to run it:"
   ]
  },
  {
   "cell_type": "code",
   "execution_count": 4,
   "id": "f5dbd200",
   "metadata": {},
   "outputs": [],
   "source": [
    "with pydra.Submitter(plugin='cf') as sub:\n",
    "    sub(shelly)"
   ]
  },
  {
   "cell_type": "markdown",
   "id": "b2602811",
   "metadata": {},
   "source": [
    "and check the result"
   ]
  },
  {
   "cell_type": "code",
   "execution_count": 5,
   "id": "2d9a6155",
   "metadata": {},
   "outputs": [
    {
     "data": {
      "text/plain": [
       "Result(output=Output(return_code=0, stdout='/tmp/tmpbm700g1j/ShellCommandTask_50215383834238ce614b4428a1e9943ddff15f8580a384a0a57b34c760864b3a\\n', stderr=''), runtime=None, errored=False)"
      ]
     },
     "execution_count": 5,
     "metadata": {},
     "output_type": "execute_result"
    }
   ],
   "source": [
    "shelly.result()"
   ]
  },
  {
   "cell_type": "markdown",
   "id": "7fc20adf",
   "metadata": {},
   "source": [
    "the result should have `return_code`, `stdout` and `stderr`. If everything goes well `return_code` should be `0`, `stdout` should point to the working directory and `stderr` should be an empty string."
   ]
  },
  {
   "cell_type": "markdown",
   "id": "06aae8d3",
   "metadata": {},
   "source": [
    "## Commands with arguments and inputs\n",
    "you can also use longer command by providing a list:"
   ]
  },
  {
   "cell_type": "code",
   "execution_count": 6,
   "id": "77dec380",
   "metadata": {},
   "outputs": [
    {
     "name": "stdout",
     "output_type": "stream",
     "text": [
      "cmndline =  echo hail pydra\n"
     ]
    },
    {
     "data": {
      "text/plain": [
       "Result(output=Output(return_code=0, stdout='hail pydra\\n', stderr=''), runtime=None, errored=False)"
      ]
     },
     "execution_count": 6,
     "metadata": {},
     "output_type": "execute_result"
    }
   ],
   "source": [
    "cmd = ['echo', 'hail', 'pydra']\n",
    "shelly = pydra.ShellCommandTask(name='shelly', executable=cmd)\n",
    "print('cmndline = ', shelly.cmdline)\n",
    "\n",
    "with pydra.Submitter(plugin='cf') as sub:\n",
    "    sub(shelly)\n",
    "shelly.result()"
   ]
  },
  {
   "cell_type": "markdown",
   "id": "a5e775d2",
   "metadata": {},
   "source": [
    "### using args\n",
    "In addition to `executable`, we can also use `args`. Last example can be also rewritten:"
   ]
  },
  {
   "cell_type": "code",
   "execution_count": 7,
   "id": "e90fabe2",
   "metadata": {},
   "outputs": [
    {
     "name": "stdout",
     "output_type": "stream",
     "text": [
      "cmndline =  echo hail pydra\n"
     ]
    },
    {
     "data": {
      "text/plain": [
       "Result(output=Output(return_code=0, stdout='hail pydra\\n', stderr=''), runtime=None, errored=False)"
      ]
     },
     "execution_count": 7,
     "metadata": {},
     "output_type": "execute_result"
    }
   ],
   "source": [
    "cmd = 'echo'\n",
    "args = ['hail', 'pydra']\n",
    "\n",
    "shelly = pydra.ShellCommandTask(name='shelly', executable=cmd, args=args)\n",
    "print('cmndline = ', shelly.cmdline)\n",
    "\n",
    "with pydra.Submitter(plugin='cf') as sub:\n",
    "    sub(shelly)\n",
    "shelly.result()"
   ]
  },
  {
   "cell_type": "markdown",
   "id": "4638a438",
   "metadata": {},
   "source": [
    "## Customized input\n",
    "\n",
    "Pydra always checks `executable` and `args`, but we can also provide additional inputs, in order to do it, we have to modify `input_spec` first by using `SpecInfo` class:"
   ]
  },
  {
   "cell_type": "code",
   "execution_count": 8,
   "id": "ae1da7a7",
   "metadata": {},
   "outputs": [],
   "source": [
    "import attr\n",
    "\n",
    "my_input_spec = pydra.specs.SpecInfo(\n",
    "    name='Input',\n",
    "    fields=[\n",
    "        (\n",
    "            'text',\n",
    "            attr.ib(\n",
    "                type=str,\n",
    "                metadata={\n",
    "                    'position': 1,\n",
    "                    'argstr': '',\n",
    "                    'help_string': 'text',\n",
    "                    'mandatory': True,\n",
    "                },\n",
    "            ),\n",
    "        )\n",
    "    ],\n",
    "    bases=(pydra.specs.ShellSpec,),\n",
    ")"
   ]
  },
  {
   "cell_type": "markdown",
   "id": "e82ad70d",
   "metadata": {},
   "source": [
    "Notice, that in order to create your own `input_spec`, you have to provide a list of `fields`. There are several valid syntax to specify elements of `fields`:\n",
    "- `(name, attribute)`\n",
    "- `(name, type, default)`\n",
    "- `(name, type, default, metadata)`\n",
    "- `(name, type, metadata)`\n",
    "\n",
    "where `name`, `type`, and `default` are the name, type and default values of the field. `attribute` is defined by using `attr.ib`, in the example the attribute has `type` and `metadata`, but the full specification can be found [here](https://www.attrs.org/en/stable/api.html#attr.ib).\n",
    "\n",
    "In `metadata`, you can provide additional information that is used by `pydra`, `help_string` is the only key that is required, and the full list of supported keys is `['position', 'argstr', 'requires', 'mandatory', 'allowed_values', 'output_field_name', 'copyfile', 'separate_ext', 'container_path', 'help_string', 'xor', 'output_file_template']`. Among the supported keys, you have:\n",
    "- `help_string`: a sring, description of the argument;\n",
    "- `position`: integer grater than 0, defines the relative position of the arguments when the shell command is constructed;\n",
    "- `argstr`: a string, e.g. \"-o\", can be used to specify a flag if needed for the command argument;\n",
    "- `mandatory`: a bool, if True, pydra will raise an exception, if the argument is not provided;\n",
    "\n",
    "The complete documentations for all suported keys is available [here](https://pydra.readthedocs.io/en/latest/input_spec.html)."
   ]
  },
  {
   "cell_type": "markdown",
   "id": "3d4a9630",
   "metadata": {},
   "source": [
    "To define `my_input_spec` we used the most general syntax that requires `(name, attribute)`, but\n",
    "perhaps the simplest syntax is the last one, that contains `(name, type, metadata)`. Using this syntax, `my_input_spec` could look like this:\n",
    "\n",
    "```\n",
    "my_input_spec_short = pydra.specs.SpecInfo(\n",
    "    name=\"Input\",\n",
    "    fields=[\n",
    "        (\"text\", str, {\"position\": 1, \"help_string\": \"text\", \"mandatory\": True}),\n",
    "    ],\n",
    "    bases=(pydra.specs.ShellSpec,),\n",
    ")\n",
    "```"
   ]
  },
  {
   "cell_type": "markdown",
   "id": "6705306c",
   "metadata": {},
   "source": [
    "After defining `my_input_spec`, we can define our task:"
   ]
  },
  {
   "cell_type": "code",
   "execution_count": 9,
   "id": "81c20b40",
   "metadata": {},
   "outputs": [
    {
     "name": "stdout",
     "output_type": "stream",
     "text": [
      "cmndline =  echo HELLO\n"
     ]
    },
    {
     "data": {
      "text/plain": [
       "Result(output=Output(return_code=0, stdout='HELLO\\n', stderr=''), runtime=None, errored=False)"
      ]
     },
     "execution_count": 9,
     "metadata": {},
     "output_type": "execute_result"
    }
   ],
   "source": [
    "cmd_exec = 'echo'\n",
    "hello = 'HELLO'\n",
    "shelly = pydra.ShellCommandTask(\n",
    "    name='shelly', executable=cmd_exec, text=hello, input_spec=my_input_spec\n",
    ")\n",
    "\n",
    "print('cmndline = ', shelly.cmdline)\n",
    "\n",
    "with pydra.Submitter(plugin='cf') as sub:\n",
    "    sub(shelly)\n",
    "shelly.result()"
   ]
  },
  {
   "cell_type": "markdown",
   "id": "bfa7486f",
   "metadata": {},
   "source": [
    "## Customized output\n",
    "\n",
    "We can also customized output if we want to return something more than the `stdout`, e.g. a file."
   ]
  },
  {
   "cell_type": "code",
   "execution_count": 10,
   "id": "313d84a6",
   "metadata": {},
   "outputs": [],
   "source": [
    "my_output_spec = pydra.specs.SpecInfo(\n",
    "    name='Output',\n",
    "    fields=[('newfile', pydra.specs.File, 'newfile_tmp.txt')],\n",
    "    bases=(pydra.specs.ShellOutSpec,),\n",
    ")"
   ]
  },
  {
   "cell_type": "markdown",
   "id": "e1ca9ce6",
   "metadata": {},
   "source": [
    "now we can create a task that returns a new file:"
   ]
  },
  {
   "cell_type": "code",
   "execution_count": 11,
   "id": "939b91ea",
   "metadata": {},
   "outputs": [
    {
     "name": "stdout",
     "output_type": "stream",
     "text": [
      "cmndline =  touch newfile_tmp.txt\n"
     ]
    },
    {
     "data": {
      "text/plain": [
       "Result(output=Output(return_code=0, stdout='', stderr='', newfile=PosixPath('/tmp/tmpd9cnzpwn/ShellCommandTask_76e73f8b52e6d5d1920bda2a22e309fb4fd89cec14e6ab25755e2caf66cf0294/newfile_tmp.txt')), runtime=None, errored=False)"
      ]
     },
     "execution_count": 11,
     "metadata": {},
     "output_type": "execute_result"
    }
   ],
   "source": [
    "cmd = ['touch', 'newfile_tmp.txt']\n",
    "shelly = pydra.ShellCommandTask(\n",
    "    name='shelly', executable=cmd, output_spec=my_output_spec\n",
    ")\n",
    "\n",
    "print('cmndline = ', shelly.cmdline)\n",
    "\n",
    "with pydra.Submitter(plugin='cf') as sub:\n",
    "    sub(shelly)\n",
    "shelly.result()"
   ]
  },
  {
   "cell_type": "markdown",
   "id": "fb71ad7a",
   "metadata": {
    "solution2": "hidden",
    "solution2_first": true
   },
   "source": [
    "### Exercise 1\n",
    "\n",
    "Write a task that creates two new files, use provided output spec."
   ]
  },
  {
   "cell_type": "code",
   "execution_count": 12,
   "id": "df20ea5d",
   "metadata": {},
   "outputs": [],
   "source": [
    "cmd = 'touch'\n",
    "args = ['newfile_1.txt', 'newfile_2.txt']\n",
    "\n",
    "my_output_spec = pydra.specs.SpecInfo(\n",
    "    name='Output',\n",
    "    fields=[\n",
    "        (\n",
    "            'out1',\n",
    "            attr.ib(\n",
    "                type=pydra.specs.File,\n",
    "                metadata={\n",
    "                    'output_file_template': '{args}',\n",
    "                    'help_string': 'output file',\n",
    "                },\n",
    "            ),\n",
    "        )\n",
    "    ],\n",
    "    bases=(pydra.specs.ShellOutSpec,),\n",
    ")\n",
    "\n",
    "# write your solution here"
   ]
  },
  {
   "cell_type": "markdown",
   "id": "4a34cbd5",
   "metadata": {},
   "source": [
    "<mark> DO NOT RUN IF Docker IS NOT AVAILABLE </mark>\n",
    "\n",
    "**Note, that the following task use Docker, so they will fail if the Docker is not available. It will also fail in Binder.**"
   ]
  },
  {
   "cell_type": "markdown",
   "id": "d1c65682",
   "metadata": {},
   "source": [
    "## DockerTask\n",
    "\n",
    "all the commands can be also run in a docker container using `DockerTask`. Syntax is very similar, but additional argument `image` is required."
   ]
  },
  {
   "cell_type": "code",
   "execution_count": 13,
   "id": "d52e2df4",
   "metadata": {
    "tags": [
     "raises-exception"
    ]
   },
   "outputs": [
    {
     "data": {
      "text/plain": [
       "Result(output=Output(return_code=0, stdout='root\\n', stderr=\"Unable to find image 'busybox:latest' locally\\nlatest: Pulling from library/busybox\\n1487bff95222: Pulling fs layer\\n1487bff95222: Download complete\\n1487bff95222: Pull complete\\nDigest: sha256:c118f538365369207c12e5794c3cbfb7b042d950af590ae6c287ede74f29b7d4\\nStatus: Downloaded newer image for busybox:latest\\n\"), runtime=None, errored=False)"
      ]
     },
     "execution_count": 13,
     "metadata": {},
     "output_type": "execute_result"
    }
   ],
   "source": [
    "cmd = 'whoami'\n",
    "docky = pydra.DockerTask(name='docky', executable=cmd, image='busybox')\n",
    "\n",
    "with pydra.Submitter() as sub:\n",
    "    docky(submitter=sub)\n",
    "\n",
    "docky.result()"
   ]
  },
  {
   "cell_type": "markdown",
   "id": "ae6b7938",
   "metadata": {},
   "source": [
    "### Exercise2\n",
    "\n",
    "Use splitter to run the same command in two different images:"
   ]
  },
  {
   "cell_type": "code",
   "execution_count": 14,
   "id": "5d181f3a",
   "metadata": {
    "tags": [
     "hide-cell",
     "raises-exception"
    ]
   },
   "outputs": [
    {
     "data": {
      "text/plain": [
       "[Result(output=Output(return_code=0, stdout='root\\n', stderr=''), runtime=None, errored=False),\n",
       " Result(output=Output(return_code=0, stdout='root\\n', stderr=\"Unable to find image 'ubuntu:latest' locally\\nlatest: Pulling from library/ubuntu\\n2ab09b027e7f: Pulling fs layer\\n2ab09b027e7f: Verifying Checksum\\n2ab09b027e7f: Download complete\\n2ab09b027e7f: Pull complete\\nDigest: sha256:67211c14fa74f070d27cc59d69a7fa9aeff8e28ea118ef3babc295a0428a6d21\\nStatus: Downloaded newer image for ubuntu:latest\\n\"), runtime=None, errored=False)]"
      ]
     },
     "execution_count": 14,
     "metadata": {},
     "output_type": "execute_result"
    }
   ],
   "source": [
    "cmd = 'whoami'\n",
    "docky = pydra.DockerTask(\n",
    "    name='docky', executable=cmd, image=['busybox', 'ubuntu']\n",
    ").split('image')\n",
    "\n",
    "with pydra.Submitter() as sub:\n",
    "    docky(submitter=sub)\n",
    "\n",
    "docky.result()"
   ]
  },
  {
   "cell_type": "code",
   "execution_count": 15,
   "id": "5ec4188b",
   "metadata": {},
   "outputs": [],
   "source": [
    "# write your solution here"
   ]
  },
  {
   "cell_type": "markdown",
   "id": "829bd70c",
   "metadata": {},
   "source": [
    "#### Using `ShellCommandTask` with `container_info` argument:\n",
    "\n",
    "You can run the shell command in a docker container by adding `container_info` argument to `ShellCommandTask`:"
   ]
  },
  {
   "cell_type": "code",
   "execution_count": 16,
   "id": "7cbfc56c",
   "metadata": {
    "tags": [
     "raises-exception"
    ]
   },
   "outputs": [
    {
     "data": {
      "text/plain": [
       "Result(output=Output(return_code=0, stdout='root\\n', stderr=''), runtime=None, errored=False)"
      ]
     },
     "execution_count": 16,
     "metadata": {},
     "output_type": "execute_result"
    }
   ],
   "source": [
    "shelly = pydra.ShellCommandTask(\n",
    "    name='shelly', executable='whoami', container_info=('docker', 'busybox')\n",
    ")\n",
    "with pydra.Submitter() as sub:\n",
    "    shelly(submitter=sub)\n",
    "\n",
    "shelly.result()"
   ]
  },
  {
   "cell_type": "markdown",
   "id": "166b951d",
   "metadata": {},
   "source": [
    "If we don't provide `container_info` the output should be different:"
   ]
  },
  {
   "cell_type": "code",
   "execution_count": 17,
   "id": "e6ee2ff4",
   "metadata": {},
   "outputs": [
    {
     "data": {
      "text/plain": [
       "Result(output=Output(return_code=0, stdout='runner\\n', stderr=''), runtime=None, errored=False)"
      ]
     },
     "execution_count": 17,
     "metadata": {},
     "output_type": "execute_result"
    }
   ],
   "source": [
    "shelly = pydra.ShellCommandTask(name='shelly', executable='whoami')\n",
    "with pydra.Submitter() as sub:\n",
    "    shelly(submitter=sub)\n",
    "\n",
    "shelly.result()"
   ]
  }
 ],
 "metadata": {
  "jupytext": {
   "text_representation": {
    "extension": ".md",
    "format_name": "myst",
    "format_version": 0.13,
    "jupytext_version": "1.14.0"
   }
  },
  "kernelspec": {
   "display_name": "Python 3",
   "language": "python",
   "name": "python3"
  },
  "language_info": {
   "codemirror_mode": {
    "name": "ipython",
    "version": 3
   },
   "file_extension": ".py",
   "mimetype": "text/x-python",
   "name": "python",
   "nbconvert_exporter": "python",
   "pygments_lexer": "ipython3",
   "version": "3.11.0"
  },
  "source_map": [
   12,
   16,
   28,
   34,
   38,
   45,
   49,
   52,
   56,
   58,
   62,
   67,
   75,
   80,
   90,
   96,
   117,
   135,
   150,
   154,
   166,
   172,
   178,
   182,
   195,
   201,
   223,
   229,
   235,
   245,
   251,
   265,
   267,
   273,
   283,
   287
  ]
 },
 "nbformat": 4,
 "nbformat_minor": 5
}